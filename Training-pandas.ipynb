{
 "cells": [
  {
   "cell_type": "code",
   "execution_count": 1,
   "id": "d562c8ad",
   "metadata": {},
   "outputs": [
    {
     "name": "stdout",
     "output_type": "stream",
     "text": [
      "Requirement already satisfied: watermark in c:\\users\\padrao\\anaconda3\\lib\\site-packages (2.4.2)\n",
      "Requirement already satisfied: ipython>=6.0 in c:\\users\\padrao\\anaconda3\\lib\\site-packages (from watermark) (7.31.1)\n",
      "Requirement already satisfied: setuptools in c:\\users\\padrao\\anaconda3\\lib\\site-packages (from watermark) (63.4.1)\n",
      "Requirement already satisfied: importlib-metadata>=1.4 in c:\\users\\padrao\\anaconda3\\lib\\site-packages (from watermark) (4.11.3)\n",
      "Requirement already satisfied: py3nvml>=0.2 in c:\\users\\padrao\\anaconda3\\lib\\site-packages (from watermark) (0.2.7)\n",
      "Requirement already satisfied: zipp>=0.5 in c:\\users\\padrao\\anaconda3\\lib\\site-packages (from importlib-metadata>=1.4->watermark) (3.8.0)\n",
      "Requirement already satisfied: prompt-toolkit!=3.0.0,!=3.0.1,<3.1.0,>=2.0.0 in c:\\users\\padrao\\anaconda3\\lib\\site-packages (from ipython>=6.0->watermark) (3.0.20)\n",
      "Requirement already satisfied: matplotlib-inline in c:\\users\\padrao\\anaconda3\\lib\\site-packages (from ipython>=6.0->watermark) (0.1.6)\n",
      "Requirement already satisfied: jedi>=0.16 in c:\\users\\padrao\\anaconda3\\lib\\site-packages (from ipython>=6.0->watermark) (0.18.1)\n",
      "Requirement already satisfied: traitlets>=4.2 in c:\\users\\padrao\\anaconda3\\lib\\site-packages (from ipython>=6.0->watermark) (5.1.1)\n",
      "Requirement already satisfied: colorama in c:\\users\\padrao\\anaconda3\\lib\\site-packages (from ipython>=6.0->watermark) (0.4.5)\n",
      "Requirement already satisfied: backcall in c:\\users\\padrao\\anaconda3\\lib\\site-packages (from ipython>=6.0->watermark) (0.2.0)\n",
      "Requirement already satisfied: decorator in c:\\users\\padrao\\anaconda3\\lib\\site-packages (from ipython>=6.0->watermark) (5.1.1)\n",
      "Requirement already satisfied: pygments in c:\\users\\padrao\\anaconda3\\lib\\site-packages (from ipython>=6.0->watermark) (2.11.2)\n",
      "Requirement already satisfied: pickleshare in c:\\users\\padrao\\anaconda3\\lib\\site-packages (from ipython>=6.0->watermark) (0.7.5)\n",
      "Requirement already satisfied: xmltodict in c:\\users\\padrao\\anaconda3\\lib\\site-packages (from py3nvml>=0.2->watermark) (0.13.0)\n",
      "Requirement already satisfied: parso<0.9.0,>=0.8.0 in c:\\users\\padrao\\anaconda3\\lib\\site-packages (from jedi>=0.16->ipython>=6.0->watermark) (0.8.3)\n",
      "Requirement already satisfied: wcwidth in c:\\users\\padrao\\anaconda3\\lib\\site-packages (from prompt-toolkit!=3.0.0,!=3.0.1,<3.1.0,>=2.0.0->ipython>=6.0->watermark) (0.2.5)\n"
     ]
    }
   ],
   "source": [
    "# Atualizando o pandas\n",
    "!pip install -U watermark"
   ]
  },
  {
   "cell_type": "code",
   "execution_count": 5,
   "id": "84dbbf50",
   "metadata": {},
   "outputs": [
    {
     "name": "stdout",
     "output_type": "stream",
     "text": [
      "Author: Alex Silva\n",
      "\n",
      "pandas: 1.5.3\n",
      "\n"
     ]
    }
   ],
   "source": [
    "# Versões dos pacotes usados neste jupyter notebook\n",
    "%reload_ext watermark\n",
    "%watermark -a \"Alex Silva\" --iversions"
   ]
  },
  {
   "cell_type": "code",
   "execution_count": 1,
   "id": "1ea54dd1",
   "metadata": {},
   "outputs": [],
   "source": [
    "import pandas as pd"
   ]
  },
  {
   "cell_type": "markdown",
   "id": "d148aef6",
   "metadata": {},
   "source": [
    "# DataFrame"
   ]
  },
  {
   "cell_type": "code",
   "execution_count": 6,
   "id": "9da1e27b",
   "metadata": {},
   "outputs": [],
   "source": [
    "# Carregando o arquivo do disco e armazenando como um dataframe\n",
    "df = pd.read_csv(\"dados/dataset1.csv\")"
   ]
  },
  {
   "cell_type": "code",
   "execution_count": 7,
   "id": "5f800690",
   "metadata": {},
   "outputs": [
    {
     "data": {
      "text/plain": [
       "pandas.core.frame.DataFrame"
      ]
     },
     "execution_count": 7,
     "metadata": {},
     "output_type": "execute_result"
    }
   ],
   "source": [
    "# Tipo de objeto\n",
    "type(df)"
   ]
  },
  {
   "cell_type": "code",
   "execution_count": 8,
   "id": "023ec6ce",
   "metadata": {},
   "outputs": [
    {
     "data": {
      "text/plain": [
       "(615, 6)"
      ]
     },
     "execution_count": 8,
     "metadata": {},
     "output_type": "execute_result"
    }
   ],
   "source": [
    "# Atributo shape\n",
    "df.shape"
   ]
  },
  {
   "cell_type": "code",
   "execution_count": 9,
   "id": "c9bea0bc",
   "metadata": {},
   "outputs": [
    {
     "data": {
      "text/plain": [
       "3690"
      ]
     },
     "execution_count": 9,
     "metadata": {},
     "output_type": "execute_result"
    }
   ],
   "source": [
    "# Atributo size(total de registros considerando cada coluna)\n",
    "df.size"
   ]
  },
  {
   "cell_type": "code",
   "execution_count": 10,
   "id": "908e951e",
   "metadata": {},
   "outputs": [
    {
     "data": {
      "text/html": [
       "<div>\n",
       "<style scoped>\n",
       "    .dataframe tbody tr th:only-of-type {\n",
       "        vertical-align: middle;\n",
       "    }\n",
       "\n",
       "    .dataframe tbody tr th {\n",
       "        vertical-align: top;\n",
       "    }\n",
       "\n",
       "    .dataframe thead th {\n",
       "        text-align: right;\n",
       "    }\n",
       "</style>\n",
       "<table border=\"1\" class=\"dataframe\">\n",
       "  <thead>\n",
       "    <tr style=\"text-align: right;\">\n",
       "      <th></th>\n",
       "      <th>club</th>\n",
       "      <th>last_name</th>\n",
       "      <th>first_name</th>\n",
       "      <th>position</th>\n",
       "      <th>base_salary</th>\n",
       "      <th>guaranteed_compensation</th>\n",
       "    </tr>\n",
       "  </thead>\n",
       "  <tbody>\n",
       "    <tr>\n",
       "      <th>0</th>\n",
       "      <td>ATL</td>\n",
       "      <td>Almiron</td>\n",
       "      <td>Miguel</td>\n",
       "      <td>M</td>\n",
       "      <td>1912500.0</td>\n",
       "      <td>2297000.00</td>\n",
       "    </tr>\n",
       "    <tr>\n",
       "      <th>1</th>\n",
       "      <td>ATL</td>\n",
       "      <td>Ambrose</td>\n",
       "      <td>Mikey</td>\n",
       "      <td>D</td>\n",
       "      <td>65625.0</td>\n",
       "      <td>65625.00</td>\n",
       "    </tr>\n",
       "    <tr>\n",
       "      <th>2</th>\n",
       "      <td>ATL</td>\n",
       "      <td>Asad</td>\n",
       "      <td>Yamil</td>\n",
       "      <td>M</td>\n",
       "      <td>150000.0</td>\n",
       "      <td>150000.00</td>\n",
       "    </tr>\n",
       "    <tr>\n",
       "      <th>3</th>\n",
       "      <td>ATL</td>\n",
       "      <td>Bloom</td>\n",
       "      <td>Mark</td>\n",
       "      <td>D</td>\n",
       "      <td>99225.0</td>\n",
       "      <td>106573.89</td>\n",
       "    </tr>\n",
       "    <tr>\n",
       "      <th>4</th>\n",
       "      <td>ATL</td>\n",
       "      <td>Carleton</td>\n",
       "      <td>Andrew</td>\n",
       "      <td>F</td>\n",
       "      <td>65000.0</td>\n",
       "      <td>77400.00</td>\n",
       "    </tr>\n",
       "    <tr>\n",
       "      <th>5</th>\n",
       "      <td>ATL</td>\n",
       "      <td>Carmona</td>\n",
       "      <td>Carlos</td>\n",
       "      <td>M</td>\n",
       "      <td>675000.0</td>\n",
       "      <td>725000.00</td>\n",
       "    </tr>\n",
       "    <tr>\n",
       "      <th>6</th>\n",
       "      <td>ATL</td>\n",
       "      <td>Garza</td>\n",
       "      <td>Greg</td>\n",
       "      <td>D</td>\n",
       "      <td>150000.0</td>\n",
       "      <td>150000.00</td>\n",
       "    </tr>\n",
       "    <tr>\n",
       "      <th>7</th>\n",
       "      <td>ATL</td>\n",
       "      <td>Gonzalez Pirez</td>\n",
       "      <td>Leandro</td>\n",
       "      <td>D</td>\n",
       "      <td>250008.0</td>\n",
       "      <td>285008.00</td>\n",
       "    </tr>\n",
       "    <tr>\n",
       "      <th>8</th>\n",
       "      <td>ATL</td>\n",
       "      <td>Goslin</td>\n",
       "      <td>Chris</td>\n",
       "      <td>M</td>\n",
       "      <td>70000.0</td>\n",
       "      <td>74000.00</td>\n",
       "    </tr>\n",
       "    <tr>\n",
       "      <th>9</th>\n",
       "      <td>ATL</td>\n",
       "      <td>Gressel</td>\n",
       "      <td>Julian</td>\n",
       "      <td>NaN</td>\n",
       "      <td>75000.0</td>\n",
       "      <td>93750.00</td>\n",
       "    </tr>\n",
       "  </tbody>\n",
       "</table>\n",
       "</div>"
      ],
      "text/plain": [
       "  club       last_name first_name position  base_salary  \\\n",
       "0  ATL         Almiron     Miguel        M    1912500.0   \n",
       "1  ATL         Ambrose      Mikey        D      65625.0   \n",
       "2  ATL            Asad      Yamil        M     150000.0   \n",
       "3  ATL           Bloom       Mark        D      99225.0   \n",
       "4  ATL        Carleton     Andrew        F      65000.0   \n",
       "5  ATL         Carmona     Carlos        M     675000.0   \n",
       "6  ATL           Garza       Greg        D     150000.0   \n",
       "7  ATL  Gonzalez Pirez    Leandro        D     250008.0   \n",
       "8  ATL          Goslin      Chris        M      70000.0   \n",
       "9  ATL         Gressel     Julian      NaN      75000.0   \n",
       "\n",
       "   guaranteed_compensation  \n",
       "0               2297000.00  \n",
       "1                 65625.00  \n",
       "2                150000.00  \n",
       "3                106573.89  \n",
       "4                 77400.00  \n",
       "5                725000.00  \n",
       "6                150000.00  \n",
       "7                285008.00  \n",
       "8                 74000.00  \n",
       "9                 93750.00  "
      ]
     },
     "execution_count": 10,
     "metadata": {},
     "output_type": "execute_result"
    }
   ],
   "source": [
    "# Metodo head()\n",
    "df.head(10)"
   ]
  },
  {
   "cell_type": "code",
   "execution_count": 11,
   "id": "0a8148b9",
   "metadata": {},
   "outputs": [
    {
     "data": {
      "text/html": [
       "<div>\n",
       "<style scoped>\n",
       "    .dataframe tbody tr th:only-of-type {\n",
       "        vertical-align: middle;\n",
       "    }\n",
       "\n",
       "    .dataframe tbody tr th {\n",
       "        vertical-align: top;\n",
       "    }\n",
       "\n",
       "    .dataframe thead th {\n",
       "        text-align: right;\n",
       "    }\n",
       "</style>\n",
       "<table border=\"1\" class=\"dataframe\">\n",
       "  <thead>\n",
       "    <tr style=\"text-align: right;\">\n",
       "      <th></th>\n",
       "      <th>club</th>\n",
       "      <th>last_name</th>\n",
       "      <th>first_name</th>\n",
       "      <th>position</th>\n",
       "      <th>base_salary</th>\n",
       "      <th>guaranteed_compensation</th>\n",
       "    </tr>\n",
       "  </thead>\n",
       "  <tbody>\n",
       "    <tr>\n",
       "      <th>605</th>\n",
       "      <td>VAN</td>\n",
       "      <td>Rosales</td>\n",
       "      <td>Mauro</td>\n",
       "      <td>M</td>\n",
       "      <td>65004.0</td>\n",
       "      <td>65004.00</td>\n",
       "    </tr>\n",
       "    <tr>\n",
       "      <th>606</th>\n",
       "      <td>VAN</td>\n",
       "      <td>Seiler</td>\n",
       "      <td>Cole</td>\n",
       "      <td>D</td>\n",
       "      <td>54075.0</td>\n",
       "      <td>54075.00</td>\n",
       "    </tr>\n",
       "    <tr>\n",
       "      <th>607</th>\n",
       "      <td>VAN</td>\n",
       "      <td>Shea</td>\n",
       "      <td>Brek</td>\n",
       "      <td>M-D</td>\n",
       "      <td>625000.0</td>\n",
       "      <td>670000.00</td>\n",
       "    </tr>\n",
       "    <tr>\n",
       "      <th>608</th>\n",
       "      <td>VAN</td>\n",
       "      <td>Tchani</td>\n",
       "      <td>Tony</td>\n",
       "      <td>M</td>\n",
       "      <td>275000.0</td>\n",
       "      <td>308333.33</td>\n",
       "    </tr>\n",
       "    <tr>\n",
       "      <th>609</th>\n",
       "      <td>VAN</td>\n",
       "      <td>Techera</td>\n",
       "      <td>Cristian</td>\n",
       "      <td>M</td>\n",
       "      <td>352000.0</td>\n",
       "      <td>377000.00</td>\n",
       "    </tr>\n",
       "    <tr>\n",
       "      <th>610</th>\n",
       "      <td>VAN</td>\n",
       "      <td>Teibert</td>\n",
       "      <td>Russell</td>\n",
       "      <td>M</td>\n",
       "      <td>126500.0</td>\n",
       "      <td>194000.00</td>\n",
       "    </tr>\n",
       "    <tr>\n",
       "      <th>611</th>\n",
       "      <td>VAN</td>\n",
       "      <td>Tornaghi</td>\n",
       "      <td>Paolo</td>\n",
       "      <td>GK</td>\n",
       "      <td>80000.0</td>\n",
       "      <td>80000.00</td>\n",
       "    </tr>\n",
       "    <tr>\n",
       "      <th>612</th>\n",
       "      <td>VAN</td>\n",
       "      <td>Waston</td>\n",
       "      <td>Kendall</td>\n",
       "      <td>D</td>\n",
       "      <td>350000.0</td>\n",
       "      <td>368125.00</td>\n",
       "    </tr>\n",
       "    <tr>\n",
       "      <th>613</th>\n",
       "      <td>NaN</td>\n",
       "      <td>NaN</td>\n",
       "      <td>NaN</td>\n",
       "      <td>NaN</td>\n",
       "      <td>NaN</td>\n",
       "      <td>NaN</td>\n",
       "    </tr>\n",
       "    <tr>\n",
       "      <th>614</th>\n",
       "      <td>VAN</td>\n",
       "      <td>Williams</td>\n",
       "      <td>Sheanon</td>\n",
       "      <td>D</td>\n",
       "      <td>175000.0</td>\n",
       "      <td>184000.00</td>\n",
       "    </tr>\n",
       "  </tbody>\n",
       "</table>\n",
       "</div>"
      ],
      "text/plain": [
       "    club last_name first_name position  base_salary  guaranteed_compensation\n",
       "605  VAN   Rosales      Mauro        M      65004.0                 65004.00\n",
       "606  VAN    Seiler       Cole        D      54075.0                 54075.00\n",
       "607  VAN      Shea       Brek      M-D     625000.0                670000.00\n",
       "608  VAN    Tchani       Tony        M     275000.0                308333.33\n",
       "609  VAN   Techera   Cristian        M     352000.0                377000.00\n",
       "610  VAN   Teibert    Russell        M     126500.0                194000.00\n",
       "611  VAN  Tornaghi      Paolo       GK      80000.0                 80000.00\n",
       "612  VAN    Waston    Kendall        D     350000.0                368125.00\n",
       "613  NaN       NaN        NaN      NaN          NaN                      NaN\n",
       "614  VAN  Williams    Sheanon        D     175000.0                184000.00"
      ]
     },
     "execution_count": 11,
     "metadata": {},
     "output_type": "execute_result"
    }
   ],
   "source": [
    "# Metodo taiil()\n",
    "df.tail(10)"
   ]
  },
  {
   "cell_type": "code",
   "execution_count": 12,
   "id": "d6365205",
   "metadata": {},
   "outputs": [
    {
     "name": "stdout",
     "output_type": "stream",
     "text": [
      "<class 'pandas.core.frame.DataFrame'>\n",
      "RangeIndex: 615 entries, 0 to 614\n",
      "Data columns (total 6 columns):\n",
      " #   Column                   Non-Null Count  Dtype  \n",
      "---  ------                   --------------  -----  \n",
      " 0   club                     614 non-null    object \n",
      " 1   last_name                614 non-null    object \n",
      " 2   first_name               610 non-null    object \n",
      " 3   position                 604 non-null    object \n",
      " 4   base_salary              614 non-null    float64\n",
      " 5   guaranteed_compensation  614 non-null    float64\n",
      "dtypes: float64(2), object(4)\n",
      "memory usage: 29.0+ KB\n"
     ]
    }
   ],
   "source": [
    "# Metodo info()\n",
    "df.info()"
   ]
  },
  {
   "cell_type": "code",
   "execution_count": 14,
   "id": "6aff0be9",
   "metadata": {},
   "outputs": [
    {
     "data": {
      "text/html": [
       "<div>\n",
       "<style scoped>\n",
       "    .dataframe tbody tr th:only-of-type {\n",
       "        vertical-align: middle;\n",
       "    }\n",
       "\n",
       "    .dataframe tbody tr th {\n",
       "        vertical-align: top;\n",
       "    }\n",
       "\n",
       "    .dataframe thead th {\n",
       "        text-align: right;\n",
       "    }\n",
       "</style>\n",
       "<table border=\"1\" class=\"dataframe\">\n",
       "  <thead>\n",
       "    <tr style=\"text-align: right;\">\n",
       "      <th></th>\n",
       "      <th>base_salary</th>\n",
       "      <th>guaranteed_compensation</th>\n",
       "    </tr>\n",
       "  </thead>\n",
       "  <tbody>\n",
       "    <tr>\n",
       "      <th>count</th>\n",
       "      <td>6.140000e+02</td>\n",
       "      <td>6.140000e+02</td>\n",
       "    </tr>\n",
       "    <tr>\n",
       "      <th>mean</th>\n",
       "      <td>2.971730e+05</td>\n",
       "      <td>3.263752e+05</td>\n",
       "    </tr>\n",
       "    <tr>\n",
       "      <th>std</th>\n",
       "      <td>6.725839e+05</td>\n",
       "      <td>7.491217e+05</td>\n",
       "    </tr>\n",
       "    <tr>\n",
       "      <th>min</th>\n",
       "      <td>5.299992e+04</td>\n",
       "      <td>5.299992e+04</td>\n",
       "    </tr>\n",
       "    <tr>\n",
       "      <th>25%</th>\n",
       "      <td>6.563340e+04</td>\n",
       "      <td>7.003035e+04</td>\n",
       "    </tr>\n",
       "    <tr>\n",
       "      <th>50%</th>\n",
       "      <td>1.250000e+05</td>\n",
       "      <td>1.350020e+05</td>\n",
       "    </tr>\n",
       "    <tr>\n",
       "      <th>75%</th>\n",
       "      <td>2.550000e+05</td>\n",
       "      <td>2.798750e+05</td>\n",
       "    </tr>\n",
       "    <tr>\n",
       "      <th>max</th>\n",
       "      <td>6.660000e+06</td>\n",
       "      <td>7.167500e+06</td>\n",
       "    </tr>\n",
       "  </tbody>\n",
       "</table>\n",
       "</div>"
      ],
      "text/plain": [
       "        base_salary  guaranteed_compensation\n",
       "count  6.140000e+02             6.140000e+02\n",
       "mean   2.971730e+05             3.263752e+05\n",
       "std    6.725839e+05             7.491217e+05\n",
       "min    5.299992e+04             5.299992e+04\n",
       "25%    6.563340e+04             7.003035e+04\n",
       "50%    1.250000e+05             1.350020e+05\n",
       "75%    2.550000e+05             2.798750e+05\n",
       "max    6.660000e+06             7.167500e+06"
      ]
     },
     "execution_count": 14,
     "metadata": {},
     "output_type": "execute_result"
    }
   ],
   "source": [
    "# Metodo describe()\n",
    "df.describe()"
   ]
  },
  {
   "cell_type": "code",
   "execution_count": 15,
   "id": "b49aba6b",
   "metadata": {},
   "outputs": [
    {
     "data": {
      "text/plain": [
       "count     614\n",
       "unique     23\n",
       "top       VAN\n",
       "freq       32\n",
       "Name: club, dtype: object"
      ]
     },
     "execution_count": 15,
     "metadata": {},
     "output_type": "execute_result"
    }
   ],
   "source": [
    "# Metodo describe()para uma coluna\n",
    "df.club.describe()"
   ]
  },
  {
   "cell_type": "code",
   "execution_count": 16,
   "id": "9c40548b",
   "metadata": {},
   "outputs": [
    {
     "data": {
      "text/plain": [
       "club  last_name  first_name  position  base_salary  guaranteed_compensation\n",
       "ATL   Almiron    Miguel      M         1912500.0    2297000.0                  1\n",
       "ORL   Perez      Matias      F         260004.0     260004.0                   1\n",
       "      Redding    Tommy       D         110000.0     117500.0                   1\n",
       "      Rivas      Carlos      M         375000.0     375000.0                   1\n",
       "      Rocha      Tony        M         65620.8      65620.8                    1\n",
       "                                                                              ..\n",
       "KC    Iwasa      Cameron     F         53004.0      53004.0                    1\n",
       "      Juliao     Igor        D         100008.0     115008.0                   1\n",
       "      Medranda   Jimmy       D         130008.0     130008.0                   1\n",
       "      Melia      Tim         GK        165000.0     167500.0                   1\n",
       "VAN   de Jong    Marcel      D-M       140000.0     140000.0                   1\n",
       "Length: 600, dtype: int64"
      ]
     },
     "execution_count": 16,
     "metadata": {},
     "output_type": "execute_result"
    }
   ],
   "source": [
    "# Metodo value_counts()\n",
    "df.value_counts()"
   ]
  },
  {
   "cell_type": "code",
   "execution_count": 17,
   "id": "9e0ad589",
   "metadata": {},
   "outputs": [
    {
     "data": {
      "text/plain": [
       "object     4\n",
       "float64    2\n",
       "dtype: int64"
      ]
     },
     "execution_count": 17,
     "metadata": {},
     "output_type": "execute_result"
    }
   ],
   "source": [
    "# Metodo value_counts() para cada tipo de dado\n",
    "df.dtypes.value_counts()"
   ]
  },
  {
   "cell_type": "code",
   "execution_count": 19,
   "id": "de69e97e",
   "metadata": {},
   "outputs": [
    {
     "data": {
      "text/plain": [
       "VAN      32\n",
       "PHI      31\n",
       "ATL      31\n",
       "CLB      30\n",
       "ORL      30\n",
       "DAL      29\n",
       "SJ       29\n",
       "NYCFC    28\n",
       "HOU      28\n",
       "NYRB     28\n",
       "TOR      27\n",
       "RSL      27\n",
       "POR      27\n",
       "MTL      27\n",
       "CHI      27\n",
       "MNUFC    27\n",
       "LA       27\n",
       "DC       27\n",
       "KC       26\n",
       "COL      26\n",
       "SEA      25\n",
       "NE       23\n",
       "LAFC      2\n",
       "Name: club, dtype: int64"
      ]
     },
     "execution_count": 19,
     "metadata": {},
     "output_type": "execute_result"
    }
   ],
   "source": [
    "# Metodo value_counts()para cada tipo de coluna\n",
    "df.club.value_counts()"
   ]
  },
  {
   "cell_type": "code",
   "execution_count": 20,
   "id": "d88af127",
   "metadata": {},
   "outputs": [
    {
     "data": {
      "text/plain": [
       "0      ATL\n",
       "1      ATL\n",
       "2      ATL\n",
       "3      ATL\n",
       "4      ATL\n",
       "      ... \n",
       "610    VAN\n",
       "611    VAN\n",
       "612    VAN\n",
       "613    NaN\n",
       "614    VAN\n",
       "Name: club, Length: 615, dtype: object"
      ]
     },
     "execution_count": 20,
     "metadata": {},
     "output_type": "execute_result"
    }
   ],
   "source": [
    "# Extrai os dados de uma coluna\n",
    "df.club"
   ]
  },
  {
   "cell_type": "code",
   "execution_count": 21,
   "id": "20a57a64",
   "metadata": {},
   "outputs": [
    {
     "data": {
      "text/plain": [
       "0      ATL\n",
       "1      ATL\n",
       "2      ATL\n",
       "3      ATL\n",
       "4      ATL\n",
       "      ... \n",
       "610    VAN\n",
       "611    VAN\n",
       "612    VAN\n",
       "613    NaN\n",
       "614    VAN\n",
       "Name: club, Length: 615, dtype: object"
      ]
     },
     "execution_count": 21,
     "metadata": {},
     "output_type": "execute_result"
    }
   ],
   "source": [
    "# Extraindo os dados de uma coluna com slicing\n",
    "df['club']"
   ]
  },
  {
   "cell_type": "code",
   "execution_count": 22,
   "id": "1093c203",
   "metadata": {},
   "outputs": [
    {
     "data": {
      "text/plain": [
       "0    ATL\n",
       "1    ATL\n",
       "2    ATL\n",
       "3    ATL\n",
       "4    ATL\n",
       "5    ATL\n",
       "6    ATL\n",
       "7    ATL\n",
       "8    ATL\n",
       "9    ATL\n",
       "Name: club, dtype: object"
      ]
     },
     "execution_count": 22,
     "metadata": {},
     "output_type": "execute_result"
    }
   ],
   "source": [
    "df['club'].head(10)"
   ]
  },
  {
   "cell_type": "code",
   "execution_count": 23,
   "id": "e80ac69c",
   "metadata": {},
   "outputs": [
    {
     "data": {
      "text/plain": [
       "dtype('O')"
      ]
     },
     "execution_count": 23,
     "metadata": {},
     "output_type": "execute_result"
    }
   ],
   "source": [
    "df['club'].dtypes"
   ]
  },
  {
   "cell_type": "code",
   "execution_count": 24,
   "id": "d33f22db",
   "metadata": {},
   "outputs": [
    {
     "data": {
      "text/plain": [
       "pandas.core.series.Series"
      ]
     },
     "execution_count": 24,
     "metadata": {},
     "output_type": "execute_result"
    }
   ],
   "source": [
    "# Tipo de dado numa coluna\n",
    "type(df['club'])"
   ]
  },
  {
   "cell_type": "markdown",
   "id": "bf7fa65c",
   "metadata": {},
   "source": [
    "## Manipulação no Nível de Coluna e Refatoração"
   ]
  },
  {
   "cell_type": "code",
   "execution_count": 26,
   "id": "7647c36c",
   "metadata": {},
   "outputs": [
    {
     "data": {
      "text/html": [
       "<div>\n",
       "<style scoped>\n",
       "    .dataframe tbody tr th:only-of-type {\n",
       "        vertical-align: middle;\n",
       "    }\n",
       "\n",
       "    .dataframe tbody tr th {\n",
       "        vertical-align: top;\n",
       "    }\n",
       "\n",
       "    .dataframe thead th {\n",
       "        text-align: right;\n",
       "    }\n",
       "</style>\n",
       "<table border=\"1\" class=\"dataframe\">\n",
       "  <thead>\n",
       "    <tr style=\"text-align: right;\">\n",
       "      <th></th>\n",
       "      <th>club</th>\n",
       "      <th>last_name</th>\n",
       "      <th>first_name</th>\n",
       "      <th>position</th>\n",
       "      <th>base_salary</th>\n",
       "      <th>guaranteed_compensation</th>\n",
       "    </tr>\n",
       "  </thead>\n",
       "  <tbody>\n",
       "    <tr>\n",
       "      <th>0</th>\n",
       "      <td>ATL</td>\n",
       "      <td>Almiron</td>\n",
       "      <td>Miguel</td>\n",
       "      <td>M</td>\n",
       "      <td>1912500.0</td>\n",
       "      <td>2297000.00</td>\n",
       "    </tr>\n",
       "    <tr>\n",
       "      <th>1</th>\n",
       "      <td>ATL</td>\n",
       "      <td>Ambrose</td>\n",
       "      <td>Mikey</td>\n",
       "      <td>D</td>\n",
       "      <td>65625.0</td>\n",
       "      <td>65625.00</td>\n",
       "    </tr>\n",
       "    <tr>\n",
       "      <th>2</th>\n",
       "      <td>ATL</td>\n",
       "      <td>Asad</td>\n",
       "      <td>Yamil</td>\n",
       "      <td>M</td>\n",
       "      <td>150000.0</td>\n",
       "      <td>150000.00</td>\n",
       "    </tr>\n",
       "    <tr>\n",
       "      <th>3</th>\n",
       "      <td>ATL</td>\n",
       "      <td>Bloom</td>\n",
       "      <td>Mark</td>\n",
       "      <td>D</td>\n",
       "      <td>99225.0</td>\n",
       "      <td>106573.89</td>\n",
       "    </tr>\n",
       "    <tr>\n",
       "      <th>4</th>\n",
       "      <td>ATL</td>\n",
       "      <td>Carleton</td>\n",
       "      <td>Andrew</td>\n",
       "      <td>F</td>\n",
       "      <td>65000.0</td>\n",
       "      <td>77400.00</td>\n",
       "    </tr>\n",
       "  </tbody>\n",
       "</table>\n",
       "</div>"
      ],
      "text/plain": [
       "  club last_name first_name position  base_salary  guaranteed_compensation\n",
       "0  ATL   Almiron     Miguel        M    1912500.0               2297000.00\n",
       "1  ATL   Ambrose      Mikey        D      65625.0                 65625.00\n",
       "2  ATL      Asad      Yamil        M     150000.0                150000.00\n",
       "3  ATL     Bloom       Mark        D      99225.0                106573.89\n",
       "4  ATL  Carleton     Andrew        F      65000.0                 77400.00"
      ]
     },
     "execution_count": 26,
     "metadata": {},
     "output_type": "execute_result"
    }
   ],
   "source": [
    "df.head()"
   ]
  },
  {
   "cell_type": "code",
   "execution_count": 27,
   "id": "bf32a8e4",
   "metadata": {},
   "outputs": [
    {
     "data": {
      "text/html": [
       "<div>\n",
       "<style scoped>\n",
       "    .dataframe tbody tr th:only-of-type {\n",
       "        vertical-align: middle;\n",
       "    }\n",
       "\n",
       "    .dataframe tbody tr th {\n",
       "        vertical-align: top;\n",
       "    }\n",
       "\n",
       "    .dataframe thead th {\n",
       "        text-align: right;\n",
       "    }\n",
       "</style>\n",
       "<table border=\"1\" class=\"dataframe\">\n",
       "  <thead>\n",
       "    <tr style=\"text-align: right;\">\n",
       "      <th></th>\n",
       "      <th>club</th>\n",
       "      <th>last_name</th>\n",
       "      <th>first_name</th>\n",
       "      <th>position</th>\n",
       "      <th>base_salary</th>\n",
       "      <th>guaranteed_compensation</th>\n",
       "    </tr>\n",
       "  </thead>\n",
       "  <tbody>\n",
       "    <tr>\n",
       "      <th>0</th>\n",
       "      <td>ATL</td>\n",
       "      <td>Almiron</td>\n",
       "      <td>Miguel</td>\n",
       "      <td>M</td>\n",
       "      <td>1912500.0</td>\n",
       "      <td>2297000.00</td>\n",
       "    </tr>\n",
       "    <tr>\n",
       "      <th>1</th>\n",
       "      <td>ATL</td>\n",
       "      <td>Ambrose</td>\n",
       "      <td>Mikey</td>\n",
       "      <td>D</td>\n",
       "      <td>65625.0</td>\n",
       "      <td>65625.00</td>\n",
       "    </tr>\n",
       "    <tr>\n",
       "      <th>2</th>\n",
       "      <td>ATL</td>\n",
       "      <td>Asad</td>\n",
       "      <td>Yamil</td>\n",
       "      <td>M</td>\n",
       "      <td>150000.0</td>\n",
       "      <td>150000.00</td>\n",
       "    </tr>\n",
       "    <tr>\n",
       "      <th>3</th>\n",
       "      <td>ATL</td>\n",
       "      <td>Bloom</td>\n",
       "      <td>Mark</td>\n",
       "      <td>D</td>\n",
       "      <td>99225.0</td>\n",
       "      <td>106573.89</td>\n",
       "    </tr>\n",
       "    <tr>\n",
       "      <th>4</th>\n",
       "      <td>ATL</td>\n",
       "      <td>Carleton</td>\n",
       "      <td>Andrew</td>\n",
       "      <td>F</td>\n",
       "      <td>65000.0</td>\n",
       "      <td>77400.00</td>\n",
       "    </tr>\n",
       "    <tr>\n",
       "      <th>...</th>\n",
       "      <td>...</td>\n",
       "      <td>...</td>\n",
       "      <td>...</td>\n",
       "      <td>...</td>\n",
       "      <td>...</td>\n",
       "      <td>...</td>\n",
       "    </tr>\n",
       "    <tr>\n",
       "      <th>610</th>\n",
       "      <td>VAN</td>\n",
       "      <td>Teibert</td>\n",
       "      <td>Russell</td>\n",
       "      <td>M</td>\n",
       "      <td>126500.0</td>\n",
       "      <td>194000.00</td>\n",
       "    </tr>\n",
       "    <tr>\n",
       "      <th>611</th>\n",
       "      <td>VAN</td>\n",
       "      <td>Tornaghi</td>\n",
       "      <td>Paolo</td>\n",
       "      <td>GK</td>\n",
       "      <td>80000.0</td>\n",
       "      <td>80000.00</td>\n",
       "    </tr>\n",
       "    <tr>\n",
       "      <th>612</th>\n",
       "      <td>VAN</td>\n",
       "      <td>Waston</td>\n",
       "      <td>Kendall</td>\n",
       "      <td>D</td>\n",
       "      <td>350000.0</td>\n",
       "      <td>368125.00</td>\n",
       "    </tr>\n",
       "    <tr>\n",
       "      <th>613</th>\n",
       "      <td>NaN</td>\n",
       "      <td>NaN</td>\n",
       "      <td>NaN</td>\n",
       "      <td>NaN</td>\n",
       "      <td>NaN</td>\n",
       "      <td>NaN</td>\n",
       "    </tr>\n",
       "    <tr>\n",
       "      <th>614</th>\n",
       "      <td>VAN</td>\n",
       "      <td>Williams</td>\n",
       "      <td>Sheanon</td>\n",
       "      <td>D</td>\n",
       "      <td>175000.0</td>\n",
       "      <td>184000.00</td>\n",
       "    </tr>\n",
       "  </tbody>\n",
       "</table>\n",
       "<p>615 rows × 6 columns</p>\n",
       "</div>"
      ],
      "text/plain": [
       "    club last_name first_name position  base_salary  guaranteed_compensation\n",
       "0    ATL   Almiron     Miguel        M    1912500.0               2297000.00\n",
       "1    ATL   Ambrose      Mikey        D      65625.0                 65625.00\n",
       "2    ATL      Asad      Yamil        M     150000.0                150000.00\n",
       "3    ATL     Bloom       Mark        D      99225.0                106573.89\n",
       "4    ATL  Carleton     Andrew        F      65000.0                 77400.00\n",
       "..   ...       ...        ...      ...          ...                      ...\n",
       "610  VAN   Teibert    Russell        M     126500.0                194000.00\n",
       "611  VAN  Tornaghi      Paolo       GK      80000.0                 80000.00\n",
       "612  VAN    Waston    Kendall        D     350000.0                368125.00\n",
       "613  NaN       NaN        NaN      NaN          NaN                      NaN\n",
       "614  VAN  Williams    Sheanon        D     175000.0                184000.00\n",
       "\n",
       "[615 rows x 6 columns]"
      ]
     },
     "metadata": {},
     "output_type": "display_data"
    }
   ],
   "source": [
    "display(df)"
   ]
  },
  {
   "cell_type": "code",
   "execution_count": 30,
   "id": "c54f3d0a",
   "metadata": {},
   "outputs": [
    {
     "data": {
      "text/plain": [
       "0       Miguel\n",
       "1        Mikey\n",
       "2        Yamil\n",
       "3         Mark\n",
       "4       Andrew\n",
       "        ...   \n",
       "610    Russell\n",
       "611      Paolo\n",
       "612    Kendall\n",
       "613        NaN\n",
       "614    Sheanon\n",
       "Name: first_name, Length: 615, dtype: object"
      ]
     },
     "execution_count": 30,
     "metadata": {},
     "output_type": "execute_result"
    }
   ],
   "source": [
    "# Extraindo dados e uma coluna\n",
    "df['first_name']"
   ]
  },
  {
   "cell_type": "code",
   "execution_count": 32,
   "id": "7c503965",
   "metadata": {},
   "outputs": [
    {
     "data": {
      "text/html": [
       "<div>\n",
       "<style scoped>\n",
       "    .dataframe tbody tr th:only-of-type {\n",
       "        vertical-align: middle;\n",
       "    }\n",
       "\n",
       "    .dataframe tbody tr th {\n",
       "        vertical-align: top;\n",
       "    }\n",
       "\n",
       "    .dataframe thead th {\n",
       "        text-align: right;\n",
       "    }\n",
       "</style>\n",
       "<table border=\"1\" class=\"dataframe\">\n",
       "  <thead>\n",
       "    <tr style=\"text-align: right;\">\n",
       "      <th></th>\n",
       "      <th>first_name</th>\n",
       "      <th>last_name</th>\n",
       "    </tr>\n",
       "  </thead>\n",
       "  <tbody>\n",
       "    <tr>\n",
       "      <th>0</th>\n",
       "      <td>Miguel</td>\n",
       "      <td>Almiron</td>\n",
       "    </tr>\n",
       "    <tr>\n",
       "      <th>1</th>\n",
       "      <td>Mikey</td>\n",
       "      <td>Ambrose</td>\n",
       "    </tr>\n",
       "    <tr>\n",
       "      <th>2</th>\n",
       "      <td>Yamil</td>\n",
       "      <td>Asad</td>\n",
       "    </tr>\n",
       "    <tr>\n",
       "      <th>3</th>\n",
       "      <td>Mark</td>\n",
       "      <td>Bloom</td>\n",
       "    </tr>\n",
       "    <tr>\n",
       "      <th>4</th>\n",
       "      <td>Andrew</td>\n",
       "      <td>Carleton</td>\n",
       "    </tr>\n",
       "    <tr>\n",
       "      <th>...</th>\n",
       "      <td>...</td>\n",
       "      <td>...</td>\n",
       "    </tr>\n",
       "    <tr>\n",
       "      <th>610</th>\n",
       "      <td>Russell</td>\n",
       "      <td>Teibert</td>\n",
       "    </tr>\n",
       "    <tr>\n",
       "      <th>611</th>\n",
       "      <td>Paolo</td>\n",
       "      <td>Tornaghi</td>\n",
       "    </tr>\n",
       "    <tr>\n",
       "      <th>612</th>\n",
       "      <td>Kendall</td>\n",
       "      <td>Waston</td>\n",
       "    </tr>\n",
       "    <tr>\n",
       "      <th>613</th>\n",
       "      <td>NaN</td>\n",
       "      <td>NaN</td>\n",
       "    </tr>\n",
       "    <tr>\n",
       "      <th>614</th>\n",
       "      <td>Sheanon</td>\n",
       "      <td>Williams</td>\n",
       "    </tr>\n",
       "  </tbody>\n",
       "</table>\n",
       "<p>615 rows × 2 columns</p>\n",
       "</div>"
      ],
      "text/plain": [
       "    first_name last_name\n",
       "0       Miguel   Almiron\n",
       "1        Mikey   Ambrose\n",
       "2        Yamil      Asad\n",
       "3         Mark     Bloom\n",
       "4       Andrew  Carleton\n",
       "..         ...       ...\n",
       "610    Russell   Teibert\n",
       "611      Paolo  Tornaghi\n",
       "612    Kendall    Waston\n",
       "613        NaN       NaN\n",
       "614    Sheanon  Williams\n",
       "\n",
       "[615 rows x 2 columns]"
      ]
     },
     "execution_count": 32,
     "metadata": {},
     "output_type": "execute_result"
    }
   ],
   "source": [
    "# Extraindo dados de 2 colunas - passar as colunas como uma lista \n",
    "df[['first_name', 'last_name']]\n"
   ]
  },
  {
   "cell_type": "code",
   "execution_count": 33,
   "id": "95c633bc",
   "metadata": {},
   "outputs": [
    {
     "data": {
      "text/html": [
       "<div>\n",
       "<style scoped>\n",
       "    .dataframe tbody tr th:only-of-type {\n",
       "        vertical-align: middle;\n",
       "    }\n",
       "\n",
       "    .dataframe tbody tr th {\n",
       "        vertical-align: top;\n",
       "    }\n",
       "\n",
       "    .dataframe thead th {\n",
       "        text-align: right;\n",
       "    }\n",
       "</style>\n",
       "<table border=\"1\" class=\"dataframe\">\n",
       "  <thead>\n",
       "    <tr style=\"text-align: right;\">\n",
       "      <th></th>\n",
       "      <th>first_name</th>\n",
       "      <th>last_name</th>\n",
       "    </tr>\n",
       "  </thead>\n",
       "  <tbody>\n",
       "    <tr>\n",
       "      <th>0</th>\n",
       "      <td>Miguel</td>\n",
       "      <td>Almiron</td>\n",
       "    </tr>\n",
       "    <tr>\n",
       "      <th>1</th>\n",
       "      <td>Mikey</td>\n",
       "      <td>Ambrose</td>\n",
       "    </tr>\n",
       "    <tr>\n",
       "      <th>2</th>\n",
       "      <td>Yamil</td>\n",
       "      <td>Asad</td>\n",
       "    </tr>\n",
       "    <tr>\n",
       "      <th>3</th>\n",
       "      <td>Mark</td>\n",
       "      <td>Bloom</td>\n",
       "    </tr>\n",
       "    <tr>\n",
       "      <th>4</th>\n",
       "      <td>Andrew</td>\n",
       "      <td>Carleton</td>\n",
       "    </tr>\n",
       "  </tbody>\n",
       "</table>\n",
       "</div>"
      ],
      "text/plain": [
       "  first_name last_name\n",
       "0     Miguel   Almiron\n",
       "1      Mikey   Ambrose\n",
       "2      Yamil      Asad\n",
       "3       Mark     Bloom\n",
       "4     Andrew  Carleton"
      ]
     },
     "execution_count": 33,
     "metadata": {},
     "output_type": "execute_result"
    }
   ],
   "source": [
    "# Podemos usar metodos com o resultado do slicing\n",
    "df[['first_name', 'last_name']].head()\n"
   ]
  },
  {
   "cell_type": "code",
   "execution_count": 34,
   "id": "25c3fec2",
   "metadata": {},
   "outputs": [
    {
     "data": {
      "text/html": [
       "<div>\n",
       "<style scoped>\n",
       "    .dataframe tbody tr th:only-of-type {\n",
       "        vertical-align: middle;\n",
       "    }\n",
       "\n",
       "    .dataframe tbody tr th {\n",
       "        vertical-align: top;\n",
       "    }\n",
       "\n",
       "    .dataframe thead th {\n",
       "        text-align: right;\n",
       "    }\n",
       "</style>\n",
       "<table border=\"1\" class=\"dataframe\">\n",
       "  <thead>\n",
       "    <tr style=\"text-align: right;\">\n",
       "      <th></th>\n",
       "      <th>base_salary</th>\n",
       "      <th>guaranteed_compensation</th>\n",
       "    </tr>\n",
       "  </thead>\n",
       "  <tbody>\n",
       "    <tr>\n",
       "      <th>count</th>\n",
       "      <td>6.140000e+02</td>\n",
       "      <td>6.140000e+02</td>\n",
       "    </tr>\n",
       "    <tr>\n",
       "      <th>mean</th>\n",
       "      <td>2.971730e+05</td>\n",
       "      <td>3.263752e+05</td>\n",
       "    </tr>\n",
       "    <tr>\n",
       "      <th>std</th>\n",
       "      <td>6.725839e+05</td>\n",
       "      <td>7.491217e+05</td>\n",
       "    </tr>\n",
       "    <tr>\n",
       "      <th>min</th>\n",
       "      <td>5.299992e+04</td>\n",
       "      <td>5.299992e+04</td>\n",
       "    </tr>\n",
       "    <tr>\n",
       "      <th>25%</th>\n",
       "      <td>6.563340e+04</td>\n",
       "      <td>7.003035e+04</td>\n",
       "    </tr>\n",
       "    <tr>\n",
       "      <th>50%</th>\n",
       "      <td>1.250000e+05</td>\n",
       "      <td>1.350020e+05</td>\n",
       "    </tr>\n",
       "    <tr>\n",
       "      <th>75%</th>\n",
       "      <td>2.550000e+05</td>\n",
       "      <td>2.798750e+05</td>\n",
       "    </tr>\n",
       "    <tr>\n",
       "      <th>max</th>\n",
       "      <td>6.660000e+06</td>\n",
       "      <td>7.167500e+06</td>\n",
       "    </tr>\n",
       "  </tbody>\n",
       "</table>\n",
       "</div>"
      ],
      "text/plain": [
       "        base_salary  guaranteed_compensation\n",
       "count  6.140000e+02             6.140000e+02\n",
       "mean   2.971730e+05             3.263752e+05\n",
       "std    6.725839e+05             7.491217e+05\n",
       "min    5.299992e+04             5.299992e+04\n",
       "25%    6.563340e+04             7.003035e+04\n",
       "50%    1.250000e+05             1.350020e+05\n",
       "75%    2.550000e+05             2.798750e+05\n",
       "max    6.660000e+06             7.167500e+06"
      ]
     },
     "execution_count": 34,
     "metadata": {},
     "output_type": "execute_result"
    }
   ],
   "source": [
    "# Usando o metodo com o resultado do slicing\n",
    "df[['base_salary', 'guaranteed_compensation']].describe()"
   ]
  },
  {
   "cell_type": "code",
   "execution_count": 35,
   "id": "ec55b31e",
   "metadata": {},
   "outputs": [
    {
     "data": {
      "text/html": [
       "<div>\n",
       "<style scoped>\n",
       "    .dataframe tbody tr th:only-of-type {\n",
       "        vertical-align: middle;\n",
       "    }\n",
       "\n",
       "    .dataframe tbody tr th {\n",
       "        vertical-align: top;\n",
       "    }\n",
       "\n",
       "    .dataframe thead th {\n",
       "        text-align: right;\n",
       "    }\n",
       "</style>\n",
       "<table border=\"1\" class=\"dataframe\">\n",
       "  <thead>\n",
       "    <tr style=\"text-align: right;\">\n",
       "      <th></th>\n",
       "      <th>first_name</th>\n",
       "      <th>base_salary</th>\n",
       "      <th>club</th>\n",
       "    </tr>\n",
       "  </thead>\n",
       "  <tbody>\n",
       "    <tr>\n",
       "      <th>0</th>\n",
       "      <td>Miguel</td>\n",
       "      <td>1912500.0</td>\n",
       "      <td>ATL</td>\n",
       "    </tr>\n",
       "    <tr>\n",
       "      <th>1</th>\n",
       "      <td>Mikey</td>\n",
       "      <td>65625.0</td>\n",
       "      <td>ATL</td>\n",
       "    </tr>\n",
       "    <tr>\n",
       "      <th>2</th>\n",
       "      <td>Yamil</td>\n",
       "      <td>150000.0</td>\n",
       "      <td>ATL</td>\n",
       "    </tr>\n",
       "    <tr>\n",
       "      <th>3</th>\n",
       "      <td>Mark</td>\n",
       "      <td>99225.0</td>\n",
       "      <td>ATL</td>\n",
       "    </tr>\n",
       "    <tr>\n",
       "      <th>4</th>\n",
       "      <td>Andrew</td>\n",
       "      <td>65000.0</td>\n",
       "      <td>ATL</td>\n",
       "    </tr>\n",
       "    <tr>\n",
       "      <th>...</th>\n",
       "      <td>...</td>\n",
       "      <td>...</td>\n",
       "      <td>...</td>\n",
       "    </tr>\n",
       "    <tr>\n",
       "      <th>610</th>\n",
       "      <td>Russell</td>\n",
       "      <td>126500.0</td>\n",
       "      <td>VAN</td>\n",
       "    </tr>\n",
       "    <tr>\n",
       "      <th>611</th>\n",
       "      <td>Paolo</td>\n",
       "      <td>80000.0</td>\n",
       "      <td>VAN</td>\n",
       "    </tr>\n",
       "    <tr>\n",
       "      <th>612</th>\n",
       "      <td>Kendall</td>\n",
       "      <td>350000.0</td>\n",
       "      <td>VAN</td>\n",
       "    </tr>\n",
       "    <tr>\n",
       "      <th>613</th>\n",
       "      <td>NaN</td>\n",
       "      <td>NaN</td>\n",
       "      <td>NaN</td>\n",
       "    </tr>\n",
       "    <tr>\n",
       "      <th>614</th>\n",
       "      <td>Sheanon</td>\n",
       "      <td>175000.0</td>\n",
       "      <td>VAN</td>\n",
       "    </tr>\n",
       "  </tbody>\n",
       "</table>\n",
       "<p>615 rows × 3 columns</p>\n",
       "</div>"
      ],
      "text/plain": [
       "    first_name  base_salary club\n",
       "0       Miguel    1912500.0  ATL\n",
       "1        Mikey      65625.0  ATL\n",
       "2        Yamil     150000.0  ATL\n",
       "3         Mark      99225.0  ATL\n",
       "4       Andrew      65000.0  ATL\n",
       "..         ...          ...  ...\n",
       "610    Russell     126500.0  VAN\n",
       "611      Paolo      80000.0  VAN\n",
       "612    Kendall     350000.0  VAN\n",
       "613        NaN          NaN  NaN\n",
       "614    Sheanon     175000.0  VAN\n",
       "\n",
       "[615 rows x 3 columns]"
      ]
     },
     "execution_count": 35,
     "metadata": {},
     "output_type": "execute_result"
    }
   ],
   "source": [
    "# Filtrando os dados de 3 colunas\n",
    "df[['first_name', 'base_salary', 'club']]"
   ]
  },
  {
   "cell_type": "markdown",
   "id": "1128ddf5",
   "metadata": {},
   "source": [
    ">Refatoração - reorganizando o codigo"
   ]
  },
  {
   "cell_type": "code",
   "execution_count": 36,
   "id": "93b5403b",
   "metadata": {},
   "outputs": [],
   "source": [
    "# Criando uma variável com a lista de nomes de colunas\n",
    "salarios_atletas = ['first_name', 'base_salary', 'club']"
   ]
  },
  {
   "cell_type": "code",
   "execution_count": 37,
   "id": "531c90bb",
   "metadata": {},
   "outputs": [
    {
     "data": {
      "text/html": [
       "<div>\n",
       "<style scoped>\n",
       "    .dataframe tbody tr th:only-of-type {\n",
       "        vertical-align: middle;\n",
       "    }\n",
       "\n",
       "    .dataframe tbody tr th {\n",
       "        vertical-align: top;\n",
       "    }\n",
       "\n",
       "    .dataframe thead th {\n",
       "        text-align: right;\n",
       "    }\n",
       "</style>\n",
       "<table border=\"1\" class=\"dataframe\">\n",
       "  <thead>\n",
       "    <tr style=\"text-align: right;\">\n",
       "      <th></th>\n",
       "      <th>first_name</th>\n",
       "      <th>base_salary</th>\n",
       "      <th>club</th>\n",
       "    </tr>\n",
       "  </thead>\n",
       "  <tbody>\n",
       "    <tr>\n",
       "      <th>0</th>\n",
       "      <td>Miguel</td>\n",
       "      <td>1912500.0</td>\n",
       "      <td>ATL</td>\n",
       "    </tr>\n",
       "    <tr>\n",
       "      <th>1</th>\n",
       "      <td>Mikey</td>\n",
       "      <td>65625.0</td>\n",
       "      <td>ATL</td>\n",
       "    </tr>\n",
       "    <tr>\n",
       "      <th>2</th>\n",
       "      <td>Yamil</td>\n",
       "      <td>150000.0</td>\n",
       "      <td>ATL</td>\n",
       "    </tr>\n",
       "    <tr>\n",
       "      <th>3</th>\n",
       "      <td>Mark</td>\n",
       "      <td>99225.0</td>\n",
       "      <td>ATL</td>\n",
       "    </tr>\n",
       "    <tr>\n",
       "      <th>4</th>\n",
       "      <td>Andrew</td>\n",
       "      <td>65000.0</td>\n",
       "      <td>ATL</td>\n",
       "    </tr>\n",
       "    <tr>\n",
       "      <th>...</th>\n",
       "      <td>...</td>\n",
       "      <td>...</td>\n",
       "      <td>...</td>\n",
       "    </tr>\n",
       "    <tr>\n",
       "      <th>610</th>\n",
       "      <td>Russell</td>\n",
       "      <td>126500.0</td>\n",
       "      <td>VAN</td>\n",
       "    </tr>\n",
       "    <tr>\n",
       "      <th>611</th>\n",
       "      <td>Paolo</td>\n",
       "      <td>80000.0</td>\n",
       "      <td>VAN</td>\n",
       "    </tr>\n",
       "    <tr>\n",
       "      <th>612</th>\n",
       "      <td>Kendall</td>\n",
       "      <td>350000.0</td>\n",
       "      <td>VAN</td>\n",
       "    </tr>\n",
       "    <tr>\n",
       "      <th>613</th>\n",
       "      <td>NaN</td>\n",
       "      <td>NaN</td>\n",
       "      <td>NaN</td>\n",
       "    </tr>\n",
       "    <tr>\n",
       "      <th>614</th>\n",
       "      <td>Sheanon</td>\n",
       "      <td>175000.0</td>\n",
       "      <td>VAN</td>\n",
       "    </tr>\n",
       "  </tbody>\n",
       "</table>\n",
       "<p>615 rows × 3 columns</p>\n",
       "</div>"
      ],
      "text/plain": [
       "    first_name  base_salary club\n",
       "0       Miguel    1912500.0  ATL\n",
       "1        Mikey      65625.0  ATL\n",
       "2        Yamil     150000.0  ATL\n",
       "3         Mark      99225.0  ATL\n",
       "4       Andrew      65000.0  ATL\n",
       "..         ...          ...  ...\n",
       "610    Russell     126500.0  VAN\n",
       "611      Paolo      80000.0  VAN\n",
       "612    Kendall     350000.0  VAN\n",
       "613        NaN          NaN  NaN\n",
       "614    Sheanon     175000.0  VAN\n",
       "\n",
       "[615 rows x 3 columns]"
      ]
     },
     "execution_count": 37,
     "metadata": {},
     "output_type": "execute_result"
    }
   ],
   "source": [
    "# Usando a variavel salarios_atletas para filtrar o dataframe\n",
    "df[salarios_atletas]"
   ]
  },
  {
   "cell_type": "code",
   "execution_count": 41,
   "id": "1e738a4b",
   "metadata": {},
   "outputs": [
    {
     "data": {
      "text/plain": [
       "list"
      ]
     },
     "execution_count": 41,
     "metadata": {},
     "output_type": "execute_result"
    }
   ],
   "source": [
    "type(salarios_atletas)"
   ]
  },
  {
   "cell_type": "code",
   "execution_count": 42,
   "id": "1a0d6336",
   "metadata": {},
   "outputs": [
    {
     "data": {
      "text/plain": [
       "(615, 3)"
      ]
     },
     "execution_count": 42,
     "metadata": {},
     "output_type": "execute_result"
    }
   ],
   "source": [
    "# Usando metodos e atributos normalmente\n",
    "df[salarios_atletas].shape"
   ]
  },
  {
   "cell_type": "code",
   "execution_count": 43,
   "id": "78244994",
   "metadata": {},
   "outputs": [
    {
     "data": {
      "text/html": [
       "<div>\n",
       "<style scoped>\n",
       "    .dataframe tbody tr th:only-of-type {\n",
       "        vertical-align: middle;\n",
       "    }\n",
       "\n",
       "    .dataframe tbody tr th {\n",
       "        vertical-align: top;\n",
       "    }\n",
       "\n",
       "    .dataframe thead th {\n",
       "        text-align: right;\n",
       "    }\n",
       "</style>\n",
       "<table border=\"1\" class=\"dataframe\">\n",
       "  <thead>\n",
       "    <tr style=\"text-align: right;\">\n",
       "      <th></th>\n",
       "      <th>first_name</th>\n",
       "      <th>base_salary</th>\n",
       "      <th>club</th>\n",
       "    </tr>\n",
       "  </thead>\n",
       "  <tbody>\n",
       "    <tr>\n",
       "      <th>610</th>\n",
       "      <td>Russell</td>\n",
       "      <td>126500.0</td>\n",
       "      <td>VAN</td>\n",
       "    </tr>\n",
       "    <tr>\n",
       "      <th>611</th>\n",
       "      <td>Paolo</td>\n",
       "      <td>80000.0</td>\n",
       "      <td>VAN</td>\n",
       "    </tr>\n",
       "    <tr>\n",
       "      <th>612</th>\n",
       "      <td>Kendall</td>\n",
       "      <td>350000.0</td>\n",
       "      <td>VAN</td>\n",
       "    </tr>\n",
       "    <tr>\n",
       "      <th>613</th>\n",
       "      <td>NaN</td>\n",
       "      <td>NaN</td>\n",
       "      <td>NaN</td>\n",
       "    </tr>\n",
       "    <tr>\n",
       "      <th>614</th>\n",
       "      <td>Sheanon</td>\n",
       "      <td>175000.0</td>\n",
       "      <td>VAN</td>\n",
       "    </tr>\n",
       "  </tbody>\n",
       "</table>\n",
       "</div>"
      ],
      "text/plain": [
       "    first_name  base_salary club\n",
       "610    Russell     126500.0  VAN\n",
       "611      Paolo      80000.0  VAN\n",
       "612    Kendall     350000.0  VAN\n",
       "613        NaN          NaN  NaN\n",
       "614    Sheanon     175000.0  VAN"
      ]
     },
     "execution_count": 43,
     "metadata": {},
     "output_type": "execute_result"
    }
   ],
   "source": [
    "df[salarios_atletas].tail()"
   ]
  },
  {
   "cell_type": "markdown",
   "id": "121c8fc6",
   "metadata": {},
   "source": [
    "## Adição de Colunas e Índices Com e Sem Broadcasting"
   ]
  },
  {
   "cell_type": "markdown",
   "id": "c42be80c",
   "metadata": {},
   "source": [
    "#### Sem Broadcasting"
   ]
  },
  {
   "cell_type": "code",
   "execution_count": 44,
   "id": "9c3c8ff1",
   "metadata": {},
   "outputs": [
    {
     "data": {
      "text/html": [
       "<div>\n",
       "<style scoped>\n",
       "    .dataframe tbody tr th:only-of-type {\n",
       "        vertical-align: middle;\n",
       "    }\n",
       "\n",
       "    .dataframe tbody tr th {\n",
       "        vertical-align: top;\n",
       "    }\n",
       "\n",
       "    .dataframe thead th {\n",
       "        text-align: right;\n",
       "    }\n",
       "</style>\n",
       "<table border=\"1\" class=\"dataframe\">\n",
       "  <thead>\n",
       "    <tr style=\"text-align: right;\">\n",
       "      <th></th>\n",
       "      <th>club</th>\n",
       "      <th>last_name</th>\n",
       "      <th>first_name</th>\n",
       "      <th>position</th>\n",
       "      <th>base_salary</th>\n",
       "      <th>guaranteed_compensation</th>\n",
       "    </tr>\n",
       "  </thead>\n",
       "  <tbody>\n",
       "    <tr>\n",
       "      <th>0</th>\n",
       "      <td>ATL</td>\n",
       "      <td>Almiron</td>\n",
       "      <td>Miguel</td>\n",
       "      <td>M</td>\n",
       "      <td>1912500.0</td>\n",
       "      <td>2297000.00</td>\n",
       "    </tr>\n",
       "    <tr>\n",
       "      <th>1</th>\n",
       "      <td>ATL</td>\n",
       "      <td>Ambrose</td>\n",
       "      <td>Mikey</td>\n",
       "      <td>D</td>\n",
       "      <td>65625.0</td>\n",
       "      <td>65625.00</td>\n",
       "    </tr>\n",
       "    <tr>\n",
       "      <th>2</th>\n",
       "      <td>ATL</td>\n",
       "      <td>Asad</td>\n",
       "      <td>Yamil</td>\n",
       "      <td>M</td>\n",
       "      <td>150000.0</td>\n",
       "      <td>150000.00</td>\n",
       "    </tr>\n",
       "    <tr>\n",
       "      <th>3</th>\n",
       "      <td>ATL</td>\n",
       "      <td>Bloom</td>\n",
       "      <td>Mark</td>\n",
       "      <td>D</td>\n",
       "      <td>99225.0</td>\n",
       "      <td>106573.89</td>\n",
       "    </tr>\n",
       "    <tr>\n",
       "      <th>4</th>\n",
       "      <td>ATL</td>\n",
       "      <td>Carleton</td>\n",
       "      <td>Andrew</td>\n",
       "      <td>F</td>\n",
       "      <td>65000.0</td>\n",
       "      <td>77400.00</td>\n",
       "    </tr>\n",
       "  </tbody>\n",
       "</table>\n",
       "</div>"
      ],
      "text/plain": [
       "  club last_name first_name position  base_salary  guaranteed_compensation\n",
       "0  ATL   Almiron     Miguel        M    1912500.0               2297000.00\n",
       "1  ATL   Ambrose      Mikey        D      65625.0                 65625.00\n",
       "2  ATL      Asad      Yamil        M     150000.0                150000.00\n",
       "3  ATL     Bloom       Mark        D      99225.0                106573.89\n",
       "4  ATL  Carleton     Andrew        F      65000.0                 77400.00"
      ]
     },
     "execution_count": 44,
     "metadata": {},
     "output_type": "execute_result"
    }
   ],
   "source": [
    "df.head()"
   ]
  },
  {
   "cell_type": "code",
   "execution_count": 45,
   "id": "d79c0b37",
   "metadata": {},
   "outputs": [],
   "source": [
    "# Adicionando nova coluna\n",
    "df['salario_final'] = 0 "
   ]
  },
  {
   "cell_type": "code",
   "execution_count": 46,
   "id": "8db57db2",
   "metadata": {},
   "outputs": [
    {
     "data": {
      "text/html": [
       "<div>\n",
       "<style scoped>\n",
       "    .dataframe tbody tr th:only-of-type {\n",
       "        vertical-align: middle;\n",
       "    }\n",
       "\n",
       "    .dataframe tbody tr th {\n",
       "        vertical-align: top;\n",
       "    }\n",
       "\n",
       "    .dataframe thead th {\n",
       "        text-align: right;\n",
       "    }\n",
       "</style>\n",
       "<table border=\"1\" class=\"dataframe\">\n",
       "  <thead>\n",
       "    <tr style=\"text-align: right;\">\n",
       "      <th></th>\n",
       "      <th>club</th>\n",
       "      <th>last_name</th>\n",
       "      <th>first_name</th>\n",
       "      <th>position</th>\n",
       "      <th>base_salary</th>\n",
       "      <th>guaranteed_compensation</th>\n",
       "      <th>salario_final</th>\n",
       "    </tr>\n",
       "  </thead>\n",
       "  <tbody>\n",
       "    <tr>\n",
       "      <th>0</th>\n",
       "      <td>ATL</td>\n",
       "      <td>Almiron</td>\n",
       "      <td>Miguel</td>\n",
       "      <td>M</td>\n",
       "      <td>1912500.0</td>\n",
       "      <td>2297000.00</td>\n",
       "      <td>0</td>\n",
       "    </tr>\n",
       "    <tr>\n",
       "      <th>1</th>\n",
       "      <td>ATL</td>\n",
       "      <td>Ambrose</td>\n",
       "      <td>Mikey</td>\n",
       "      <td>D</td>\n",
       "      <td>65625.0</td>\n",
       "      <td>65625.00</td>\n",
       "      <td>0</td>\n",
       "    </tr>\n",
       "    <tr>\n",
       "      <th>2</th>\n",
       "      <td>ATL</td>\n",
       "      <td>Asad</td>\n",
       "      <td>Yamil</td>\n",
       "      <td>M</td>\n",
       "      <td>150000.0</td>\n",
       "      <td>150000.00</td>\n",
       "      <td>0</td>\n",
       "    </tr>\n",
       "    <tr>\n",
       "      <th>3</th>\n",
       "      <td>ATL</td>\n",
       "      <td>Bloom</td>\n",
       "      <td>Mark</td>\n",
       "      <td>D</td>\n",
       "      <td>99225.0</td>\n",
       "      <td>106573.89</td>\n",
       "      <td>0</td>\n",
       "    </tr>\n",
       "    <tr>\n",
       "      <th>4</th>\n",
       "      <td>ATL</td>\n",
       "      <td>Carleton</td>\n",
       "      <td>Andrew</td>\n",
       "      <td>F</td>\n",
       "      <td>65000.0</td>\n",
       "      <td>77400.00</td>\n",
       "      <td>0</td>\n",
       "    </tr>\n",
       "  </tbody>\n",
       "</table>\n",
       "</div>"
      ],
      "text/plain": [
       "  club last_name first_name position  base_salary  guaranteed_compensation  \\\n",
       "0  ATL   Almiron     Miguel        M    1912500.0               2297000.00   \n",
       "1  ATL   Ambrose      Mikey        D      65625.0                 65625.00   \n",
       "2  ATL      Asad      Yamil        M     150000.0                150000.00   \n",
       "3  ATL     Bloom       Mark        D      99225.0                106573.89   \n",
       "4  ATL  Carleton     Andrew        F      65000.0                 77400.00   \n",
       "\n",
       "   salario_final  \n",
       "0              0  \n",
       "1              0  \n",
       "2              0  \n",
       "3              0  \n",
       "4              0  "
      ]
     },
     "execution_count": 46,
     "metadata": {},
     "output_type": "execute_result"
    }
   ],
   "source": [
    "df.head()"
   ]
  },
  {
   "cell_type": "code",
   "execution_count": 47,
   "id": "af25e032",
   "metadata": {},
   "outputs": [],
   "source": [
    "# Preenchendo o valor da nova coluna a partir de outras variaveis\n",
    "df['salario_final'] = df['base_salary'] + df['guaranteed_compensation']"
   ]
  },
  {
   "cell_type": "code",
   "execution_count": 48,
   "id": "e1993ead",
   "metadata": {},
   "outputs": [
    {
     "data": {
      "text/html": [
       "<div>\n",
       "<style scoped>\n",
       "    .dataframe tbody tr th:only-of-type {\n",
       "        vertical-align: middle;\n",
       "    }\n",
       "\n",
       "    .dataframe tbody tr th {\n",
       "        vertical-align: top;\n",
       "    }\n",
       "\n",
       "    .dataframe thead th {\n",
       "        text-align: right;\n",
       "    }\n",
       "</style>\n",
       "<table border=\"1\" class=\"dataframe\">\n",
       "  <thead>\n",
       "    <tr style=\"text-align: right;\">\n",
       "      <th></th>\n",
       "      <th>club</th>\n",
       "      <th>last_name</th>\n",
       "      <th>first_name</th>\n",
       "      <th>position</th>\n",
       "      <th>base_salary</th>\n",
       "      <th>guaranteed_compensation</th>\n",
       "      <th>salario_final</th>\n",
       "    </tr>\n",
       "  </thead>\n",
       "  <tbody>\n",
       "    <tr>\n",
       "      <th>0</th>\n",
       "      <td>ATL</td>\n",
       "      <td>Almiron</td>\n",
       "      <td>Miguel</td>\n",
       "      <td>M</td>\n",
       "      <td>1912500.0</td>\n",
       "      <td>2297000.00</td>\n",
       "      <td>4209500.00</td>\n",
       "    </tr>\n",
       "    <tr>\n",
       "      <th>1</th>\n",
       "      <td>ATL</td>\n",
       "      <td>Ambrose</td>\n",
       "      <td>Mikey</td>\n",
       "      <td>D</td>\n",
       "      <td>65625.0</td>\n",
       "      <td>65625.00</td>\n",
       "      <td>131250.00</td>\n",
       "    </tr>\n",
       "    <tr>\n",
       "      <th>2</th>\n",
       "      <td>ATL</td>\n",
       "      <td>Asad</td>\n",
       "      <td>Yamil</td>\n",
       "      <td>M</td>\n",
       "      <td>150000.0</td>\n",
       "      <td>150000.00</td>\n",
       "      <td>300000.00</td>\n",
       "    </tr>\n",
       "    <tr>\n",
       "      <th>3</th>\n",
       "      <td>ATL</td>\n",
       "      <td>Bloom</td>\n",
       "      <td>Mark</td>\n",
       "      <td>D</td>\n",
       "      <td>99225.0</td>\n",
       "      <td>106573.89</td>\n",
       "      <td>205798.89</td>\n",
       "    </tr>\n",
       "    <tr>\n",
       "      <th>4</th>\n",
       "      <td>ATL</td>\n",
       "      <td>Carleton</td>\n",
       "      <td>Andrew</td>\n",
       "      <td>F</td>\n",
       "      <td>65000.0</td>\n",
       "      <td>77400.00</td>\n",
       "      <td>142400.00</td>\n",
       "    </tr>\n",
       "  </tbody>\n",
       "</table>\n",
       "</div>"
      ],
      "text/plain": [
       "  club last_name first_name position  base_salary  guaranteed_compensation  \\\n",
       "0  ATL   Almiron     Miguel        M    1912500.0               2297000.00   \n",
       "1  ATL   Ambrose      Mikey        D      65625.0                 65625.00   \n",
       "2  ATL      Asad      Yamil        M     150000.0                150000.00   \n",
       "3  ATL     Bloom       Mark        D      99225.0                106573.89   \n",
       "4  ATL  Carleton     Andrew        F      65000.0                 77400.00   \n",
       "\n",
       "   salario_final  \n",
       "0     4209500.00  \n",
       "1      131250.00  \n",
       "2      300000.00  \n",
       "3      205798.89  \n",
       "4      142400.00  "
      ]
     },
     "execution_count": 48,
     "metadata": {},
     "output_type": "execute_result"
    }
   ],
   "source": [
    "df.head()"
   ]
  },
  {
   "cell_type": "code",
   "execution_count": 49,
   "id": "0cfa024f",
   "metadata": {},
   "outputs": [],
   "source": [
    "# Adicionando nova coluna\n",
    "df.insert(0, column = \"ID\", value = range(1, 1 + len(df)))"
   ]
  },
  {
   "cell_type": "code",
   "execution_count": 50,
   "id": "22da321a",
   "metadata": {},
   "outputs": [
    {
     "data": {
      "text/html": [
       "<div>\n",
       "<style scoped>\n",
       "    .dataframe tbody tr th:only-of-type {\n",
       "        vertical-align: middle;\n",
       "    }\n",
       "\n",
       "    .dataframe tbody tr th {\n",
       "        vertical-align: top;\n",
       "    }\n",
       "\n",
       "    .dataframe thead th {\n",
       "        text-align: right;\n",
       "    }\n",
       "</style>\n",
       "<table border=\"1\" class=\"dataframe\">\n",
       "  <thead>\n",
       "    <tr style=\"text-align: right;\">\n",
       "      <th></th>\n",
       "      <th>ID</th>\n",
       "      <th>club</th>\n",
       "      <th>last_name</th>\n",
       "      <th>first_name</th>\n",
       "      <th>position</th>\n",
       "      <th>base_salary</th>\n",
       "      <th>guaranteed_compensation</th>\n",
       "      <th>salario_final</th>\n",
       "    </tr>\n",
       "  </thead>\n",
       "  <tbody>\n",
       "    <tr>\n",
       "      <th>0</th>\n",
       "      <td>1</td>\n",
       "      <td>ATL</td>\n",
       "      <td>Almiron</td>\n",
       "      <td>Miguel</td>\n",
       "      <td>M</td>\n",
       "      <td>1912500.0</td>\n",
       "      <td>2297000.00</td>\n",
       "      <td>4209500.00</td>\n",
       "    </tr>\n",
       "    <tr>\n",
       "      <th>1</th>\n",
       "      <td>2</td>\n",
       "      <td>ATL</td>\n",
       "      <td>Ambrose</td>\n",
       "      <td>Mikey</td>\n",
       "      <td>D</td>\n",
       "      <td>65625.0</td>\n",
       "      <td>65625.00</td>\n",
       "      <td>131250.00</td>\n",
       "    </tr>\n",
       "    <tr>\n",
       "      <th>2</th>\n",
       "      <td>3</td>\n",
       "      <td>ATL</td>\n",
       "      <td>Asad</td>\n",
       "      <td>Yamil</td>\n",
       "      <td>M</td>\n",
       "      <td>150000.0</td>\n",
       "      <td>150000.00</td>\n",
       "      <td>300000.00</td>\n",
       "    </tr>\n",
       "    <tr>\n",
       "      <th>3</th>\n",
       "      <td>4</td>\n",
       "      <td>ATL</td>\n",
       "      <td>Bloom</td>\n",
       "      <td>Mark</td>\n",
       "      <td>D</td>\n",
       "      <td>99225.0</td>\n",
       "      <td>106573.89</td>\n",
       "      <td>205798.89</td>\n",
       "    </tr>\n",
       "    <tr>\n",
       "      <th>4</th>\n",
       "      <td>5</td>\n",
       "      <td>ATL</td>\n",
       "      <td>Carleton</td>\n",
       "      <td>Andrew</td>\n",
       "      <td>F</td>\n",
       "      <td>65000.0</td>\n",
       "      <td>77400.00</td>\n",
       "      <td>142400.00</td>\n",
       "    </tr>\n",
       "  </tbody>\n",
       "</table>\n",
       "</div>"
      ],
      "text/plain": [
       "   ID club last_name first_name position  base_salary  \\\n",
       "0   1  ATL   Almiron     Miguel        M    1912500.0   \n",
       "1   2  ATL   Ambrose      Mikey        D      65625.0   \n",
       "2   3  ATL      Asad      Yamil        M     150000.0   \n",
       "3   4  ATL     Bloom       Mark        D      99225.0   \n",
       "4   5  ATL  Carleton     Andrew        F      65000.0   \n",
       "\n",
       "   guaranteed_compensation  salario_final  \n",
       "0               2297000.00     4209500.00  \n",
       "1                 65625.00      131250.00  \n",
       "2                150000.00      300000.00  \n",
       "3                106573.89      205798.89  \n",
       "4                 77400.00      142400.00  "
      ]
     },
     "execution_count": 50,
     "metadata": {},
     "output_type": "execute_result"
    }
   ],
   "source": [
    "df.head()"
   ]
  },
  {
   "cell_type": "code",
   "execution_count": 51,
   "id": "b276456d",
   "metadata": {},
   "outputs": [
    {
     "data": {
      "text/html": [
       "<div>\n",
       "<style scoped>\n",
       "    .dataframe tbody tr th:only-of-type {\n",
       "        vertical-align: middle;\n",
       "    }\n",
       "\n",
       "    .dataframe tbody tr th {\n",
       "        vertical-align: top;\n",
       "    }\n",
       "\n",
       "    .dataframe thead th {\n",
       "        text-align: right;\n",
       "    }\n",
       "</style>\n",
       "<table border=\"1\" class=\"dataframe\">\n",
       "  <thead>\n",
       "    <tr style=\"text-align: right;\">\n",
       "      <th></th>\n",
       "      <th>ID</th>\n",
       "      <th>club</th>\n",
       "      <th>last_name</th>\n",
       "      <th>first_name</th>\n",
       "      <th>position</th>\n",
       "      <th>base_salary</th>\n",
       "      <th>guaranteed_compensation</th>\n",
       "      <th>salario_final</th>\n",
       "    </tr>\n",
       "  </thead>\n",
       "  <tbody>\n",
       "    <tr>\n",
       "      <th>610</th>\n",
       "      <td>611</td>\n",
       "      <td>VAN</td>\n",
       "      <td>Teibert</td>\n",
       "      <td>Russell</td>\n",
       "      <td>M</td>\n",
       "      <td>126500.0</td>\n",
       "      <td>194000.0</td>\n",
       "      <td>320500.0</td>\n",
       "    </tr>\n",
       "    <tr>\n",
       "      <th>611</th>\n",
       "      <td>612</td>\n",
       "      <td>VAN</td>\n",
       "      <td>Tornaghi</td>\n",
       "      <td>Paolo</td>\n",
       "      <td>GK</td>\n",
       "      <td>80000.0</td>\n",
       "      <td>80000.0</td>\n",
       "      <td>160000.0</td>\n",
       "    </tr>\n",
       "    <tr>\n",
       "      <th>612</th>\n",
       "      <td>613</td>\n",
       "      <td>VAN</td>\n",
       "      <td>Waston</td>\n",
       "      <td>Kendall</td>\n",
       "      <td>D</td>\n",
       "      <td>350000.0</td>\n",
       "      <td>368125.0</td>\n",
       "      <td>718125.0</td>\n",
       "    </tr>\n",
       "    <tr>\n",
       "      <th>613</th>\n",
       "      <td>614</td>\n",
       "      <td>NaN</td>\n",
       "      <td>NaN</td>\n",
       "      <td>NaN</td>\n",
       "      <td>NaN</td>\n",
       "      <td>NaN</td>\n",
       "      <td>NaN</td>\n",
       "      <td>NaN</td>\n",
       "    </tr>\n",
       "    <tr>\n",
       "      <th>614</th>\n",
       "      <td>615</td>\n",
       "      <td>VAN</td>\n",
       "      <td>Williams</td>\n",
       "      <td>Sheanon</td>\n",
       "      <td>D</td>\n",
       "      <td>175000.0</td>\n",
       "      <td>184000.0</td>\n",
       "      <td>359000.0</td>\n",
       "    </tr>\n",
       "  </tbody>\n",
       "</table>\n",
       "</div>"
      ],
      "text/plain": [
       "      ID club last_name first_name position  base_salary  \\\n",
       "610  611  VAN   Teibert    Russell        M     126500.0   \n",
       "611  612  VAN  Tornaghi      Paolo       GK      80000.0   \n",
       "612  613  VAN    Waston    Kendall        D     350000.0   \n",
       "613  614  NaN       NaN        NaN      NaN          NaN   \n",
       "614  615  VAN  Williams    Sheanon        D     175000.0   \n",
       "\n",
       "     guaranteed_compensation  salario_final  \n",
       "610                 194000.0       320500.0  \n",
       "611                  80000.0       160000.0  \n",
       "612                 368125.0       718125.0  \n",
       "613                      NaN            NaN  \n",
       "614                 184000.0       359000.0  "
      ]
     },
     "execution_count": 51,
     "metadata": {},
     "output_type": "execute_result"
    }
   ],
   "source": [
    "df.tail()"
   ]
  },
  {
   "cell_type": "markdown",
   "id": "bd18c257",
   "metadata": {},
   "source": [
    "#### Com Brodcasting"
   ]
  },
  {
   "cell_type": "code",
   "execution_count": 52,
   "id": "c715c83e",
   "metadata": {},
   "outputs": [
    {
     "data": {
      "text/plain": [
       "0      1912505.0\n",
       "1        65630.0\n",
       "2       150005.0\n",
       "3        99230.0\n",
       "4        65005.0\n",
       "         ...    \n",
       "610     126505.0\n",
       "611      80005.0\n",
       "612     350005.0\n",
       "613          NaN\n",
       "614     175005.0\n",
       "Name: base_salary, Length: 615, dtype: float64"
      ]
     },
     "execution_count": 52,
     "metadata": {},
     "output_type": "execute_result"
    }
   ],
   "source": [
    "# Esta instrução não altera o dataframe original\n",
    "df[\"base_salary\"].add(5)"
   ]
  },
  {
   "cell_type": "code",
   "execution_count": 53,
   "id": "63b64949",
   "metadata": {},
   "outputs": [],
   "source": [
    "# Esta instrução altera o dataframe original\n",
    "df['base_salary'] = df[\"base_salary\"].add(5)"
   ]
  },
  {
   "cell_type": "code",
   "execution_count": 54,
   "id": "d2709895",
   "metadata": {},
   "outputs": [
    {
     "data": {
      "text/plain": [
       "0    1912505.0\n",
       "1      65630.0\n",
       "2     150005.0\n",
       "3      99230.0\n",
       "4      65005.0\n",
       "Name: base_salary, dtype: float64"
      ]
     },
     "execution_count": 54,
     "metadata": {},
     "output_type": "execute_result"
    }
   ],
   "source": [
    "df.base_salary.head()"
   ]
  },
  {
   "cell_type": "code",
   "execution_count": 55,
   "id": "9dc00847",
   "metadata": {},
   "outputs": [],
   "source": [
    "# Adicionando nova coluna usando Broadcasting (convertendo de USD para EURO, neste exemplo)\n",
    "df[\"base_salary_eur\"] = df[\"base_salary\"].mul(0.92)"
   ]
  },
  {
   "cell_type": "code",
   "execution_count": 56,
   "id": "76addcba",
   "metadata": {},
   "outputs": [
    {
     "data": {
      "text/html": [
       "<div>\n",
       "<style scoped>\n",
       "    .dataframe tbody tr th:only-of-type {\n",
       "        vertical-align: middle;\n",
       "    }\n",
       "\n",
       "    .dataframe tbody tr th {\n",
       "        vertical-align: top;\n",
       "    }\n",
       "\n",
       "    .dataframe thead th {\n",
       "        text-align: right;\n",
       "    }\n",
       "</style>\n",
       "<table border=\"1\" class=\"dataframe\">\n",
       "  <thead>\n",
       "    <tr style=\"text-align: right;\">\n",
       "      <th></th>\n",
       "      <th>ID</th>\n",
       "      <th>club</th>\n",
       "      <th>last_name</th>\n",
       "      <th>first_name</th>\n",
       "      <th>position</th>\n",
       "      <th>base_salary</th>\n",
       "      <th>guaranteed_compensation</th>\n",
       "      <th>salario_final</th>\n",
       "      <th>base_salary_eur</th>\n",
       "    </tr>\n",
       "  </thead>\n",
       "  <tbody>\n",
       "    <tr>\n",
       "      <th>0</th>\n",
       "      <td>1</td>\n",
       "      <td>ATL</td>\n",
       "      <td>Almiron</td>\n",
       "      <td>Miguel</td>\n",
       "      <td>M</td>\n",
       "      <td>1912505.0</td>\n",
       "      <td>2297000.00</td>\n",
       "      <td>4209500.00</td>\n",
       "      <td>1759504.6</td>\n",
       "    </tr>\n",
       "    <tr>\n",
       "      <th>1</th>\n",
       "      <td>2</td>\n",
       "      <td>ATL</td>\n",
       "      <td>Ambrose</td>\n",
       "      <td>Mikey</td>\n",
       "      <td>D</td>\n",
       "      <td>65630.0</td>\n",
       "      <td>65625.00</td>\n",
       "      <td>131250.00</td>\n",
       "      <td>60379.6</td>\n",
       "    </tr>\n",
       "    <tr>\n",
       "      <th>2</th>\n",
       "      <td>3</td>\n",
       "      <td>ATL</td>\n",
       "      <td>Asad</td>\n",
       "      <td>Yamil</td>\n",
       "      <td>M</td>\n",
       "      <td>150005.0</td>\n",
       "      <td>150000.00</td>\n",
       "      <td>300000.00</td>\n",
       "      <td>138004.6</td>\n",
       "    </tr>\n",
       "    <tr>\n",
       "      <th>3</th>\n",
       "      <td>4</td>\n",
       "      <td>ATL</td>\n",
       "      <td>Bloom</td>\n",
       "      <td>Mark</td>\n",
       "      <td>D</td>\n",
       "      <td>99230.0</td>\n",
       "      <td>106573.89</td>\n",
       "      <td>205798.89</td>\n",
       "      <td>91291.6</td>\n",
       "    </tr>\n",
       "    <tr>\n",
       "      <th>4</th>\n",
       "      <td>5</td>\n",
       "      <td>ATL</td>\n",
       "      <td>Carleton</td>\n",
       "      <td>Andrew</td>\n",
       "      <td>F</td>\n",
       "      <td>65005.0</td>\n",
       "      <td>77400.00</td>\n",
       "      <td>142400.00</td>\n",
       "      <td>59804.6</td>\n",
       "    </tr>\n",
       "  </tbody>\n",
       "</table>\n",
       "</div>"
      ],
      "text/plain": [
       "   ID club last_name first_name position  base_salary  \\\n",
       "0   1  ATL   Almiron     Miguel        M    1912505.0   \n",
       "1   2  ATL   Ambrose      Mikey        D      65630.0   \n",
       "2   3  ATL      Asad      Yamil        M     150005.0   \n",
       "3   4  ATL     Bloom       Mark        D      99230.0   \n",
       "4   5  ATL  Carleton     Andrew        F      65005.0   \n",
       "\n",
       "   guaranteed_compensation  salario_final  base_salary_eur  \n",
       "0               2297000.00     4209500.00        1759504.6  \n",
       "1                 65625.00      131250.00          60379.6  \n",
       "2                150000.00      300000.00         138004.6  \n",
       "3                106573.89      205798.89          91291.6  \n",
       "4                 77400.00      142400.00          59804.6  "
      ]
     },
     "execution_count": 56,
     "metadata": {},
     "output_type": "execute_result"
    }
   ],
   "source": [
    "df.head()"
   ]
  },
  {
   "cell_type": "code",
   "execution_count": 57,
   "id": "729c5554",
   "metadata": {},
   "outputs": [],
   "source": [
    "# Drop de coluna - deletar a coluna\n",
    "df.drop(columns = ['base_salary_eur'], inplace = True)"
   ]
  },
  {
   "cell_type": "code",
   "execution_count": 58,
   "id": "7409c4fb",
   "metadata": {},
   "outputs": [
    {
     "data": {
      "text/html": [
       "<div>\n",
       "<style scoped>\n",
       "    .dataframe tbody tr th:only-of-type {\n",
       "        vertical-align: middle;\n",
       "    }\n",
       "\n",
       "    .dataframe tbody tr th {\n",
       "        vertical-align: top;\n",
       "    }\n",
       "\n",
       "    .dataframe thead th {\n",
       "        text-align: right;\n",
       "    }\n",
       "</style>\n",
       "<table border=\"1\" class=\"dataframe\">\n",
       "  <thead>\n",
       "    <tr style=\"text-align: right;\">\n",
       "      <th></th>\n",
       "      <th>ID</th>\n",
       "      <th>club</th>\n",
       "      <th>last_name</th>\n",
       "      <th>first_name</th>\n",
       "      <th>position</th>\n",
       "      <th>base_salary</th>\n",
       "      <th>guaranteed_compensation</th>\n",
       "      <th>salario_final</th>\n",
       "    </tr>\n",
       "  </thead>\n",
       "  <tbody>\n",
       "    <tr>\n",
       "      <th>0</th>\n",
       "      <td>1</td>\n",
       "      <td>ATL</td>\n",
       "      <td>Almiron</td>\n",
       "      <td>Miguel</td>\n",
       "      <td>M</td>\n",
       "      <td>1912505.0</td>\n",
       "      <td>2297000.00</td>\n",
       "      <td>4209500.00</td>\n",
       "    </tr>\n",
       "    <tr>\n",
       "      <th>1</th>\n",
       "      <td>2</td>\n",
       "      <td>ATL</td>\n",
       "      <td>Ambrose</td>\n",
       "      <td>Mikey</td>\n",
       "      <td>D</td>\n",
       "      <td>65630.0</td>\n",
       "      <td>65625.00</td>\n",
       "      <td>131250.00</td>\n",
       "    </tr>\n",
       "    <tr>\n",
       "      <th>2</th>\n",
       "      <td>3</td>\n",
       "      <td>ATL</td>\n",
       "      <td>Asad</td>\n",
       "      <td>Yamil</td>\n",
       "      <td>M</td>\n",
       "      <td>150005.0</td>\n",
       "      <td>150000.00</td>\n",
       "      <td>300000.00</td>\n",
       "    </tr>\n",
       "    <tr>\n",
       "      <th>3</th>\n",
       "      <td>4</td>\n",
       "      <td>ATL</td>\n",
       "      <td>Bloom</td>\n",
       "      <td>Mark</td>\n",
       "      <td>D</td>\n",
       "      <td>99230.0</td>\n",
       "      <td>106573.89</td>\n",
       "      <td>205798.89</td>\n",
       "    </tr>\n",
       "    <tr>\n",
       "      <th>4</th>\n",
       "      <td>5</td>\n",
       "      <td>ATL</td>\n",
       "      <td>Carleton</td>\n",
       "      <td>Andrew</td>\n",
       "      <td>F</td>\n",
       "      <td>65005.0</td>\n",
       "      <td>77400.00</td>\n",
       "      <td>142400.00</td>\n",
       "    </tr>\n",
       "  </tbody>\n",
       "</table>\n",
       "</div>"
      ],
      "text/plain": [
       "   ID club last_name first_name position  base_salary  \\\n",
       "0   1  ATL   Almiron     Miguel        M    1912505.0   \n",
       "1   2  ATL   Ambrose      Mikey        D      65630.0   \n",
       "2   3  ATL      Asad      Yamil        M     150005.0   \n",
       "3   4  ATL     Bloom       Mark        D      99230.0   \n",
       "4   5  ATL  Carleton     Andrew        F      65005.0   \n",
       "\n",
       "   guaranteed_compensation  salario_final  \n",
       "0               2297000.00     4209500.00  \n",
       "1                 65625.00      131250.00  \n",
       "2                150000.00      300000.00  \n",
       "3                106573.89      205798.89  \n",
       "4                 77400.00      142400.00  "
      ]
     },
     "execution_count": 58,
     "metadata": {},
     "output_type": "execute_result"
    }
   ],
   "source": [
    "df.head()"
   ]
  },
  {
   "cell_type": "code",
   "execution_count": 59,
   "id": "79090a99",
   "metadata": {},
   "outputs": [],
   "source": [
    "# Adicionando nova coluna no indice 6\n",
    "df.insert(6, column = \"base_salary_eur\", value = df[\"base_salary\"].mul(0.92))"
   ]
  },
  {
   "cell_type": "code",
   "execution_count": 60,
   "id": "6698ccf2",
   "metadata": {},
   "outputs": [
    {
     "data": {
      "text/html": [
       "<div>\n",
       "<style scoped>\n",
       "    .dataframe tbody tr th:only-of-type {\n",
       "        vertical-align: middle;\n",
       "    }\n",
       "\n",
       "    .dataframe tbody tr th {\n",
       "        vertical-align: top;\n",
       "    }\n",
       "\n",
       "    .dataframe thead th {\n",
       "        text-align: right;\n",
       "    }\n",
       "</style>\n",
       "<table border=\"1\" class=\"dataframe\">\n",
       "  <thead>\n",
       "    <tr style=\"text-align: right;\">\n",
       "      <th></th>\n",
       "      <th>ID</th>\n",
       "      <th>club</th>\n",
       "      <th>last_name</th>\n",
       "      <th>first_name</th>\n",
       "      <th>position</th>\n",
       "      <th>base_salary</th>\n",
       "      <th>base_salary_eur</th>\n",
       "      <th>guaranteed_compensation</th>\n",
       "      <th>salario_final</th>\n",
       "    </tr>\n",
       "  </thead>\n",
       "  <tbody>\n",
       "    <tr>\n",
       "      <th>0</th>\n",
       "      <td>1</td>\n",
       "      <td>ATL</td>\n",
       "      <td>Almiron</td>\n",
       "      <td>Miguel</td>\n",
       "      <td>M</td>\n",
       "      <td>1912505.0</td>\n",
       "      <td>1759504.6</td>\n",
       "      <td>2297000.00</td>\n",
       "      <td>4209500.00</td>\n",
       "    </tr>\n",
       "    <tr>\n",
       "      <th>1</th>\n",
       "      <td>2</td>\n",
       "      <td>ATL</td>\n",
       "      <td>Ambrose</td>\n",
       "      <td>Mikey</td>\n",
       "      <td>D</td>\n",
       "      <td>65630.0</td>\n",
       "      <td>60379.6</td>\n",
       "      <td>65625.00</td>\n",
       "      <td>131250.00</td>\n",
       "    </tr>\n",
       "    <tr>\n",
       "      <th>2</th>\n",
       "      <td>3</td>\n",
       "      <td>ATL</td>\n",
       "      <td>Asad</td>\n",
       "      <td>Yamil</td>\n",
       "      <td>M</td>\n",
       "      <td>150005.0</td>\n",
       "      <td>138004.6</td>\n",
       "      <td>150000.00</td>\n",
       "      <td>300000.00</td>\n",
       "    </tr>\n",
       "    <tr>\n",
       "      <th>3</th>\n",
       "      <td>4</td>\n",
       "      <td>ATL</td>\n",
       "      <td>Bloom</td>\n",
       "      <td>Mark</td>\n",
       "      <td>D</td>\n",
       "      <td>99230.0</td>\n",
       "      <td>91291.6</td>\n",
       "      <td>106573.89</td>\n",
       "      <td>205798.89</td>\n",
       "    </tr>\n",
       "    <tr>\n",
       "      <th>4</th>\n",
       "      <td>5</td>\n",
       "      <td>ATL</td>\n",
       "      <td>Carleton</td>\n",
       "      <td>Andrew</td>\n",
       "      <td>F</td>\n",
       "      <td>65005.0</td>\n",
       "      <td>59804.6</td>\n",
       "      <td>77400.00</td>\n",
       "      <td>142400.00</td>\n",
       "    </tr>\n",
       "  </tbody>\n",
       "</table>\n",
       "</div>"
      ],
      "text/plain": [
       "   ID club last_name first_name position  base_salary  base_salary_eur  \\\n",
       "0   1  ATL   Almiron     Miguel        M    1912505.0        1759504.6   \n",
       "1   2  ATL   Ambrose      Mikey        D      65630.0          60379.6   \n",
       "2   3  ATL      Asad      Yamil        M     150005.0         138004.6   \n",
       "3   4  ATL     Bloom       Mark        D      99230.0          91291.6   \n",
       "4   5  ATL  Carleton     Andrew        F      65005.0          59804.6   \n",
       "\n",
       "   guaranteed_compensation  salario_final  \n",
       "0               2297000.00     4209500.00  \n",
       "1                 65625.00      131250.00  \n",
       "2                150000.00      300000.00  \n",
       "3                106573.89      205798.89  \n",
       "4                 77400.00      142400.00  "
      ]
     },
     "execution_count": 60,
     "metadata": {},
     "output_type": "execute_result"
    }
   ],
   "source": [
    "df.head()"
   ]
  },
  {
   "cell_type": "code",
   "execution_count": 62,
   "id": "3e63116e",
   "metadata": {},
   "outputs": [],
   "source": [
    "# Renomeando as colunas\n",
    "df.rename(columns = {\"base_salary\": \"base_salary_usd\", \n",
    "                     \"guaranteed_compensation\": \"guaranteed_compensation_usd\",\n",
    "                     \"salario_final\": \"salario_final_usd\"},\n",
    "         inplace = True)\n"
   ]
  },
  {
   "cell_type": "code",
   "execution_count": 63,
   "id": "5d27af3c",
   "metadata": {},
   "outputs": [
    {
     "data": {
      "text/html": [
       "<div>\n",
       "<style scoped>\n",
       "    .dataframe tbody tr th:only-of-type {\n",
       "        vertical-align: middle;\n",
       "    }\n",
       "\n",
       "    .dataframe tbody tr th {\n",
       "        vertical-align: top;\n",
       "    }\n",
       "\n",
       "    .dataframe thead th {\n",
       "        text-align: right;\n",
       "    }\n",
       "</style>\n",
       "<table border=\"1\" class=\"dataframe\">\n",
       "  <thead>\n",
       "    <tr style=\"text-align: right;\">\n",
       "      <th></th>\n",
       "      <th>ID</th>\n",
       "      <th>club</th>\n",
       "      <th>last_name</th>\n",
       "      <th>first_name</th>\n",
       "      <th>position</th>\n",
       "      <th>base_salary_usd</th>\n",
       "      <th>base_salary_eur</th>\n",
       "      <th>guaranteed_compensation_usd</th>\n",
       "      <th>salario_final_usd</th>\n",
       "    </tr>\n",
       "  </thead>\n",
       "  <tbody>\n",
       "    <tr>\n",
       "      <th>0</th>\n",
       "      <td>1</td>\n",
       "      <td>ATL</td>\n",
       "      <td>Almiron</td>\n",
       "      <td>Miguel</td>\n",
       "      <td>M</td>\n",
       "      <td>1912505.0</td>\n",
       "      <td>1759504.6</td>\n",
       "      <td>2297000.00</td>\n",
       "      <td>4209500.00</td>\n",
       "    </tr>\n",
       "    <tr>\n",
       "      <th>1</th>\n",
       "      <td>2</td>\n",
       "      <td>ATL</td>\n",
       "      <td>Ambrose</td>\n",
       "      <td>Mikey</td>\n",
       "      <td>D</td>\n",
       "      <td>65630.0</td>\n",
       "      <td>60379.6</td>\n",
       "      <td>65625.00</td>\n",
       "      <td>131250.00</td>\n",
       "    </tr>\n",
       "    <tr>\n",
       "      <th>2</th>\n",
       "      <td>3</td>\n",
       "      <td>ATL</td>\n",
       "      <td>Asad</td>\n",
       "      <td>Yamil</td>\n",
       "      <td>M</td>\n",
       "      <td>150005.0</td>\n",
       "      <td>138004.6</td>\n",
       "      <td>150000.00</td>\n",
       "      <td>300000.00</td>\n",
       "    </tr>\n",
       "    <tr>\n",
       "      <th>3</th>\n",
       "      <td>4</td>\n",
       "      <td>ATL</td>\n",
       "      <td>Bloom</td>\n",
       "      <td>Mark</td>\n",
       "      <td>D</td>\n",
       "      <td>99230.0</td>\n",
       "      <td>91291.6</td>\n",
       "      <td>106573.89</td>\n",
       "      <td>205798.89</td>\n",
       "    </tr>\n",
       "    <tr>\n",
       "      <th>4</th>\n",
       "      <td>5</td>\n",
       "      <td>ATL</td>\n",
       "      <td>Carleton</td>\n",
       "      <td>Andrew</td>\n",
       "      <td>F</td>\n",
       "      <td>65005.0</td>\n",
       "      <td>59804.6</td>\n",
       "      <td>77400.00</td>\n",
       "      <td>142400.00</td>\n",
       "    </tr>\n",
       "  </tbody>\n",
       "</table>\n",
       "</div>"
      ],
      "text/plain": [
       "   ID club last_name first_name position  base_salary_usd  base_salary_eur  \\\n",
       "0   1  ATL   Almiron     Miguel        M        1912505.0        1759504.6   \n",
       "1   2  ATL   Ambrose      Mikey        D          65630.0          60379.6   \n",
       "2   3  ATL      Asad      Yamil        M         150005.0         138004.6   \n",
       "3   4  ATL     Bloom       Mark        D          99230.0          91291.6   \n",
       "4   5  ATL  Carleton     Andrew        F          65005.0          59804.6   \n",
       "\n",
       "   guaranteed_compensation_usd  salario_final_usd  \n",
       "0                   2297000.00         4209500.00  \n",
       "1                     65625.00          131250.00  \n",
       "2                    150000.00          300000.00  \n",
       "3                    106573.89          205798.89  \n",
       "4                     77400.00          142400.00  "
      ]
     },
     "execution_count": 63,
     "metadata": {},
     "output_type": "execute_result"
    }
   ],
   "source": [
    "df.head()"
   ]
  },
  {
   "cell_type": "code",
   "execution_count": 64,
   "id": "88672137",
   "metadata": {},
   "outputs": [],
   "source": [
    "# Convertendo a coluna ID em indece da tabela\n",
    "df.set_index('ID', inplace = True)"
   ]
  },
  {
   "cell_type": "code",
   "execution_count": 65,
   "id": "2025cd09",
   "metadata": {},
   "outputs": [
    {
     "data": {
      "text/html": [
       "<div>\n",
       "<style scoped>\n",
       "    .dataframe tbody tr th:only-of-type {\n",
       "        vertical-align: middle;\n",
       "    }\n",
       "\n",
       "    .dataframe tbody tr th {\n",
       "        vertical-align: top;\n",
       "    }\n",
       "\n",
       "    .dataframe thead th {\n",
       "        text-align: right;\n",
       "    }\n",
       "</style>\n",
       "<table border=\"1\" class=\"dataframe\">\n",
       "  <thead>\n",
       "    <tr style=\"text-align: right;\">\n",
       "      <th></th>\n",
       "      <th>club</th>\n",
       "      <th>last_name</th>\n",
       "      <th>first_name</th>\n",
       "      <th>position</th>\n",
       "      <th>base_salary_usd</th>\n",
       "      <th>base_salary_eur</th>\n",
       "      <th>guaranteed_compensation_usd</th>\n",
       "      <th>salario_final_usd</th>\n",
       "    </tr>\n",
       "    <tr>\n",
       "      <th>ID</th>\n",
       "      <th></th>\n",
       "      <th></th>\n",
       "      <th></th>\n",
       "      <th></th>\n",
       "      <th></th>\n",
       "      <th></th>\n",
       "      <th></th>\n",
       "      <th></th>\n",
       "    </tr>\n",
       "  </thead>\n",
       "  <tbody>\n",
       "    <tr>\n",
       "      <th>1</th>\n",
       "      <td>ATL</td>\n",
       "      <td>Almiron</td>\n",
       "      <td>Miguel</td>\n",
       "      <td>M</td>\n",
       "      <td>1912505.0</td>\n",
       "      <td>1759504.6</td>\n",
       "      <td>2297000.00</td>\n",
       "      <td>4209500.00</td>\n",
       "    </tr>\n",
       "    <tr>\n",
       "      <th>2</th>\n",
       "      <td>ATL</td>\n",
       "      <td>Ambrose</td>\n",
       "      <td>Mikey</td>\n",
       "      <td>D</td>\n",
       "      <td>65630.0</td>\n",
       "      <td>60379.6</td>\n",
       "      <td>65625.00</td>\n",
       "      <td>131250.00</td>\n",
       "    </tr>\n",
       "    <tr>\n",
       "      <th>3</th>\n",
       "      <td>ATL</td>\n",
       "      <td>Asad</td>\n",
       "      <td>Yamil</td>\n",
       "      <td>M</td>\n",
       "      <td>150005.0</td>\n",
       "      <td>138004.6</td>\n",
       "      <td>150000.00</td>\n",
       "      <td>300000.00</td>\n",
       "    </tr>\n",
       "    <tr>\n",
       "      <th>4</th>\n",
       "      <td>ATL</td>\n",
       "      <td>Bloom</td>\n",
       "      <td>Mark</td>\n",
       "      <td>D</td>\n",
       "      <td>99230.0</td>\n",
       "      <td>91291.6</td>\n",
       "      <td>106573.89</td>\n",
       "      <td>205798.89</td>\n",
       "    </tr>\n",
       "    <tr>\n",
       "      <th>5</th>\n",
       "      <td>ATL</td>\n",
       "      <td>Carleton</td>\n",
       "      <td>Andrew</td>\n",
       "      <td>F</td>\n",
       "      <td>65005.0</td>\n",
       "      <td>59804.6</td>\n",
       "      <td>77400.00</td>\n",
       "      <td>142400.00</td>\n",
       "    </tr>\n",
       "  </tbody>\n",
       "</table>\n",
       "</div>"
      ],
      "text/plain": [
       "   club last_name first_name position  base_salary_usd  base_salary_eur  \\\n",
       "ID                                                                        \n",
       "1   ATL   Almiron     Miguel        M        1912505.0        1759504.6   \n",
       "2   ATL   Ambrose      Mikey        D          65630.0          60379.6   \n",
       "3   ATL      Asad      Yamil        M         150005.0         138004.6   \n",
       "4   ATL     Bloom       Mark        D          99230.0          91291.6   \n",
       "5   ATL  Carleton     Andrew        F          65005.0          59804.6   \n",
       "\n",
       "    guaranteed_compensation_usd  salario_final_usd  \n",
       "ID                                                  \n",
       "1                    2297000.00         4209500.00  \n",
       "2                      65625.00          131250.00  \n",
       "3                     150000.00          300000.00  \n",
       "4                     106573.89          205798.89  \n",
       "5                      77400.00          142400.00  "
      ]
     },
     "execution_count": 65,
     "metadata": {},
     "output_type": "execute_result"
    }
   ],
   "source": [
    "df.head()"
   ]
  },
  {
   "cell_type": "code",
   "execution_count": 66,
   "id": "79a2ea19",
   "metadata": {},
   "outputs": [
    {
     "data": {
      "text/html": [
       "<div>\n",
       "<style scoped>\n",
       "    .dataframe tbody tr th:only-of-type {\n",
       "        vertical-align: middle;\n",
       "    }\n",
       "\n",
       "    .dataframe tbody tr th {\n",
       "        vertical-align: top;\n",
       "    }\n",
       "\n",
       "    .dataframe thead th {\n",
       "        text-align: right;\n",
       "    }\n",
       "</style>\n",
       "<table border=\"1\" class=\"dataframe\">\n",
       "  <thead>\n",
       "    <tr style=\"text-align: right;\">\n",
       "      <th></th>\n",
       "      <th>club</th>\n",
       "      <th>last_name</th>\n",
       "      <th>first_name</th>\n",
       "      <th>position</th>\n",
       "      <th>base_salary_usd</th>\n",
       "      <th>base_salary_eur</th>\n",
       "      <th>guaranteed_compensation_usd</th>\n",
       "      <th>salario_final_usd</th>\n",
       "    </tr>\n",
       "    <tr>\n",
       "      <th>ID</th>\n",
       "      <th></th>\n",
       "      <th></th>\n",
       "      <th></th>\n",
       "      <th></th>\n",
       "      <th></th>\n",
       "      <th></th>\n",
       "      <th></th>\n",
       "      <th></th>\n",
       "    </tr>\n",
       "  </thead>\n",
       "  <tbody>\n",
       "    <tr>\n",
       "      <th>611</th>\n",
       "      <td>VAN</td>\n",
       "      <td>Teibert</td>\n",
       "      <td>Russell</td>\n",
       "      <td>M</td>\n",
       "      <td>126505.0</td>\n",
       "      <td>116384.6</td>\n",
       "      <td>194000.0</td>\n",
       "      <td>320500.0</td>\n",
       "    </tr>\n",
       "    <tr>\n",
       "      <th>612</th>\n",
       "      <td>VAN</td>\n",
       "      <td>Tornaghi</td>\n",
       "      <td>Paolo</td>\n",
       "      <td>GK</td>\n",
       "      <td>80005.0</td>\n",
       "      <td>73604.6</td>\n",
       "      <td>80000.0</td>\n",
       "      <td>160000.0</td>\n",
       "    </tr>\n",
       "    <tr>\n",
       "      <th>613</th>\n",
       "      <td>VAN</td>\n",
       "      <td>Waston</td>\n",
       "      <td>Kendall</td>\n",
       "      <td>D</td>\n",
       "      <td>350005.0</td>\n",
       "      <td>322004.6</td>\n",
       "      <td>368125.0</td>\n",
       "      <td>718125.0</td>\n",
       "    </tr>\n",
       "    <tr>\n",
       "      <th>614</th>\n",
       "      <td>NaN</td>\n",
       "      <td>NaN</td>\n",
       "      <td>NaN</td>\n",
       "      <td>NaN</td>\n",
       "      <td>NaN</td>\n",
       "      <td>NaN</td>\n",
       "      <td>NaN</td>\n",
       "      <td>NaN</td>\n",
       "    </tr>\n",
       "    <tr>\n",
       "      <th>615</th>\n",
       "      <td>VAN</td>\n",
       "      <td>Williams</td>\n",
       "      <td>Sheanon</td>\n",
       "      <td>D</td>\n",
       "      <td>175005.0</td>\n",
       "      <td>161004.6</td>\n",
       "      <td>184000.0</td>\n",
       "      <td>359000.0</td>\n",
       "    </tr>\n",
       "  </tbody>\n",
       "</table>\n",
       "</div>"
      ],
      "text/plain": [
       "    club last_name first_name position  base_salary_usd  base_salary_eur  \\\n",
       "ID                                                                         \n",
       "611  VAN   Teibert    Russell        M         126505.0         116384.6   \n",
       "612  VAN  Tornaghi      Paolo       GK          80005.0          73604.6   \n",
       "613  VAN    Waston    Kendall        D         350005.0         322004.6   \n",
       "614  NaN       NaN        NaN      NaN              NaN              NaN   \n",
       "615  VAN  Williams    Sheanon        D         175005.0         161004.6   \n",
       "\n",
       "     guaranteed_compensation_usd  salario_final_usd  \n",
       "ID                                                   \n",
       "611                     194000.0           320500.0  \n",
       "612                      80000.0           160000.0  \n",
       "613                     368125.0           718125.0  \n",
       "614                          NaN                NaN  \n",
       "615                     184000.0           359000.0  "
      ]
     },
     "execution_count": 66,
     "metadata": {},
     "output_type": "execute_result"
    }
   ],
   "source": [
    "df.tail()"
   ]
  },
  {
   "cell_type": "markdown",
   "id": "4c6e544a",
   "metadata": {},
   "source": [
    "## Operações com Dataframes\n",
    "\n",
    "### Parte 1"
   ]
  },
  {
   "cell_type": "code",
   "execution_count": 67,
   "id": "16e3279e",
   "metadata": {},
   "outputs": [],
   "source": [
    "# Criando um dicionário com pares de chave e valor\n",
    "stock = {'AMZN': pd.Series([346.15,0.59,459,0.52,589.8,158.88],\n",
    "                           index = ['Closing price', 'EPS', 'Shares Outstanding(M)', 'Beta', 'P/E', 'Market Cap(B)']),\n",
    "         'GOOG': pd.Series([1133.43,36.05,335.83,0.87,31.44,380.64],\n",
    "                           index = ['Closing price', 'EPS', 'Shares Outstanding(M)', 'Beta', 'P/E', 'Market Cap(B)']),\n",
    "         'FB': pd.Series([61.48,0.59,2450,104.93,150.92],\n",
    "                         index = ['Closing price', 'EPS',' Shares Outstanding(M)', 'P/E', 'Market Cap(B)']),\n",
    "         'YHOO': pd.Series([34.90,1.27,1010,27.48,0.66,35.36], \n",
    "                           index = ['Closing price', 'EPS', 'Shares Outstanding(M)', 'P/E', 'Beta', 'Market Cap(B)']),\n",
    "         'TWTR':pd.Series([65.25,-0.3,555.2,36.23],\n",
    "                          index = ['Closing price', 'EPS', 'Shares Outstanding(M)', 'Market Cap(B)']),\n",
    "         'AAPL':pd.Series([501.53,40.32,892.45,12.44,447.59,0.84],\n",
    "                          index = ['Closing price', 'EPS', 'Shares Outstanding(M)', 'P/E', 'Market Cap(B)', 'Beta'])}"
   ]
  },
  {
   "cell_type": "code",
   "execution_count": 68,
   "id": "a4106c16",
   "metadata": {},
   "outputs": [
    {
     "data": {
      "text/plain": [
       "dict"
      ]
     },
     "execution_count": 68,
     "metadata": {},
     "output_type": "execute_result"
    }
   ],
   "source": [
    "# Tipo do objeto\n",
    "type(stock)"
   ]
  },
  {
   "cell_type": "code",
   "execution_count": 69,
   "id": "18daa7bc",
   "metadata": {},
   "outputs": [
    {
     "data": {
      "text/plain": [
       "{'AMZN': Closing price            346.15\n",
       " EPS                        0.59\n",
       " Shares Outstanding(M)    459.00\n",
       " Beta                       0.52\n",
       " P/E                      589.80\n",
       " Market Cap(B)            158.88\n",
       " dtype: float64,\n",
       " 'GOOG': Closing price            1133.43\n",
       " EPS                        36.05\n",
       " Shares Outstanding(M)     335.83\n",
       " Beta                        0.87\n",
       " P/E                        31.44\n",
       " Market Cap(B)             380.64\n",
       " dtype: float64,\n",
       " 'FB': Closing price               61.48\n",
       " EPS                          0.59\n",
       "  Shares Outstanding(M)    2450.00\n",
       " P/E                        104.93\n",
       " Market Cap(B)              150.92\n",
       " dtype: float64,\n",
       " 'YHOO': Closing price              34.90\n",
       " EPS                         1.27\n",
       " Shares Outstanding(M)    1010.00\n",
       " P/E                        27.48\n",
       " Beta                        0.66\n",
       " Market Cap(B)              35.36\n",
       " dtype: float64,\n",
       " 'TWTR': Closing price             65.25\n",
       " EPS                       -0.30\n",
       " Shares Outstanding(M)    555.20\n",
       " Market Cap(B)             36.23\n",
       " dtype: float64,\n",
       " 'AAPL': Closing price            501.53\n",
       " EPS                       40.32\n",
       " Shares Outstanding(M)    892.45\n",
       " P/E                       12.44\n",
       " Market Cap(B)            447.59\n",
       " Beta                       0.84\n",
       " dtype: float64}"
      ]
     },
     "execution_count": 69,
     "metadata": {},
     "output_type": "execute_result"
    }
   ],
   "source": [
    "# Visualizando\n",
    "stock"
   ]
  },
  {
   "cell_type": "code",
   "execution_count": 70,
   "id": "4f9d15a6",
   "metadata": {},
   "outputs": [],
   "source": [
    "# Convertendo o dicionario em dataframe do pands\n",
    "stock_df = pd.DataFrame(stock)"
   ]
  },
  {
   "cell_type": "code",
   "execution_count": 71,
   "id": "621c3fe1",
   "metadata": {},
   "outputs": [
    {
     "data": {
      "text/html": [
       "<div>\n",
       "<style scoped>\n",
       "    .dataframe tbody tr th:only-of-type {\n",
       "        vertical-align: middle;\n",
       "    }\n",
       "\n",
       "    .dataframe tbody tr th {\n",
       "        vertical-align: top;\n",
       "    }\n",
       "\n",
       "    .dataframe thead th {\n",
       "        text-align: right;\n",
       "    }\n",
       "</style>\n",
       "<table border=\"1\" class=\"dataframe\">\n",
       "  <thead>\n",
       "    <tr style=\"text-align: right;\">\n",
       "      <th></th>\n",
       "      <th>AMZN</th>\n",
       "      <th>GOOG</th>\n",
       "      <th>FB</th>\n",
       "      <th>YHOO</th>\n",
       "      <th>TWTR</th>\n",
       "      <th>AAPL</th>\n",
       "    </tr>\n",
       "  </thead>\n",
       "  <tbody>\n",
       "    <tr>\n",
       "      <th>Shares Outstanding(M)</th>\n",
       "      <td>NaN</td>\n",
       "      <td>NaN</td>\n",
       "      <td>2450.00</td>\n",
       "      <td>NaN</td>\n",
       "      <td>NaN</td>\n",
       "      <td>NaN</td>\n",
       "    </tr>\n",
       "    <tr>\n",
       "      <th>Beta</th>\n",
       "      <td>0.52</td>\n",
       "      <td>0.87</td>\n",
       "      <td>NaN</td>\n",
       "      <td>0.66</td>\n",
       "      <td>NaN</td>\n",
       "      <td>0.84</td>\n",
       "    </tr>\n",
       "    <tr>\n",
       "      <th>Closing price</th>\n",
       "      <td>346.15</td>\n",
       "      <td>1133.43</td>\n",
       "      <td>61.48</td>\n",
       "      <td>34.90</td>\n",
       "      <td>65.25</td>\n",
       "      <td>501.53</td>\n",
       "    </tr>\n",
       "    <tr>\n",
       "      <th>EPS</th>\n",
       "      <td>0.59</td>\n",
       "      <td>36.05</td>\n",
       "      <td>0.59</td>\n",
       "      <td>1.27</td>\n",
       "      <td>-0.30</td>\n",
       "      <td>40.32</td>\n",
       "    </tr>\n",
       "    <tr>\n",
       "      <th>Market Cap(B)</th>\n",
       "      <td>158.88</td>\n",
       "      <td>380.64</td>\n",
       "      <td>150.92</td>\n",
       "      <td>35.36</td>\n",
       "      <td>36.23</td>\n",
       "      <td>447.59</td>\n",
       "    </tr>\n",
       "    <tr>\n",
       "      <th>P/E</th>\n",
       "      <td>589.80</td>\n",
       "      <td>31.44</td>\n",
       "      <td>104.93</td>\n",
       "      <td>27.48</td>\n",
       "      <td>NaN</td>\n",
       "      <td>12.44</td>\n",
       "    </tr>\n",
       "    <tr>\n",
       "      <th>Shares Outstanding(M)</th>\n",
       "      <td>459.00</td>\n",
       "      <td>335.83</td>\n",
       "      <td>NaN</td>\n",
       "      <td>1010.00</td>\n",
       "      <td>555.20</td>\n",
       "      <td>892.45</td>\n",
       "    </tr>\n",
       "  </tbody>\n",
       "</table>\n",
       "</div>"
      ],
      "text/plain": [
       "                          AMZN     GOOG       FB     YHOO    TWTR    AAPL\n",
       " Shares Outstanding(M)     NaN      NaN  2450.00      NaN     NaN     NaN\n",
       "Beta                      0.52     0.87      NaN     0.66     NaN    0.84\n",
       "Closing price           346.15  1133.43    61.48    34.90   65.25  501.53\n",
       "EPS                       0.59    36.05     0.59     1.27   -0.30   40.32\n",
       "Market Cap(B)           158.88   380.64   150.92    35.36   36.23  447.59\n",
       "P/E                     589.80    31.44   104.93    27.48     NaN   12.44\n",
       "Shares Outstanding(M)   459.00   335.83      NaN  1010.00  555.20  892.45"
      ]
     },
     "execution_count": 71,
     "metadata": {},
     "output_type": "execute_result"
    }
   ],
   "source": [
    "stock_df.head(10)"
   ]
  },
  {
   "cell_type": "code",
   "execution_count": 72,
   "id": "cf802bca",
   "metadata": {},
   "outputs": [],
   "source": [
    "# Podemos converter o dicionário em dataframe definindo quais são os índices de cada linha e a ordem desejada\n",
    "stock_df = pd.DataFrame(stock, \n",
    "                        index = ['Closing price',\n",
    "                                 'EPS', \n",
    "                                 'Shares Outstanding(M)',\n",
    "                                 'P/E', \n",
    "                                 'Market Cap(B)',\n",
    "                                 'Beta'])"
   ]
  },
  {
   "cell_type": "code",
   "execution_count": 75,
   "id": "f651fac5",
   "metadata": {},
   "outputs": [
    {
     "data": {
      "text/html": [
       "<div>\n",
       "<style scoped>\n",
       "    .dataframe tbody tr th:only-of-type {\n",
       "        vertical-align: middle;\n",
       "    }\n",
       "\n",
       "    .dataframe tbody tr th {\n",
       "        vertical-align: top;\n",
       "    }\n",
       "\n",
       "    .dataframe thead th {\n",
       "        text-align: right;\n",
       "    }\n",
       "</style>\n",
       "<table border=\"1\" class=\"dataframe\">\n",
       "  <thead>\n",
       "    <tr style=\"text-align: right;\">\n",
       "      <th></th>\n",
       "      <th>AMZN</th>\n",
       "      <th>GOOG</th>\n",
       "      <th>FB</th>\n",
       "      <th>YHOO</th>\n",
       "      <th>TWTR</th>\n",
       "      <th>AAPL</th>\n",
       "    </tr>\n",
       "  </thead>\n",
       "  <tbody>\n",
       "    <tr>\n",
       "      <th>Closing price</th>\n",
       "      <td>346.15</td>\n",
       "      <td>1133.43</td>\n",
       "      <td>61.48</td>\n",
       "      <td>34.90</td>\n",
       "      <td>65.25</td>\n",
       "      <td>501.53</td>\n",
       "    </tr>\n",
       "    <tr>\n",
       "      <th>EPS</th>\n",
       "      <td>0.59</td>\n",
       "      <td>36.05</td>\n",
       "      <td>0.59</td>\n",
       "      <td>1.27</td>\n",
       "      <td>-0.30</td>\n",
       "      <td>40.32</td>\n",
       "    </tr>\n",
       "    <tr>\n",
       "      <th>Shares Outstanding(M)</th>\n",
       "      <td>459.00</td>\n",
       "      <td>335.83</td>\n",
       "      <td>NaN</td>\n",
       "      <td>1010.00</td>\n",
       "      <td>555.20</td>\n",
       "      <td>892.45</td>\n",
       "    </tr>\n",
       "    <tr>\n",
       "      <th>P/E</th>\n",
       "      <td>589.80</td>\n",
       "      <td>31.44</td>\n",
       "      <td>104.93</td>\n",
       "      <td>27.48</td>\n",
       "      <td>NaN</td>\n",
       "      <td>12.44</td>\n",
       "    </tr>\n",
       "    <tr>\n",
       "      <th>Market Cap(B)</th>\n",
       "      <td>158.88</td>\n",
       "      <td>380.64</td>\n",
       "      <td>150.92</td>\n",
       "      <td>35.36</td>\n",
       "      <td>36.23</td>\n",
       "      <td>447.59</td>\n",
       "    </tr>\n",
       "    <tr>\n",
       "      <th>Beta</th>\n",
       "      <td>0.52</td>\n",
       "      <td>0.87</td>\n",
       "      <td>NaN</td>\n",
       "      <td>0.66</td>\n",
       "      <td>NaN</td>\n",
       "      <td>0.84</td>\n",
       "    </tr>\n",
       "  </tbody>\n",
       "</table>\n",
       "</div>"
      ],
      "text/plain": [
       "                         AMZN     GOOG      FB     YHOO    TWTR    AAPL\n",
       "Closing price          346.15  1133.43   61.48    34.90   65.25  501.53\n",
       "EPS                      0.59    36.05    0.59     1.27   -0.30   40.32\n",
       "Shares Outstanding(M)  459.00   335.83     NaN  1010.00  555.20  892.45\n",
       "P/E                    589.80    31.44  104.93    27.48     NaN   12.44\n",
       "Market Cap(B)          158.88   380.64  150.92    35.36   36.23  447.59\n",
       "Beta                     0.52     0.87     NaN     0.66     NaN    0.84"
      ]
     },
     "execution_count": 75,
     "metadata": {},
     "output_type": "execute_result"
    }
   ],
   "source": [
    "stock_df.head(6)"
   ]
  },
  {
   "cell_type": "code",
   "execution_count": 78,
   "id": "705b3890",
   "metadata": {},
   "outputs": [],
   "source": [
    "# Podemos converter o dicionário em dataframe definindo quais são os índices de cada linha e os títulos das colunas\n",
    "stock_df = pd.DataFrame(stock,\n",
    "                        index = ['Closing price',\n",
    "                                 'EPS',\n",
    "                                 'Shares Outstanding(M)',\n",
    "                                 'P/E', \n",
    "                                 'Market Cap(B)',\n",
    "                                 'Beta'],\n",
    "                        columns = ['AMZN','GOOG','FB'])"
   ]
  },
  {
   "cell_type": "code",
   "execution_count": 80,
   "id": "a891eacc",
   "metadata": {},
   "outputs": [
    {
     "data": {
      "text/plain": [
       "Index(['Closing price', 'EPS', 'Shares Outstanding(M)', 'P/E', 'Market Cap(B)',\n",
       "       'Beta'],\n",
       "      dtype='object')"
      ]
     },
     "execution_count": 80,
     "metadata": {},
     "output_type": "execute_result"
    }
   ],
   "source": [
    "# Índices\n",
    "stock_df.index"
   ]
  },
  {
   "cell_type": "code",
   "execution_count": 81,
   "id": "818fe3a1",
   "metadata": {},
   "outputs": [
    {
     "data": {
      "text/plain": [
       "Index(['AMZN', 'GOOG', 'FB'], dtype='object')"
      ]
     },
     "execution_count": 81,
     "metadata": {},
     "output_type": "execute_result"
    }
   ],
   "source": [
    "# Colunas\n",
    "stock_df.columns"
   ]
  },
  {
   "cell_type": "markdown",
   "id": "0cfb163d",
   "metadata": {},
   "source": [
    "### Parte 2"
   ]
  },
  {
   "cell_type": "code",
   "execution_count": 82,
   "id": "42056e69",
   "metadata": {},
   "outputs": [],
   "source": [
    "# Dicionário\n",
    "Quadro_Medalhas_Olimpiada = {\n",
    "    'EUA' : {'Ouro':46, 'Prata':37, 'Bronze':38},\n",
    "    'China':{'Ouro':26, 'Prata':18, 'Bronze':26},\n",
    "    'Inglaterra':{'Ouro':27, 'Prata':23, 'Bronze':17},\n",
    "    'Alemanha':{'Ouro':19, 'Prata':18, 'Bronze':19},\n",
    "    'Uruguai':{'Ouro':17, 'Prata':10, 'Bronze':15}}"
   ]
  },
  {
   "cell_type": "code",
   "execution_count": 83,
   "id": "3d45ae37",
   "metadata": {},
   "outputs": [],
   "source": [
    "# Converte para dataframe\n",
    "df_olimpiada = pd.DataFrame.from_dict(Quadro_Medalhas_Olimpiada)"
   ]
  },
  {
   "cell_type": "code",
   "execution_count": 84,
   "id": "626ce066",
   "metadata": {},
   "outputs": [
    {
     "data": {
      "text/html": [
       "<div>\n",
       "<style scoped>\n",
       "    .dataframe tbody tr th:only-of-type {\n",
       "        vertical-align: middle;\n",
       "    }\n",
       "\n",
       "    .dataframe tbody tr th {\n",
       "        vertical-align: top;\n",
       "    }\n",
       "\n",
       "    .dataframe thead th {\n",
       "        text-align: right;\n",
       "    }\n",
       "</style>\n",
       "<table border=\"1\" class=\"dataframe\">\n",
       "  <thead>\n",
       "    <tr style=\"text-align: right;\">\n",
       "      <th></th>\n",
       "      <th>EUA</th>\n",
       "      <th>China</th>\n",
       "      <th>Inglaterra</th>\n",
       "      <th>Alemanha</th>\n",
       "      <th>Uruguai</th>\n",
       "    </tr>\n",
       "  </thead>\n",
       "  <tbody>\n",
       "    <tr>\n",
       "      <th>Ouro</th>\n",
       "      <td>46</td>\n",
       "      <td>26</td>\n",
       "      <td>27</td>\n",
       "      <td>19</td>\n",
       "      <td>17</td>\n",
       "    </tr>\n",
       "    <tr>\n",
       "      <th>Prata</th>\n",
       "      <td>37</td>\n",
       "      <td>18</td>\n",
       "      <td>23</td>\n",
       "      <td>18</td>\n",
       "      <td>10</td>\n",
       "    </tr>\n",
       "    <tr>\n",
       "      <th>Bronze</th>\n",
       "      <td>38</td>\n",
       "      <td>26</td>\n",
       "      <td>17</td>\n",
       "      <td>19</td>\n",
       "      <td>15</td>\n",
       "    </tr>\n",
       "  </tbody>\n",
       "</table>\n",
       "</div>"
      ],
      "text/plain": [
       "        EUA  China  Inglaterra  Alemanha  Uruguai\n",
       "Ouro     46     26          27        19       17\n",
       "Prata    37     18          23        18       10\n",
       "Bronze   38     26          17        19       15"
      ]
     },
     "execution_count": 84,
     "metadata": {},
     "output_type": "execute_result"
    }
   ],
   "source": [
    "df_olimpiada"
   ]
  },
  {
   "cell_type": "code",
   "execution_count": 85,
   "id": "4bc2931f",
   "metadata": {},
   "outputs": [
    {
     "data": {
      "text/html": [
       "<div>\n",
       "<style scoped>\n",
       "    .dataframe tbody tr th:only-of-type {\n",
       "        vertical-align: middle;\n",
       "    }\n",
       "\n",
       "    .dataframe tbody tr th {\n",
       "        vertical-align: top;\n",
       "    }\n",
       "\n",
       "    .dataframe thead th {\n",
       "        text-align: right;\n",
       "    }\n",
       "</style>\n",
       "<table border=\"1\" class=\"dataframe\">\n",
       "  <thead>\n",
       "    <tr style=\"text-align: right;\">\n",
       "      <th></th>\n",
       "      <th>EUA</th>\n",
       "      <th>China</th>\n",
       "      <th>Inglaterra</th>\n",
       "      <th>Alemanha</th>\n",
       "      <th>Uruguai</th>\n",
       "    </tr>\n",
       "  </thead>\n",
       "  <tbody>\n",
       "    <tr>\n",
       "      <th>Ouro</th>\n",
       "      <td>46</td>\n",
       "      <td>26</td>\n",
       "      <td>27</td>\n",
       "      <td>19</td>\n",
       "      <td>17</td>\n",
       "    </tr>\n",
       "    <tr>\n",
       "      <th>Prata</th>\n",
       "      <td>37</td>\n",
       "      <td>18</td>\n",
       "      <td>23</td>\n",
       "      <td>18</td>\n",
       "      <td>10</td>\n",
       "    </tr>\n",
       "    <tr>\n",
       "      <th>Bronze</th>\n",
       "      <td>38</td>\n",
       "      <td>26</td>\n",
       "      <td>17</td>\n",
       "      <td>19</td>\n",
       "      <td>15</td>\n",
       "    </tr>\n",
       "  </tbody>\n",
       "</table>\n",
       "</div>"
      ],
      "text/plain": [
       "        EUA  China  Inglaterra  Alemanha  Uruguai\n",
       "Ouro     46     26          27        19       17\n",
       "Prata    37     18          23        18       10\n",
       "Bronze   38     26          17        19       15"
      ]
     },
     "metadata": {},
     "output_type": "display_data"
    }
   ],
   "source": [
    "display(df_olimpiada)"
   ]
  },
  {
   "cell_type": "code",
   "execution_count": 87,
   "id": "a7286bb8",
   "metadata": {},
   "outputs": [
    {
     "data": {
      "text/plain": [
       "pandas.core.frame.DataFrame"
      ]
     },
     "execution_count": 87,
     "metadata": {},
     "output_type": "execute_result"
    }
   ],
   "source": [
    "type(df_olimpiada)"
   ]
  },
  {
   "cell_type": "code",
   "execution_count": 88,
   "id": "72d8a18a",
   "metadata": {},
   "outputs": [
    {
     "data": {
      "text/html": [
       "<div>\n",
       "<style scoped>\n",
       "    .dataframe tbody tr th:only-of-type {\n",
       "        vertical-align: middle;\n",
       "    }\n",
       "\n",
       "    .dataframe tbody tr th {\n",
       "        vertical-align: top;\n",
       "    }\n",
       "\n",
       "    .dataframe thead th {\n",
       "        text-align: right;\n",
       "    }\n",
       "</style>\n",
       "<table border=\"1\" class=\"dataframe\">\n",
       "  <thead>\n",
       "    <tr style=\"text-align: right;\">\n",
       "      <th></th>\n",
       "      <th>EUA</th>\n",
       "      <th>China</th>\n",
       "      <th>Inglaterra</th>\n",
       "      <th>Alemanha</th>\n",
       "      <th>Uruguai</th>\n",
       "    </tr>\n",
       "  </thead>\n",
       "  <tbody>\n",
       "    <tr>\n",
       "      <th>Ouro</th>\n",
       "      <td>46</td>\n",
       "      <td>26</td>\n",
       "      <td>27</td>\n",
       "      <td>19</td>\n",
       "      <td>17</td>\n",
       "    </tr>\n",
       "    <tr>\n",
       "      <th>Prata</th>\n",
       "      <td>37</td>\n",
       "      <td>18</td>\n",
       "      <td>23</td>\n",
       "      <td>18</td>\n",
       "      <td>10</td>\n",
       "    </tr>\n",
       "    <tr>\n",
       "      <th>Bronze</th>\n",
       "      <td>38</td>\n",
       "      <td>26</td>\n",
       "      <td>17</td>\n",
       "      <td>19</td>\n",
       "      <td>15</td>\n",
       "    </tr>\n",
       "  </tbody>\n",
       "</table>\n",
       "</div>"
      ],
      "text/plain": [
       "        EUA  China  Inglaterra  Alemanha  Uruguai\n",
       "Ouro     46     26          27        19       17\n",
       "Prata    37     18          23        18       10\n",
       "Bronze   38     26          17        19       15"
      ]
     },
     "execution_count": 88,
     "metadata": {},
     "output_type": "execute_result"
    }
   ],
   "source": [
    "df_olimpiada.head()"
   ]
  },
  {
   "cell_type": "code",
   "execution_count": 89,
   "id": "351c6086",
   "metadata": {},
   "outputs": [
    {
     "data": {
      "text/plain": [
       "Ouro      26\n",
       "Prata     18\n",
       "Bronze    26\n",
       "Name: China, dtype: int64"
      ]
     },
     "execution_count": 89,
     "metadata": {},
     "output_type": "execute_result"
    }
   ],
   "source": [
    "df_olimpiada['China']"
   ]
  },
  {
   "cell_type": "code",
   "execution_count": 90,
   "id": "97320f3e",
   "metadata": {},
   "outputs": [],
   "source": [
    "Medalhas_China = df_olimpiada['China']"
   ]
  },
  {
   "cell_type": "code",
   "execution_count": 91,
   "id": "3d9cbdfb",
   "metadata": {},
   "outputs": [
    {
     "data": {
      "text/plain": [
       "pandas.core.series.Series"
      ]
     },
     "execution_count": 91,
     "metadata": {},
     "output_type": "execute_result"
    }
   ],
   "source": [
    "type(Medalhas_China)"
   ]
  },
  {
   "cell_type": "code",
   "execution_count": 92,
   "id": "9fa1427c",
   "metadata": {},
   "outputs": [
    {
     "data": {
      "text/plain": [
       "Ouro      26\n",
       "Prata     18\n",
       "Bronze    26\n",
       "Name: China, dtype: int64"
      ]
     },
     "execution_count": 92,
     "metadata": {},
     "output_type": "execute_result"
    }
   ],
   "source": [
    "Medalhas_China"
   ]
  },
  {
   "cell_type": "code",
   "execution_count": 94,
   "id": "92ba9e44",
   "metadata": {},
   "outputs": [
    {
     "data": {
      "text/plain": [
       "Ouro      17\n",
       "Prata     10\n",
       "Bronze    15\n",
       "Name: Uruguai, dtype: int64"
      ]
     },
     "execution_count": 94,
     "metadata": {},
     "output_type": "execute_result"
    }
   ],
   "source": [
    "df_olimpiada.Uruguai"
   ]
  },
  {
   "cell_type": "code",
   "execution_count": 95,
   "id": "6ad56d9a",
   "metadata": {},
   "outputs": [
    {
     "data": {
      "text/html": [
       "<div>\n",
       "<style scoped>\n",
       "    .dataframe tbody tr th:only-of-type {\n",
       "        vertical-align: middle;\n",
       "    }\n",
       "\n",
       "    .dataframe tbody tr th {\n",
       "        vertical-align: top;\n",
       "    }\n",
       "\n",
       "    .dataframe thead th {\n",
       "        text-align: right;\n",
       "    }\n",
       "</style>\n",
       "<table border=\"1\" class=\"dataframe\">\n",
       "  <thead>\n",
       "    <tr style=\"text-align: right;\">\n",
       "      <th></th>\n",
       "      <th>Alemanha</th>\n",
       "      <th>EUA</th>\n",
       "    </tr>\n",
       "  </thead>\n",
       "  <tbody>\n",
       "    <tr>\n",
       "      <th>Ouro</th>\n",
       "      <td>19</td>\n",
       "      <td>46</td>\n",
       "    </tr>\n",
       "    <tr>\n",
       "      <th>Prata</th>\n",
       "      <td>18</td>\n",
       "      <td>37</td>\n",
       "    </tr>\n",
       "    <tr>\n",
       "      <th>Bronze</th>\n",
       "      <td>19</td>\n",
       "      <td>38</td>\n",
       "    </tr>\n",
       "  </tbody>\n",
       "</table>\n",
       "</div>"
      ],
      "text/plain": [
       "        Alemanha  EUA\n",
       "Ouro          19   46\n",
       "Prata         18   37\n",
       "Bronze        19   38"
      ]
     },
     "execution_count": 95,
     "metadata": {},
     "output_type": "execute_result"
    }
   ],
   "source": [
    "df_olimpiada[['Alemanha', 'EUA']]"
   ]
  },
  {
   "cell_type": "code",
   "execution_count": 96,
   "id": "11a29a2b",
   "metadata": {},
   "outputs": [
    {
     "data": {
      "text/plain": [
       "Ouro      27\n",
       "Prata     23\n",
       "Bronze    17\n",
       "Name: Inglaterra, dtype: int64"
      ]
     },
     "execution_count": 96,
     "metadata": {},
     "output_type": "execute_result"
    }
   ],
   "source": [
    "df_olimpiada.get('Inglaterra')"
   ]
  },
  {
   "cell_type": "code",
   "execution_count": 97,
   "id": "7df8c0e8",
   "metadata": {},
   "outputs": [
    {
     "data": {
      "text/html": [
       "<div>\n",
       "<style scoped>\n",
       "    .dataframe tbody tr th:only-of-type {\n",
       "        vertical-align: middle;\n",
       "    }\n",
       "\n",
       "    .dataframe tbody tr th {\n",
       "        vertical-align: top;\n",
       "    }\n",
       "\n",
       "    .dataframe thead th {\n",
       "        text-align: right;\n",
       "    }\n",
       "</style>\n",
       "<table border=\"1\" class=\"dataframe\">\n",
       "  <thead>\n",
       "    <tr style=\"text-align: right;\">\n",
       "      <th></th>\n",
       "      <th>EUA</th>\n",
       "      <th>China</th>\n",
       "      <th>Inglaterra</th>\n",
       "      <th>Alemanha</th>\n",
       "      <th>Uruguai</th>\n",
       "    </tr>\n",
       "  </thead>\n",
       "  <tbody>\n",
       "    <tr>\n",
       "      <th>Ouro</th>\n",
       "      <td>46</td>\n",
       "      <td>26</td>\n",
       "      <td>27</td>\n",
       "      <td>19</td>\n",
       "      <td>17</td>\n",
       "    </tr>\n",
       "    <tr>\n",
       "      <th>Prata</th>\n",
       "      <td>37</td>\n",
       "      <td>18</td>\n",
       "      <td>23</td>\n",
       "      <td>18</td>\n",
       "      <td>10</td>\n",
       "    </tr>\n",
       "    <tr>\n",
       "      <th>Bronze</th>\n",
       "      <td>38</td>\n",
       "      <td>26</td>\n",
       "      <td>17</td>\n",
       "      <td>19</td>\n",
       "      <td>15</td>\n",
       "    </tr>\n",
       "  </tbody>\n",
       "</table>\n",
       "</div>"
      ],
      "text/plain": [
       "        EUA  China  Inglaterra  Alemanha  Uruguai\n",
       "Ouro     46     26          27        19       17\n",
       "Prata    37     18          23        18       10\n",
       "Bronze   38     26          17        19       15"
      ]
     },
     "execution_count": 97,
     "metadata": {},
     "output_type": "execute_result"
    }
   ],
   "source": [
    "df_olimpiada"
   ]
  },
  {
   "cell_type": "markdown",
   "id": "990e98c7",
   "metadata": {},
   "source": [
    "### Parte 3"
   ]
  },
  {
   "cell_type": "code",
   "execution_count": 98,
   "id": "d90f0f26",
   "metadata": {},
   "outputs": [
    {
     "data": {
      "text/html": [
       "<div>\n",
       "<style scoped>\n",
       "    .dataframe tbody tr th:only-of-type {\n",
       "        vertical-align: middle;\n",
       "    }\n",
       "\n",
       "    .dataframe tbody tr th {\n",
       "        vertical-align: top;\n",
       "    }\n",
       "\n",
       "    .dataframe thead th {\n",
       "        text-align: right;\n",
       "    }\n",
       "</style>\n",
       "<table border=\"1\" class=\"dataframe\">\n",
       "  <thead>\n",
       "    <tr style=\"text-align: right;\">\n",
       "      <th></th>\n",
       "      <th>EUA</th>\n",
       "      <th>China</th>\n",
       "      <th>Inglaterra</th>\n",
       "      <th>Alemanha</th>\n",
       "      <th>Uruguai</th>\n",
       "    </tr>\n",
       "  </thead>\n",
       "  <tbody>\n",
       "    <tr>\n",
       "      <th>Ouro</th>\n",
       "      <td>46</td>\n",
       "      <td>26</td>\n",
       "      <td>27</td>\n",
       "      <td>19</td>\n",
       "      <td>17</td>\n",
       "    </tr>\n",
       "    <tr>\n",
       "      <th>Prata</th>\n",
       "      <td>37</td>\n",
       "      <td>18</td>\n",
       "      <td>23</td>\n",
       "      <td>18</td>\n",
       "      <td>10</td>\n",
       "    </tr>\n",
       "    <tr>\n",
       "      <th>Bronze</th>\n",
       "      <td>38</td>\n",
       "      <td>26</td>\n",
       "      <td>17</td>\n",
       "      <td>19</td>\n",
       "      <td>15</td>\n",
       "    </tr>\n",
       "  </tbody>\n",
       "</table>\n",
       "</div>"
      ],
      "text/plain": [
       "        EUA  China  Inglaterra  Alemanha  Uruguai\n",
       "Ouro     46     26          27        19       17\n",
       "Prata    37     18          23        18       10\n",
       "Bronze   38     26          17        19       15"
      ]
     },
     "execution_count": 98,
     "metadata": {},
     "output_type": "execute_result"
    }
   ],
   "source": [
    "df_olimpiada"
   ]
  },
  {
   "cell_type": "code",
   "execution_count": 117,
   "id": "27dbdec7",
   "metadata": {},
   "outputs": [
    {
     "data": {
      "text/html": [
       "<div>\n",
       "<style scoped>\n",
       "    .dataframe tbody tr th:only-of-type {\n",
       "        vertical-align: middle;\n",
       "    }\n",
       "\n",
       "    .dataframe tbody tr th {\n",
       "        vertical-align: top;\n",
       "    }\n",
       "\n",
       "    .dataframe thead th {\n",
       "        text-align: right;\n",
       "    }\n",
       "</style>\n",
       "<table border=\"1\" class=\"dataframe\">\n",
       "  <thead>\n",
       "    <tr style=\"text-align: right;\">\n",
       "      <th></th>\n",
       "      <th>EUA</th>\n",
       "      <th>China</th>\n",
       "      <th>Inglaterra</th>\n",
       "      <th>Alemanha</th>\n",
       "      <th>Uruguai</th>\n",
       "    </tr>\n",
       "  </thead>\n",
       "  <tbody>\n",
       "    <tr>\n",
       "      <th>Ouro</th>\n",
       "      <td>46</td>\n",
       "      <td>26</td>\n",
       "      <td>27</td>\n",
       "      <td>19</td>\n",
       "      <td>17</td>\n",
       "    </tr>\n",
       "    <tr>\n",
       "      <th>Prata</th>\n",
       "      <td>37</td>\n",
       "      <td>18</td>\n",
       "      <td>23</td>\n",
       "      <td>18</td>\n",
       "      <td>10</td>\n",
       "    </tr>\n",
       "  </tbody>\n",
       "</table>\n",
       "</div>"
      ],
      "text/plain": [
       "       EUA  China  Inglaterra  Alemanha  Uruguai\n",
       "Ouro    46     26          27        19       17\n",
       "Prata   37     18          23        18       10"
      ]
     },
     "execution_count": 117,
     "metadata": {},
     "output_type": "execute_result"
    }
   ],
   "source": [
    "df_olimpiada[:2]"
   ]
  },
  {
   "cell_type": "code",
   "execution_count": 100,
   "id": "2e35b16d",
   "metadata": {},
   "outputs": [
    {
     "data": {
      "text/html": [
       "<div>\n",
       "<style scoped>\n",
       "    .dataframe tbody tr th:only-of-type {\n",
       "        vertical-align: middle;\n",
       "    }\n",
       "\n",
       "    .dataframe tbody tr th {\n",
       "        vertical-align: top;\n",
       "    }\n",
       "\n",
       "    .dataframe thead th {\n",
       "        text-align: right;\n",
       "    }\n",
       "</style>\n",
       "<table border=\"1\" class=\"dataframe\">\n",
       "  <thead>\n",
       "    <tr style=\"text-align: right;\">\n",
       "      <th></th>\n",
       "      <th>EUA</th>\n",
       "      <th>China</th>\n",
       "      <th>Inglaterra</th>\n",
       "      <th>Alemanha</th>\n",
       "      <th>Uruguai</th>\n",
       "    </tr>\n",
       "  </thead>\n",
       "  <tbody>\n",
       "    <tr>\n",
       "      <th>Bronze</th>\n",
       "      <td>38</td>\n",
       "      <td>26</td>\n",
       "      <td>17</td>\n",
       "      <td>19</td>\n",
       "      <td>15</td>\n",
       "    </tr>\n",
       "  </tbody>\n",
       "</table>\n",
       "</div>"
      ],
      "text/plain": [
       "        EUA  China  Inglaterra  Alemanha  Uruguai\n",
       "Bronze   38     26          17        19       15"
      ]
     },
     "execution_count": 100,
     "metadata": {},
     "output_type": "execute_result"
    }
   ],
   "source": [
    "df_olimpiada[2:]"
   ]
  },
  {
   "cell_type": "code",
   "execution_count": 104,
   "id": "efa18a95",
   "metadata": {},
   "outputs": [
    {
     "data": {
      "text/html": [
       "<div>\n",
       "<style scoped>\n",
       "    .dataframe tbody tr th:only-of-type {\n",
       "        vertical-align: middle;\n",
       "    }\n",
       "\n",
       "    .dataframe tbody tr th {\n",
       "        vertical-align: top;\n",
       "    }\n",
       "\n",
       "    .dataframe thead th {\n",
       "        text-align: right;\n",
       "    }\n",
       "</style>\n",
       "<table border=\"1\" class=\"dataframe\">\n",
       "  <thead>\n",
       "    <tr style=\"text-align: right;\">\n",
       "      <th></th>\n",
       "      <th>EUA</th>\n",
       "      <th>China</th>\n",
       "      <th>Inglaterra</th>\n",
       "      <th>Alemanha</th>\n",
       "      <th>Uruguai</th>\n",
       "    </tr>\n",
       "  </thead>\n",
       "  <tbody>\n",
       "    <tr>\n",
       "      <th>Ouro</th>\n",
       "      <td>46</td>\n",
       "      <td>26</td>\n",
       "      <td>27</td>\n",
       "      <td>19</td>\n",
       "      <td>17</td>\n",
       "    </tr>\n",
       "    <tr>\n",
       "      <th>Bronze</th>\n",
       "      <td>38</td>\n",
       "      <td>26</td>\n",
       "      <td>17</td>\n",
       "      <td>19</td>\n",
       "      <td>15</td>\n",
       "    </tr>\n",
       "  </tbody>\n",
       "</table>\n",
       "</div>"
      ],
      "text/plain": [
       "        EUA  China  Inglaterra  Alemanha  Uruguai\n",
       "Ouro     46     26          27        19       17\n",
       "Bronze   38     26          17        19       15"
      ]
     },
     "execution_count": 104,
     "metadata": {},
     "output_type": "execute_result"
    }
   ],
   "source": [
    "df_olimpiada[::2]"
   ]
  },
  {
   "cell_type": "code",
   "execution_count": 105,
   "id": "7472cd9e",
   "metadata": {},
   "outputs": [
    {
     "data": {
      "text/html": [
       "<div>\n",
       "<style scoped>\n",
       "    .dataframe tbody tr th:only-of-type {\n",
       "        vertical-align: middle;\n",
       "    }\n",
       "\n",
       "    .dataframe tbody tr th {\n",
       "        vertical-align: top;\n",
       "    }\n",
       "\n",
       "    .dataframe thead th {\n",
       "        text-align: right;\n",
       "    }\n",
       "</style>\n",
       "<table border=\"1\" class=\"dataframe\">\n",
       "  <thead>\n",
       "    <tr style=\"text-align: right;\">\n",
       "      <th></th>\n",
       "      <th>EUA</th>\n",
       "      <th>China</th>\n",
       "      <th>Inglaterra</th>\n",
       "      <th>Alemanha</th>\n",
       "      <th>Uruguai</th>\n",
       "    </tr>\n",
       "  </thead>\n",
       "  <tbody>\n",
       "    <tr>\n",
       "      <th>Bronze</th>\n",
       "      <td>38</td>\n",
       "      <td>26</td>\n",
       "      <td>17</td>\n",
       "      <td>19</td>\n",
       "      <td>15</td>\n",
       "    </tr>\n",
       "    <tr>\n",
       "      <th>Ouro</th>\n",
       "      <td>46</td>\n",
       "      <td>26</td>\n",
       "      <td>27</td>\n",
       "      <td>19</td>\n",
       "      <td>17</td>\n",
       "    </tr>\n",
       "  </tbody>\n",
       "</table>\n",
       "</div>"
      ],
      "text/plain": [
       "        EUA  China  Inglaterra  Alemanha  Uruguai\n",
       "Bronze   38     26          17        19       15\n",
       "Ouro     46     26          27        19       17"
      ]
     },
     "execution_count": 105,
     "metadata": {},
     "output_type": "execute_result"
    }
   ],
   "source": [
    "df_olimpiada[::-2]"
   ]
  },
  {
   "cell_type": "code",
   "execution_count": 116,
   "id": "2e15de51",
   "metadata": {},
   "outputs": [
    {
     "data": {
      "text/html": [
       "<div>\n",
       "<style scoped>\n",
       "    .dataframe tbody tr th:only-of-type {\n",
       "        vertical-align: middle;\n",
       "    }\n",
       "\n",
       "    .dataframe tbody tr th {\n",
       "        vertical-align: top;\n",
       "    }\n",
       "\n",
       "    .dataframe thead th {\n",
       "        text-align: right;\n",
       "    }\n",
       "</style>\n",
       "<table border=\"1\" class=\"dataframe\">\n",
       "  <thead>\n",
       "    <tr style=\"text-align: right;\">\n",
       "      <th></th>\n",
       "      <th>EUA</th>\n",
       "      <th>China</th>\n",
       "      <th>Inglaterra</th>\n",
       "      <th>Alemanha</th>\n",
       "    </tr>\n",
       "  </thead>\n",
       "  <tbody>\n",
       "    <tr>\n",
       "      <th>Ouro</th>\n",
       "      <td>46</td>\n",
       "      <td>26</td>\n",
       "      <td>27</td>\n",
       "      <td>19</td>\n",
       "    </tr>\n",
       "    <tr>\n",
       "      <th>Bronze</th>\n",
       "      <td>38</td>\n",
       "      <td>26</td>\n",
       "      <td>17</td>\n",
       "      <td>19</td>\n",
       "    </tr>\n",
       "  </tbody>\n",
       "</table>\n",
       "</div>"
      ],
      "text/plain": [
       "        EUA  China  Inglaterra  Alemanha\n",
       "Ouro     46     26          27        19\n",
       "Bronze   38     26          17        19"
      ]
     },
     "execution_count": 116,
     "metadata": {},
     "output_type": "execute_result"
    }
   ],
   "source": [
    "# Retornando coluna\n",
    "df_olimpiada.iloc[::2, :4]"
   ]
  },
  {
   "cell_type": "code",
   "execution_count": 133,
   "id": "01d72547",
   "metadata": {},
   "outputs": [
    {
     "data": {
      "text/html": [
       "<div>\n",
       "<style scoped>\n",
       "    .dataframe tbody tr th:only-of-type {\n",
       "        vertical-align: middle;\n",
       "    }\n",
       "\n",
       "    .dataframe tbody tr th {\n",
       "        vertical-align: top;\n",
       "    }\n",
       "\n",
       "    .dataframe thead th {\n",
       "        text-align: right;\n",
       "    }\n",
       "</style>\n",
       "<table border=\"1\" class=\"dataframe\">\n",
       "  <thead>\n",
       "    <tr style=\"text-align: right;\">\n",
       "      <th></th>\n",
       "      <th>Uruguai</th>\n",
       "      <th>Alemanha</th>\n",
       "      <th>Inglaterra</th>\n",
       "      <th>China</th>\n",
       "      <th>EUA</th>\n",
       "    </tr>\n",
       "  </thead>\n",
       "  <tbody>\n",
       "    <tr>\n",
       "      <th>Bronze</th>\n",
       "      <td>15</td>\n",
       "      <td>19</td>\n",
       "      <td>17</td>\n",
       "      <td>26</td>\n",
       "      <td>38</td>\n",
       "    </tr>\n",
       "    <tr>\n",
       "      <th>Ouro</th>\n",
       "      <td>17</td>\n",
       "      <td>19</td>\n",
       "      <td>27</td>\n",
       "      <td>26</td>\n",
       "      <td>46</td>\n",
       "    </tr>\n",
       "  </tbody>\n",
       "</table>\n",
       "</div>"
      ],
      "text/plain": [
       "        Uruguai  Alemanha  Inglaterra  China  EUA\n",
       "Bronze       15        19          17     26   38\n",
       "Ouro         17        19          27     26   46"
      ]
     },
     "execution_count": 133,
     "metadata": {},
     "output_type": "execute_result"
    }
   ],
   "source": [
    "# Retornando coluna\n",
    "df_olimpiada.iloc[::-2, ::-1]"
   ]
  },
  {
   "cell_type": "code",
   "execution_count": 135,
   "id": "d90da0d4",
   "metadata": {},
   "outputs": [
    {
     "data": {
      "text/plain": [
       "EUA           46\n",
       "China         26\n",
       "Inglaterra    27\n",
       "Alemanha      19\n",
       "Uruguai       17\n",
       "Name: Ouro, dtype: int64"
      ]
     },
     "execution_count": 135,
     "metadata": {},
     "output_type": "execute_result"
    }
   ],
   "source": [
    "# Função loc = localizar\n",
    "df_olimpiada.loc['Ouro']"
   ]
  },
  {
   "cell_type": "code",
   "execution_count": 136,
   "id": "c0f955c2",
   "metadata": {},
   "outputs": [
    {
     "data": {
      "text/plain": [
       "Ouro      46\n",
       "Prata     37\n",
       "Bronze    38\n",
       "Name: EUA, dtype: int64"
      ]
     },
     "execution_count": 136,
     "metadata": {},
     "output_type": "execute_result"
    }
   ],
   "source": [
    "df_olimpiada.loc[:,'EUA']"
   ]
  },
  {
   "cell_type": "code",
   "execution_count": 137,
   "id": "bf7165ca",
   "metadata": {},
   "outputs": [
    {
     "data": {
      "text/plain": [
       "18"
      ]
     },
     "execution_count": 137,
     "metadata": {},
     "output_type": "execute_result"
    }
   ],
   "source": [
    "# Retornar o numero de medalhas de prata da China\n",
    "df_olimpiada.loc['Prata','China']"
   ]
  },
  {
   "cell_type": "code",
   "execution_count": 138,
   "id": "bfdaeffd",
   "metadata": {},
   "outputs": [
    {
     "data": {
      "text/plain": [
       "EUA           37\n",
       "China         18\n",
       "Inglaterra    23\n",
       "Alemanha      18\n",
       "Uruguai       10\n",
       "Name: Prata, dtype: int64"
      ]
     },
     "execution_count": 138,
     "metadata": {},
     "output_type": "execute_result"
    }
   ],
   "source": [
    "df_olimpiada.loc['Prata']"
   ]
  },
  {
   "cell_type": "code",
   "execution_count": 139,
   "id": "e22f2bbe",
   "metadata": {},
   "outputs": [
    {
     "data": {
      "text/plain": [
       "EUA            True\n",
       "China          True\n",
       "Inglaterra     True\n",
       "Alemanha      False\n",
       "Uruguai       False\n",
       "Name: Ouro, dtype: bool"
      ]
     },
     "execution_count": 139,
     "metadata": {},
     "output_type": "execute_result"
    }
   ],
   "source": [
    "# Utilizando operações logicas \n",
    "df_olimpiada.loc['Ouro'] > 20"
   ]
  },
  {
   "cell_type": "code",
   "execution_count": 140,
   "id": "43e87b2d",
   "metadata": {},
   "outputs": [
    {
     "data": {
      "text/plain": [
       "EUA           46\n",
       "China         26\n",
       "Inglaterra    27\n",
       "Name: Ouro, dtype: int64"
      ]
     },
     "execution_count": 140,
     "metadata": {},
     "output_type": "execute_result"
    }
   ],
   "source": [
    "# Retornando os numeros de medalhas de ouro maior que 20\n",
    "df_olimpiada.loc['Ouro', df_olimpiada.loc['Ouro'] > 20]"
   ]
  },
  {
   "cell_type": "code",
   "execution_count": 143,
   "id": "2a3aaf0e",
   "metadata": {},
   "outputs": [
    {
     "data": {
      "text/plain": [
       "EUA           46\n",
       "China         26\n",
       "Inglaterra    27\n",
       "Alemanha      19\n",
       "Uruguai       17\n",
       "Name: Ouro, dtype: int64"
      ]
     },
     "execution_count": 143,
     "metadata": {},
     "output_type": "execute_result"
    }
   ],
   "source": [
    "# iloc(permite utilizar o numero do indice) para buscar a linha de índice 0\n",
    "df_olimpiada.iloc[0]"
   ]
  },
  {
   "cell_type": "code",
   "execution_count": 144,
   "id": "74fe9382",
   "metadata": {},
   "outputs": [
    {
     "data": {
      "text/plain": [
       "EUA           38\n",
       "China         26\n",
       "Inglaterra    17\n",
       "Alemanha      19\n",
       "Uruguai       15\n",
       "Name: Bronze, dtype: int64"
      ]
     },
     "execution_count": 144,
     "metadata": {},
     "output_type": "execute_result"
    }
   ],
   "source": [
    "# iloc para buscar a linha de índice 2\n",
    "df_olimpiada.iloc[2]"
   ]
  },
  {
   "cell_type": "code",
   "execution_count": 145,
   "id": "1405a15b",
   "metadata": {},
   "outputs": [
    {
     "data": {
      "text/html": [
       "<div>\n",
       "<style scoped>\n",
       "    .dataframe tbody tr th:only-of-type {\n",
       "        vertical-align: middle;\n",
       "    }\n",
       "\n",
       "    .dataframe tbody tr th {\n",
       "        vertical-align: top;\n",
       "    }\n",
       "\n",
       "    .dataframe thead th {\n",
       "        text-align: right;\n",
       "    }\n",
       "</style>\n",
       "<table border=\"1\" class=\"dataframe\">\n",
       "  <thead>\n",
       "    <tr style=\"text-align: right;\">\n",
       "      <th></th>\n",
       "      <th>EUA</th>\n",
       "      <th>China</th>\n",
       "      <th>Inglaterra</th>\n",
       "      <th>Alemanha</th>\n",
       "      <th>Uruguai</th>\n",
       "    </tr>\n",
       "  </thead>\n",
       "  <tbody>\n",
       "    <tr>\n",
       "      <th>Ouro</th>\n",
       "      <td>46</td>\n",
       "      <td>26</td>\n",
       "      <td>27</td>\n",
       "      <td>19</td>\n",
       "      <td>17</td>\n",
       "    </tr>\n",
       "    <tr>\n",
       "      <th>Prata</th>\n",
       "      <td>37</td>\n",
       "      <td>18</td>\n",
       "      <td>23</td>\n",
       "      <td>18</td>\n",
       "      <td>10</td>\n",
       "    </tr>\n",
       "    <tr>\n",
       "      <th>Bronze</th>\n",
       "      <td>38</td>\n",
       "      <td>26</td>\n",
       "      <td>17</td>\n",
       "      <td>19</td>\n",
       "      <td>15</td>\n",
       "    </tr>\n",
       "  </tbody>\n",
       "</table>\n",
       "</div>"
      ],
      "text/plain": [
       "        EUA  China  Inglaterra  Alemanha  Uruguai\n",
       "Ouro     46     26          27        19       17\n",
       "Prata    37     18          23        18       10\n",
       "Bronze   38     26          17        19       15"
      ]
     },
     "execution_count": 145,
     "metadata": {},
     "output_type": "execute_result"
    }
   ],
   "source": [
    "df_olimpiada"
   ]
  },
  {
   "cell_type": "code",
   "execution_count": 146,
   "id": "b4a36a09",
   "metadata": {},
   "outputs": [
    {
     "data": {
      "text/html": [
       "<div>\n",
       "<style scoped>\n",
       "    .dataframe tbody tr th:only-of-type {\n",
       "        vertical-align: middle;\n",
       "    }\n",
       "\n",
       "    .dataframe tbody tr th {\n",
       "        vertical-align: top;\n",
       "    }\n",
       "\n",
       "    .dataframe thead th {\n",
       "        text-align: right;\n",
       "    }\n",
       "</style>\n",
       "<table border=\"1\" class=\"dataframe\">\n",
       "  <thead>\n",
       "    <tr style=\"text-align: right;\">\n",
       "      <th></th>\n",
       "      <th>EUA</th>\n",
       "      <th>China</th>\n",
       "      <th>Inglaterra</th>\n",
       "      <th>Alemanha</th>\n",
       "      <th>Uruguai</th>\n",
       "    </tr>\n",
       "  </thead>\n",
       "  <tbody>\n",
       "    <tr>\n",
       "      <th>Ouro</th>\n",
       "      <td>46</td>\n",
       "      <td>26</td>\n",
       "      <td>27</td>\n",
       "      <td>19</td>\n",
       "      <td>17</td>\n",
       "    </tr>\n",
       "    <tr>\n",
       "      <th>Prata</th>\n",
       "      <td>37</td>\n",
       "      <td>18</td>\n",
       "      <td>23</td>\n",
       "      <td>18</td>\n",
       "      <td>10</td>\n",
       "    </tr>\n",
       "  </tbody>\n",
       "</table>\n",
       "</div>"
      ],
      "text/plain": [
       "       EUA  China  Inglaterra  Alemanha  Uruguai\n",
       "Ouro    46     26          27        19       17\n",
       "Prata   37     18          23        18       10"
      ]
     },
     "execution_count": 146,
     "metadata": {},
     "output_type": "execute_result"
    }
   ],
   "source": [
    "df_olimpiada.iloc[:2]"
   ]
  },
  {
   "cell_type": "code",
   "execution_count": 147,
   "id": "6b45ae49",
   "metadata": {},
   "outputs": [
    {
     "data": {
      "text/plain": [
       "EUA      38\n",
       "China    26\n",
       "Name: Bronze, dtype: int64"
      ]
     },
     "execution_count": 147,
     "metadata": {},
     "output_type": "execute_result"
    }
   ],
   "source": [
    "# Linha indice 2 bronze, colunas de 0 a 2 sendo que o 2 é exclusivo, será excluido.\n",
    "df_olimpiada.iloc[2,0:2]"
   ]
  },
  {
   "cell_type": "code",
   "execution_count": 148,
   "id": "2ae6033e",
   "metadata": {},
   "outputs": [
    {
     "data": {
      "text/html": [
       "<div>\n",
       "<style scoped>\n",
       "    .dataframe tbody tr th:only-of-type {\n",
       "        vertical-align: middle;\n",
       "    }\n",
       "\n",
       "    .dataframe tbody tr th {\n",
       "        vertical-align: top;\n",
       "    }\n",
       "\n",
       "    .dataframe thead th {\n",
       "        text-align: right;\n",
       "    }\n",
       "</style>\n",
       "<table border=\"1\" class=\"dataframe\">\n",
       "  <thead>\n",
       "    <tr style=\"text-align: right;\">\n",
       "      <th></th>\n",
       "      <th>EUA</th>\n",
       "      <th>China</th>\n",
       "      <th>Inglaterra</th>\n",
       "      <th>Alemanha</th>\n",
       "      <th>Uruguai</th>\n",
       "    </tr>\n",
       "  </thead>\n",
       "  <tbody>\n",
       "    <tr>\n",
       "      <th>Bronze</th>\n",
       "      <td>38</td>\n",
       "      <td>26</td>\n",
       "      <td>17</td>\n",
       "      <td>19</td>\n",
       "      <td>15</td>\n",
       "    </tr>\n",
       "  </tbody>\n",
       "</table>\n",
       "</div>"
      ],
      "text/plain": [
       "        EUA  China  Inglaterra  Alemanha  Uruguai\n",
       "Bronze   38     26          17        19       15"
      ]
     },
     "execution_count": 148,
     "metadata": {},
     "output_type": "execute_result"
    }
   ],
   "source": [
    "# Virgula com 2:3 antes da virgula significa linhas de indices 2 a 3 sendo o 3 exclusivo, e todas as colunas, resultado bronze de todos os paises\n",
    "df_olimpiada.iloc[2:3, :]"
   ]
  },
  {
   "cell_type": "code",
   "execution_count": 149,
   "id": "0ca7a40f",
   "metadata": {},
   "outputs": [
    {
     "data": {
      "text/plain": [
       "EUA           37\n",
       "China         18\n",
       "Inglaterra    23\n",
       "Alemanha      18\n",
       "Uruguai       10\n",
       "Name: Prata, dtype: int64"
      ]
     },
     "execution_count": 149,
     "metadata": {},
     "output_type": "execute_result"
    }
   ],
   "source": [
    "# Linha indice 1 todas as colunas\n",
    "df_olimpiada.iloc[1,:]"
   ]
  },
  {
   "cell_type": "code",
   "execution_count": 150,
   "id": "c66ba8fb",
   "metadata": {},
   "outputs": [
    {
     "data": {
      "text/plain": [
       "38"
      ]
     },
     "execution_count": 150,
     "metadata": {},
     "output_type": "execute_result"
    }
   ],
   "source": [
    "df_olimpiada.iloc[2, 0]"
   ]
  },
  {
   "cell_type": "markdown",
   "id": "51113a14",
   "metadata": {},
   "source": [
    "> Podemos ainda deletar partes de um dataframe."
   ]
  },
  {
   "cell_type": "code",
   "execution_count": 151,
   "id": "4be5cc11",
   "metadata": {},
   "outputs": [],
   "source": [
    "# Deletando uma coluna\n",
    "del df_olimpiada['EUA']"
   ]
  },
  {
   "cell_type": "code",
   "execution_count": 152,
   "id": "758c0692",
   "metadata": {},
   "outputs": [
    {
     "data": {
      "text/html": [
       "<div>\n",
       "<style scoped>\n",
       "    .dataframe tbody tr th:only-of-type {\n",
       "        vertical-align: middle;\n",
       "    }\n",
       "\n",
       "    .dataframe tbody tr th {\n",
       "        vertical-align: top;\n",
       "    }\n",
       "\n",
       "    .dataframe thead th {\n",
       "        text-align: right;\n",
       "    }\n",
       "</style>\n",
       "<table border=\"1\" class=\"dataframe\">\n",
       "  <thead>\n",
       "    <tr style=\"text-align: right;\">\n",
       "      <th></th>\n",
       "      <th>China</th>\n",
       "      <th>Inglaterra</th>\n",
       "      <th>Alemanha</th>\n",
       "      <th>Uruguai</th>\n",
       "    </tr>\n",
       "  </thead>\n",
       "  <tbody>\n",
       "    <tr>\n",
       "      <th>Ouro</th>\n",
       "      <td>26</td>\n",
       "      <td>27</td>\n",
       "      <td>19</td>\n",
       "      <td>17</td>\n",
       "    </tr>\n",
       "    <tr>\n",
       "      <th>Prata</th>\n",
       "      <td>18</td>\n",
       "      <td>23</td>\n",
       "      <td>18</td>\n",
       "      <td>10</td>\n",
       "    </tr>\n",
       "    <tr>\n",
       "      <th>Bronze</th>\n",
       "      <td>26</td>\n",
       "      <td>17</td>\n",
       "      <td>19</td>\n",
       "      <td>15</td>\n",
       "    </tr>\n",
       "  </tbody>\n",
       "</table>\n",
       "</div>"
      ],
      "text/plain": [
       "        China  Inglaterra  Alemanha  Uruguai\n",
       "Ouro       26          27        19       17\n",
       "Prata      18          23        18       10\n",
       "Bronze     26          17        19       15"
      ]
     },
     "execution_count": 152,
     "metadata": {},
     "output_type": "execute_result"
    }
   ],
   "source": [
    "df_olimpiada"
   ]
  },
  {
   "cell_type": "markdown",
   "id": "4ecfcca8",
   "metadata": {},
   "source": [
    "> Bem como podemos inserir no dataframe."
   ]
  },
  {
   "cell_type": "code",
   "execution_count": 153,
   "id": "ead65cca",
   "metadata": {},
   "outputs": [],
   "source": [
    "# Inserindo nova coluna com tupla\n",
    "df_olimpiada.insert(0, 'Brasil', (17, 16, 23))"
   ]
  },
  {
   "cell_type": "code",
   "execution_count": 154,
   "id": "2daaeed1",
   "metadata": {},
   "outputs": [
    {
     "data": {
      "text/html": [
       "<div>\n",
       "<style scoped>\n",
       "    .dataframe tbody tr th:only-of-type {\n",
       "        vertical-align: middle;\n",
       "    }\n",
       "\n",
       "    .dataframe tbody tr th {\n",
       "        vertical-align: top;\n",
       "    }\n",
       "\n",
       "    .dataframe thead th {\n",
       "        text-align: right;\n",
       "    }\n",
       "</style>\n",
       "<table border=\"1\" class=\"dataframe\">\n",
       "  <thead>\n",
       "    <tr style=\"text-align: right;\">\n",
       "      <th></th>\n",
       "      <th>Brasil</th>\n",
       "      <th>China</th>\n",
       "      <th>Inglaterra</th>\n",
       "      <th>Alemanha</th>\n",
       "      <th>Uruguai</th>\n",
       "    </tr>\n",
       "  </thead>\n",
       "  <tbody>\n",
       "    <tr>\n",
       "      <th>Ouro</th>\n",
       "      <td>17</td>\n",
       "      <td>26</td>\n",
       "      <td>27</td>\n",
       "      <td>19</td>\n",
       "      <td>17</td>\n",
       "    </tr>\n",
       "    <tr>\n",
       "      <th>Prata</th>\n",
       "      <td>16</td>\n",
       "      <td>18</td>\n",
       "      <td>23</td>\n",
       "      <td>18</td>\n",
       "      <td>10</td>\n",
       "    </tr>\n",
       "    <tr>\n",
       "      <th>Bronze</th>\n",
       "      <td>23</td>\n",
       "      <td>26</td>\n",
       "      <td>17</td>\n",
       "      <td>19</td>\n",
       "      <td>15</td>\n",
       "    </tr>\n",
       "  </tbody>\n",
       "</table>\n",
       "</div>"
      ],
      "text/plain": [
       "        Brasil  China  Inglaterra  Alemanha  Uruguai\n",
       "Ouro        17     26          27        19       17\n",
       "Prata       16     18          23        18       10\n",
       "Bronze      23     26          17        19       15"
      ]
     },
     "execution_count": 154,
     "metadata": {},
     "output_type": "execute_result"
    }
   ],
   "source": [
    "df_olimpiada"
   ]
  },
  {
   "cell_type": "code",
   "execution_count": 155,
   "id": "ae2962a4",
   "metadata": {},
   "outputs": [],
   "source": [
    "df_olimpiada.insert(0, 'Italia', (28, 35, 43))"
   ]
  },
  {
   "cell_type": "code",
   "execution_count": 156,
   "id": "29414686",
   "metadata": {},
   "outputs": [],
   "source": [
    "df_olimpiada.insert(2, 'Japão', (12, 11, 20))"
   ]
  },
  {
   "cell_type": "code",
   "execution_count": 157,
   "id": "8561cf2d",
   "metadata": {},
   "outputs": [],
   "source": [
    "df_olimpiada.insert(7, 'EUA', (32, 35, 40))"
   ]
  },
  {
   "cell_type": "code",
   "execution_count": 158,
   "id": "015ec499",
   "metadata": {},
   "outputs": [],
   "source": [
    "df_olimpiada.insert(5, 'Canada', (27, 39, 37))"
   ]
  },
  {
   "cell_type": "code",
   "execution_count": 159,
   "id": "12d6c90c",
   "metadata": {},
   "outputs": [],
   "source": [
    "df_olimpiada.insert(3, 'França', (29, 32, 34))"
   ]
  },
  {
   "cell_type": "code",
   "execution_count": 160,
   "id": "56568d70",
   "metadata": {},
   "outputs": [
    {
     "data": {
      "text/html": [
       "<div>\n",
       "<style scoped>\n",
       "    .dataframe tbody tr th:only-of-type {\n",
       "        vertical-align: middle;\n",
       "    }\n",
       "\n",
       "    .dataframe tbody tr th {\n",
       "        vertical-align: top;\n",
       "    }\n",
       "\n",
       "    .dataframe thead th {\n",
       "        text-align: right;\n",
       "    }\n",
       "</style>\n",
       "<table border=\"1\" class=\"dataframe\">\n",
       "  <thead>\n",
       "    <tr style=\"text-align: right;\">\n",
       "      <th></th>\n",
       "      <th>Italia</th>\n",
       "      <th>Brasil</th>\n",
       "      <th>Japão</th>\n",
       "      <th>França</th>\n",
       "      <th>China</th>\n",
       "      <th>Inglaterra</th>\n",
       "      <th>Canada</th>\n",
       "      <th>Alemanha</th>\n",
       "      <th>Uruguai</th>\n",
       "      <th>EUA</th>\n",
       "    </tr>\n",
       "  </thead>\n",
       "  <tbody>\n",
       "    <tr>\n",
       "      <th>Ouro</th>\n",
       "      <td>28</td>\n",
       "      <td>17</td>\n",
       "      <td>12</td>\n",
       "      <td>29</td>\n",
       "      <td>26</td>\n",
       "      <td>27</td>\n",
       "      <td>27</td>\n",
       "      <td>19</td>\n",
       "      <td>17</td>\n",
       "      <td>32</td>\n",
       "    </tr>\n",
       "    <tr>\n",
       "      <th>Prata</th>\n",
       "      <td>35</td>\n",
       "      <td>16</td>\n",
       "      <td>11</td>\n",
       "      <td>32</td>\n",
       "      <td>18</td>\n",
       "      <td>23</td>\n",
       "      <td>39</td>\n",
       "      <td>18</td>\n",
       "      <td>10</td>\n",
       "      <td>35</td>\n",
       "    </tr>\n",
       "    <tr>\n",
       "      <th>Bronze</th>\n",
       "      <td>43</td>\n",
       "      <td>23</td>\n",
       "      <td>20</td>\n",
       "      <td>34</td>\n",
       "      <td>26</td>\n",
       "      <td>17</td>\n",
       "      <td>37</td>\n",
       "      <td>19</td>\n",
       "      <td>15</td>\n",
       "      <td>40</td>\n",
       "    </tr>\n",
       "  </tbody>\n",
       "</table>\n",
       "</div>"
      ],
      "text/plain": [
       "        Italia  Brasil  Japão  França  China  Inglaterra  Canada  Alemanha  \\\n",
       "Ouro        28      17     12      29     26          27      27        19   \n",
       "Prata       35      16     11      32     18          23      39        18   \n",
       "Bronze      43      23     20      34     26          17      37        19   \n",
       "\n",
       "        Uruguai  EUA  \n",
       "Ouro         17   32  \n",
       "Prata        10   35  \n",
       "Bronze       15   40  "
      ]
     },
     "execution_count": 160,
     "metadata": {},
     "output_type": "execute_result"
    }
   ],
   "source": [
    "df_olimpiada"
   ]
  },
  {
   "cell_type": "code",
   "execution_count": 161,
   "id": "56c4fd47",
   "metadata": {},
   "outputs": [
    {
     "data": {
      "text/html": [
       "<div>\n",
       "<style scoped>\n",
       "    .dataframe tbody tr th:only-of-type {\n",
       "        vertical-align: middle;\n",
       "    }\n",
       "\n",
       "    .dataframe tbody tr th {\n",
       "        vertical-align: top;\n",
       "    }\n",
       "\n",
       "    .dataframe thead th {\n",
       "        text-align: right;\n",
       "    }\n",
       "</style>\n",
       "<table border=\"1\" class=\"dataframe\">\n",
       "  <thead>\n",
       "    <tr style=\"text-align: right;\">\n",
       "      <th></th>\n",
       "      <th>Italia</th>\n",
       "      <th>Brasil</th>\n",
       "      <th>Japão</th>\n",
       "      <th>França</th>\n",
       "      <th>China</th>\n",
       "      <th>Inglaterra</th>\n",
       "      <th>Canada</th>\n",
       "      <th>Alemanha</th>\n",
       "      <th>Uruguai</th>\n",
       "      <th>EUA</th>\n",
       "    </tr>\n",
       "  </thead>\n",
       "  <tbody>\n",
       "    <tr>\n",
       "      <th>count</th>\n",
       "      <td>3.000000</td>\n",
       "      <td>3.000000</td>\n",
       "      <td>3.000000</td>\n",
       "      <td>3.000000</td>\n",
       "      <td>3.000000</td>\n",
       "      <td>3.000000</td>\n",
       "      <td>3.000000</td>\n",
       "      <td>3.000000</td>\n",
       "      <td>3.000000</td>\n",
       "      <td>3.000000</td>\n",
       "    </tr>\n",
       "    <tr>\n",
       "      <th>mean</th>\n",
       "      <td>35.333333</td>\n",
       "      <td>18.666667</td>\n",
       "      <td>14.333333</td>\n",
       "      <td>31.666667</td>\n",
       "      <td>23.333333</td>\n",
       "      <td>22.333333</td>\n",
       "      <td>34.333333</td>\n",
       "      <td>18.666667</td>\n",
       "      <td>14.000000</td>\n",
       "      <td>35.666667</td>\n",
       "    </tr>\n",
       "    <tr>\n",
       "      <th>std</th>\n",
       "      <td>7.505553</td>\n",
       "      <td>3.785939</td>\n",
       "      <td>4.932883</td>\n",
       "      <td>2.516611</td>\n",
       "      <td>4.618802</td>\n",
       "      <td>5.033223</td>\n",
       "      <td>6.429101</td>\n",
       "      <td>0.577350</td>\n",
       "      <td>3.605551</td>\n",
       "      <td>4.041452</td>\n",
       "    </tr>\n",
       "    <tr>\n",
       "      <th>min</th>\n",
       "      <td>28.000000</td>\n",
       "      <td>16.000000</td>\n",
       "      <td>11.000000</td>\n",
       "      <td>29.000000</td>\n",
       "      <td>18.000000</td>\n",
       "      <td>17.000000</td>\n",
       "      <td>27.000000</td>\n",
       "      <td>18.000000</td>\n",
       "      <td>10.000000</td>\n",
       "      <td>32.000000</td>\n",
       "    </tr>\n",
       "    <tr>\n",
       "      <th>25%</th>\n",
       "      <td>31.500000</td>\n",
       "      <td>16.500000</td>\n",
       "      <td>11.500000</td>\n",
       "      <td>30.500000</td>\n",
       "      <td>22.000000</td>\n",
       "      <td>20.000000</td>\n",
       "      <td>32.000000</td>\n",
       "      <td>18.500000</td>\n",
       "      <td>12.500000</td>\n",
       "      <td>33.500000</td>\n",
       "    </tr>\n",
       "    <tr>\n",
       "      <th>50%</th>\n",
       "      <td>35.000000</td>\n",
       "      <td>17.000000</td>\n",
       "      <td>12.000000</td>\n",
       "      <td>32.000000</td>\n",
       "      <td>26.000000</td>\n",
       "      <td>23.000000</td>\n",
       "      <td>37.000000</td>\n",
       "      <td>19.000000</td>\n",
       "      <td>15.000000</td>\n",
       "      <td>35.000000</td>\n",
       "    </tr>\n",
       "    <tr>\n",
       "      <th>75%</th>\n",
       "      <td>39.000000</td>\n",
       "      <td>20.000000</td>\n",
       "      <td>16.000000</td>\n",
       "      <td>33.000000</td>\n",
       "      <td>26.000000</td>\n",
       "      <td>25.000000</td>\n",
       "      <td>38.000000</td>\n",
       "      <td>19.000000</td>\n",
       "      <td>16.000000</td>\n",
       "      <td>37.500000</td>\n",
       "    </tr>\n",
       "    <tr>\n",
       "      <th>max</th>\n",
       "      <td>43.000000</td>\n",
       "      <td>23.000000</td>\n",
       "      <td>20.000000</td>\n",
       "      <td>34.000000</td>\n",
       "      <td>26.000000</td>\n",
       "      <td>27.000000</td>\n",
       "      <td>39.000000</td>\n",
       "      <td>19.000000</td>\n",
       "      <td>17.000000</td>\n",
       "      <td>40.000000</td>\n",
       "    </tr>\n",
       "  </tbody>\n",
       "</table>\n",
       "</div>"
      ],
      "text/plain": [
       "          Italia     Brasil      Japão     França      China  Inglaterra  \\\n",
       "count   3.000000   3.000000   3.000000   3.000000   3.000000    3.000000   \n",
       "mean   35.333333  18.666667  14.333333  31.666667  23.333333   22.333333   \n",
       "std     7.505553   3.785939   4.932883   2.516611   4.618802    5.033223   \n",
       "min    28.000000  16.000000  11.000000  29.000000  18.000000   17.000000   \n",
       "25%    31.500000  16.500000  11.500000  30.500000  22.000000   20.000000   \n",
       "50%    35.000000  17.000000  12.000000  32.000000  26.000000   23.000000   \n",
       "75%    39.000000  20.000000  16.000000  33.000000  26.000000   25.000000   \n",
       "max    43.000000  23.000000  20.000000  34.000000  26.000000   27.000000   \n",
       "\n",
       "          Canada   Alemanha    Uruguai        EUA  \n",
       "count   3.000000   3.000000   3.000000   3.000000  \n",
       "mean   34.333333  18.666667  14.000000  35.666667  \n",
       "std     6.429101   0.577350   3.605551   4.041452  \n",
       "min    27.000000  18.000000  10.000000  32.000000  \n",
       "25%    32.000000  18.500000  12.500000  33.500000  \n",
       "50%    37.000000  19.000000  15.000000  35.000000  \n",
       "75%    38.000000  19.000000  16.000000  37.500000  \n",
       "max    39.000000  19.000000  17.000000  40.000000  "
      ]
     },
     "execution_count": 161,
     "metadata": {},
     "output_type": "execute_result"
    }
   ],
   "source": [
    "df_olimpiada.describe()"
   ]
  },
  {
   "cell_type": "markdown",
   "id": "6a2598cc",
   "metadata": {},
   "source": [
    "## Operações com Series"
   ]
  },
  {
   "cell_type": "code",
   "execution_count": 2,
   "id": "a9ac6ab9",
   "metadata": {},
   "outputs": [],
   "source": [
    "import numpy as np"
   ]
  },
  {
   "cell_type": "code",
   "execution_count": 3,
   "id": "38f4d6e1",
   "metadata": {},
   "outputs": [],
   "source": [
    "# Lista de listas (matriz)\n",
    "matriz = [[9, 4, 3], [2, 6, 1], [7, 5, 8]]"
   ]
  },
  {
   "cell_type": "code",
   "execution_count": 5,
   "id": "8574ce54",
   "metadata": {},
   "outputs": [
    {
     "data": {
      "text/plain": [
       "[[9, 4, 3], [2, 6, 1], [7, 5, 8]]"
      ]
     },
     "execution_count": 5,
     "metadata": {},
     "output_type": "execute_result"
    }
   ],
   "source": [
    "matriz"
   ]
  },
  {
   "cell_type": "code",
   "execution_count": 4,
   "id": "995dd64d",
   "metadata": {},
   "outputs": [],
   "source": [
    "# Convertendo a matriz em dataframe\n",
    "df = pd.DataFrame(matriz)"
   ]
  },
  {
   "cell_type": "code",
   "execution_count": 6,
   "id": "b5d64e83",
   "metadata": {},
   "outputs": [
    {
     "data": {
      "text/plain": [
       "pandas.core.frame.DataFrame"
      ]
     },
     "execution_count": 6,
     "metadata": {},
     "output_type": "execute_result"
    }
   ],
   "source": [
    "# Tipo de objeto\n",
    "type(df)"
   ]
  },
  {
   "cell_type": "code",
   "execution_count": 7,
   "id": "89b4a034",
   "metadata": {},
   "outputs": [],
   "source": [
    "# Extrai a linha de índice 0\n",
    "linha = df.iloc[0, :]"
   ]
  },
  {
   "cell_type": "code",
   "execution_count": 8,
   "id": "f97fb4d0",
   "metadata": {},
   "outputs": [
    {
     "data": {
      "text/plain": [
       "pandas.core.series.Series"
      ]
     },
     "execution_count": 8,
     "metadata": {},
     "output_type": "execute_result"
    }
   ],
   "source": [
    "type(linha)"
   ]
  },
  {
   "cell_type": "code",
   "execution_count": 9,
   "id": "6a29b94a",
   "metadata": {},
   "outputs": [],
   "source": [
    "coluna = df[0]"
   ]
  },
  {
   "cell_type": "code",
   "execution_count": 10,
   "id": "e80d9d76",
   "metadata": {},
   "outputs": [
    {
     "data": {
      "text/plain": [
       "pandas.core.series.Series"
      ]
     },
     "execution_count": 10,
     "metadata": {},
     "output_type": "execute_result"
    }
   ],
   "source": [
    "type(coluna)"
   ]
  },
  {
   "cell_type": "code",
   "execution_count": 11,
   "id": "e9c505b7",
   "metadata": {},
   "outputs": [],
   "source": [
    "# Criando uma serie\n",
    "serie_pandas = pd.Series(['a', 'b','c', 'd', 'e'])"
   ]
  },
  {
   "cell_type": "code",
   "execution_count": 12,
   "id": "abea5b38",
   "metadata": {},
   "outputs": [
    {
     "data": {
      "text/plain": [
       "0    a\n",
       "1    b\n",
       "2    c\n",
       "3    d\n",
       "4    e\n",
       "dtype: object"
      ]
     },
     "execution_count": 12,
     "metadata": {},
     "output_type": "execute_result"
    }
   ],
   "source": [
    "serie_pandas"
   ]
  },
  {
   "cell_type": "code",
   "execution_count": 13,
   "id": "53180e2d",
   "metadata": {},
   "outputs": [
    {
     "data": {
      "text/plain": [
       "RangeIndex(start=0, stop=5, step=1)"
      ]
     },
     "execution_count": 13,
     "metadata": {},
     "output_type": "execute_result"
    }
   ],
   "source": [
    "# Visualizando os indices\n",
    "serie_pandas.index"
   ]
  },
  {
   "cell_type": "code",
   "execution_count": 14,
   "id": "d4c904b4",
   "metadata": {},
   "outputs": [
    {
     "data": {
      "text/plain": [
       "array(['a', 'b', 'c', 'd', 'e'], dtype=object)"
      ]
     },
     "execution_count": 14,
     "metadata": {},
     "output_type": "execute_result"
    }
   ],
   "source": [
    "# Visualiza os valores\n",
    "serie_pandas.values"
   ]
  },
  {
   "cell_type": "code",
   "execution_count": 15,
   "id": "5a75706e",
   "metadata": {},
   "outputs": [
    {
     "data": {
      "text/plain": [
       "dtype('O')"
      ]
     },
     "execution_count": 15,
     "metadata": {},
     "output_type": "execute_result"
    }
   ],
   "source": [
    "# Visualiza o tipo dos dados\n",
    "serie_pandas.dtypes"
   ]
  },
  {
   "cell_type": "code",
   "execution_count": 16,
   "id": "d08a7a12",
   "metadata": {},
   "outputs": [
    {
     "data": {
      "text/plain": [
       "(5,)"
      ]
     },
     "execution_count": 16,
     "metadata": {},
     "output_type": "execute_result"
    }
   ],
   "source": [
    "# Visualiza o shape\n",
    "serie_pandas.shape"
   ]
  },
  {
   "cell_type": "code",
   "execution_count": 17,
   "id": "665571eb",
   "metadata": {},
   "outputs": [],
   "source": [
    "serie_pandas = pd.Series(['a', 'b', 'c', 10, True], index = [10, 20, 30, 40, 50])"
   ]
  },
  {
   "cell_type": "code",
   "execution_count": 18,
   "id": "51b879be",
   "metadata": {},
   "outputs": [
    {
     "data": {
      "text/plain": [
       "Int64Index([10, 20, 30, 40, 50], dtype='int64')"
      ]
     },
     "execution_count": 18,
     "metadata": {},
     "output_type": "execute_result"
    }
   ],
   "source": [
    "serie_pandas.index"
   ]
  },
  {
   "cell_type": "code",
   "execution_count": 19,
   "id": "ee5d34fa",
   "metadata": {},
   "outputs": [
    {
     "data": {
      "text/plain": [
       "10       a\n",
       "20       b\n",
       "30       c\n",
       "40      10\n",
       "50    True\n",
       "dtype: object"
      ]
     },
     "execution_count": 19,
     "metadata": {},
     "output_type": "execute_result"
    }
   ],
   "source": [
    "serie_pandas"
   ]
  },
  {
   "cell_type": "code",
   "execution_count": 20,
   "id": "310a9020",
   "metadata": {},
   "outputs": [],
   "source": [
    "serie_pandas = pd.Series(['a', 'b', 'c', 10, True])"
   ]
  },
  {
   "cell_type": "code",
   "execution_count": 21,
   "id": "b1351e0d",
   "metadata": {},
   "outputs": [],
   "source": [
    "serie1_pandas = pd.Series(['Genesis','Exodo','Levitico','Numeros','Deuteronomio'], index = [1, 2, 3, 4, 5])"
   ]
  },
  {
   "cell_type": "code",
   "execution_count": 22,
   "id": "ea0716a1",
   "metadata": {},
   "outputs": [
    {
     "data": {
      "text/plain": [
       "1         Genesis\n",
       "2           Exodo\n",
       "3        Levitico\n",
       "4         Numeros\n",
       "5    Deuteronomio\n",
       "dtype: object"
      ]
     },
     "execution_count": 22,
     "metadata": {},
     "output_type": "execute_result"
    }
   ],
   "source": [
    "serie1_pandas"
   ]
  },
  {
   "cell_type": "code",
   "execution_count": 23,
   "id": "e63f0f5c",
   "metadata": {},
   "outputs": [],
   "source": [
    "dicionario = {'a': 'Palmeiras', 'b': 'Santos', 'c': 'Flamengo'}"
   ]
  },
  {
   "cell_type": "code",
   "execution_count": 24,
   "id": "1756d7d1",
   "metadata": {},
   "outputs": [],
   "source": [
    "serie_pandas = pd.Series(dicionario)"
   ]
  },
  {
   "cell_type": "code",
   "execution_count": 25,
   "id": "c372ccd9",
   "metadata": {},
   "outputs": [
    {
     "name": "stdout",
     "output_type": "stream",
     "text": [
      "a    Palmeiras\n",
      "b       Santos\n",
      "c     Flamengo\n",
      "dtype: object\n"
     ]
    }
   ],
   "source": [
    "print(serie_pandas)"
   ]
  },
  {
   "cell_type": "code",
   "execution_count": 26,
   "id": "8e469b63",
   "metadata": {},
   "outputs": [],
   "source": [
    "lista = ['Python', 'Java', 'Rust']"
   ]
  },
  {
   "cell_type": "code",
   "execution_count": 27,
   "id": "15cdf0bb",
   "metadata": {},
   "outputs": [],
   "source": [
    "serie_pandas = pd.Series(lista)"
   ]
  },
  {
   "cell_type": "code",
   "execution_count": 28,
   "id": "74763770",
   "metadata": {},
   "outputs": [
    {
     "name": "stdout",
     "output_type": "stream",
     "text": [
      "0    Python\n",
      "1      Java\n",
      "2      Rust\n",
      "dtype: object\n"
     ]
    }
   ],
   "source": [
    "print(serie_pandas)"
   ]
  },
  {
   "cell_type": "code",
   "execution_count": 29,
   "id": "0fad290c",
   "metadata": {},
   "outputs": [],
   "source": [
    "# Cria um array Numpy\n",
    "arr = np.random.randint(0, 10, size = 5)"
   ]
  },
  {
   "cell_type": "code",
   "execution_count": 30,
   "id": "527437e5",
   "metadata": {},
   "outputs": [
    {
     "name": "stdout",
     "output_type": "stream",
     "text": [
      "[1 5 8 3 8]\n"
     ]
    }
   ],
   "source": [
    "print(arr)"
   ]
  },
  {
   "cell_type": "code",
   "execution_count": 31,
   "id": "c3030958",
   "metadata": {},
   "outputs": [],
   "source": [
    "serie_pandas = pd.Series(arr)"
   ]
  },
  {
   "cell_type": "code",
   "execution_count": 32,
   "id": "a39c1cfa",
   "metadata": {},
   "outputs": [
    {
     "name": "stdout",
     "output_type": "stream",
     "text": [
      "0    1\n",
      "1    5\n",
      "2    8\n",
      "3    3\n",
      "4    8\n",
      "dtype: int32\n"
     ]
    }
   ],
   "source": [
    "print(serie_pandas)"
   ]
  },
  {
   "cell_type": "code",
   "execution_count": 33,
   "id": "4a7467a6",
   "metadata": {},
   "outputs": [],
   "source": [
    "serie_pandas = pd.Series({1: 'data', 2: 'science'})"
   ]
  },
  {
   "cell_type": "code",
   "execution_count": 34,
   "id": "c9165353",
   "metadata": {},
   "outputs": [
    {
     "data": {
      "text/plain": [
       "1       data\n",
       "2    science\n",
       "dtype: object"
      ]
     },
     "execution_count": 34,
     "metadata": {},
     "output_type": "execute_result"
    }
   ],
   "source": [
    "serie_pandas"
   ]
  },
  {
   "cell_type": "code",
   "execution_count": 35,
   "id": "1aa96f18",
   "metadata": {},
   "outputs": [
    {
     "name": "stdout",
     "output_type": "stream",
     "text": [
      "data\n"
     ]
    }
   ],
   "source": [
    "print(serie_pandas[1])"
   ]
  },
  {
   "cell_type": "code",
   "execution_count": 37,
   "id": "c1d08e7e",
   "metadata": {},
   "outputs": [],
   "source": [
    "serie_pandas = pd.Series([1, 2, 3, 4, 5])"
   ]
  },
  {
   "cell_type": "code",
   "execution_count": 38,
   "id": "1ace9b85",
   "metadata": {},
   "outputs": [
    {
     "name": "stdout",
     "output_type": "stream",
     "text": [
      "0    1\n",
      "1    2\n",
      "2    3\n",
      "3    4\n",
      "4    5\n",
      "dtype: int64\n"
     ]
    }
   ],
   "source": [
    "print(serie_pandas)"
   ]
  },
  {
   "cell_type": "code",
   "execution_count": 95,
   "id": "c66e4e08",
   "metadata": {},
   "outputs": [
    {
     "name": "stdout",
     "output_type": "stream",
     "text": [
      "     Livro Escritor\n",
      "0  Genesis   Moisés\n"
     ]
    }
   ],
   "source": [
    "livro_escritores = pd.DataFrame({'Livro': ['Genesis'], 'Escritor':['Moisés']});print(livro_escritores)"
   ]
  },
  {
   "cell_type": "code",
   "execution_count": 59,
   "id": "283b8a34",
   "metadata": {},
   "outputs": [
    {
     "name": "stdout",
     "output_type": "stream",
     "text": [
      "           Livro          Escritor\n",
      "0          Êxodo            Moisés\n",
      "1       Levítico            Moisés\n",
      "2        Números            Moisés\n",
      "3   Deuteronômio            Moisés\n",
      "4          Josué             Josué\n",
      "5         Juízes            Samuel\n",
      "6           Rute            Samuel\n",
      "7       1 Samuel  Samuel;Gade;Natã\n",
      "8       2 Samuel         Gade;Natã\n",
      "9         1 Reis          Jeremias\n",
      "10        2 Reis          Jeremias\n",
      "11    1 Crônicas            Esdras\n",
      "12    2 Crônicas            Esdras\n",
      "13        Esdras            Esdras\n",
      "14       Neemias           Neemias\n",
      "15         Ester          Mordecai\n"
     ]
    }
   ],
   "source": [
    "novos_livros = pd.DataFrame({'Livro': ['Êxodo', 'Levítico', 'Números', 'Deuteronômio', 'Josué', 'Juízes', 'Rute', '1 Samuel', '2 Samuel', '1 Reis', '2 Reis', '1 Crônicas', '2 Crônicas', 'Esdras', 'Neemias', 'Ester'],\n",
    "                            'Escritor': ['Moisés', 'Moisés', 'Moisés', 'Moisés', 'Josué', 'Samuel', 'Samuel', 'Samuel;Gade;Natã', 'Gade;Natã', 'Jeremias', 'Jeremias', 'Esdras','Esdras', 'Esdras', 'Neemias', 'Mordecai']})\n",
    "\n",
    "print(novos_livros)\n"
   ]
  },
  {
   "cell_type": "code",
   "execution_count": 60,
   "id": "013a9b47",
   "metadata": {},
   "outputs": [
    {
     "name": "stdout",
     "output_type": "stream",
     "text": [
      "           Livro          Escritor\n",
      "0        Genesis            Moises\n",
      "1          Êxodo            Moisés\n",
      "2       Levítico            Moisés\n",
      "3        Números            Moisés\n",
      "4   Deuteronômio            Moisés\n",
      "5          Josué             Josué\n",
      "6         Juízes            Samuel\n",
      "7           Rute            Samuel\n",
      "8       1 Samuel  Samuel;Gade;Natã\n",
      "9       2 Samuel         Gade;Natã\n",
      "10        1 Reis          Jeremias\n",
      "11        2 Reis          Jeremias\n",
      "12    1 Crônicas            Esdras\n",
      "13    2 Crônicas            Esdras\n",
      "14        Esdras            Esdras\n",
      "15       Neemias           Neemias\n",
      "16         Ester          Mordecai\n"
     ]
    }
   ],
   "source": [
    "# Concatenar DataFrames\n",
    "biblia_escritores = pd.concat([livro_escritores, novos_livros], ignore_index=True)\n",
    "\n",
    "print(biblia_escritores)"
   ]
  },
  {
   "cell_type": "code",
   "execution_count": 62,
   "id": "108c504d",
   "metadata": {},
   "outputs": [
    {
     "data": {
      "text/html": [
       "<div>\n",
       "<style scoped>\n",
       "    .dataframe tbody tr th:only-of-type {\n",
       "        vertical-align: middle;\n",
       "    }\n",
       "\n",
       "    .dataframe tbody tr th {\n",
       "        vertical-align: top;\n",
       "    }\n",
       "\n",
       "    .dataframe thead th {\n",
       "        text-align: right;\n",
       "    }\n",
       "</style>\n",
       "<table border=\"1\" class=\"dataframe\">\n",
       "  <thead>\n",
       "    <tr style=\"text-align: right;\">\n",
       "      <th></th>\n",
       "      <th>Livro</th>\n",
       "      <th>Escritor</th>\n",
       "    </tr>\n",
       "  </thead>\n",
       "  <tbody>\n",
       "    <tr>\n",
       "      <th>0</th>\n",
       "      <td>Genesis</td>\n",
       "      <td>Moises</td>\n",
       "    </tr>\n",
       "    <tr>\n",
       "      <th>1</th>\n",
       "      <td>Êxodo</td>\n",
       "      <td>Moisés</td>\n",
       "    </tr>\n",
       "    <tr>\n",
       "      <th>2</th>\n",
       "      <td>Levítico</td>\n",
       "      <td>Moisés</td>\n",
       "    </tr>\n",
       "    <tr>\n",
       "      <th>3</th>\n",
       "      <td>Números</td>\n",
       "      <td>Moisés</td>\n",
       "    </tr>\n",
       "    <tr>\n",
       "      <th>4</th>\n",
       "      <td>Deuteronômio</td>\n",
       "      <td>Moisés</td>\n",
       "    </tr>\n",
       "    <tr>\n",
       "      <th>5</th>\n",
       "      <td>Josué</td>\n",
       "      <td>Josué</td>\n",
       "    </tr>\n",
       "    <tr>\n",
       "      <th>6</th>\n",
       "      <td>Juízes</td>\n",
       "      <td>Samuel</td>\n",
       "    </tr>\n",
       "    <tr>\n",
       "      <th>7</th>\n",
       "      <td>Rute</td>\n",
       "      <td>Samuel</td>\n",
       "    </tr>\n",
       "    <tr>\n",
       "      <th>8</th>\n",
       "      <td>1 Samuel</td>\n",
       "      <td>Samuel;Gade;Natã</td>\n",
       "    </tr>\n",
       "    <tr>\n",
       "      <th>9</th>\n",
       "      <td>2 Samuel</td>\n",
       "      <td>Gade;Natã</td>\n",
       "    </tr>\n",
       "    <tr>\n",
       "      <th>10</th>\n",
       "      <td>1 Reis</td>\n",
       "      <td>Jeremias</td>\n",
       "    </tr>\n",
       "    <tr>\n",
       "      <th>11</th>\n",
       "      <td>2 Reis</td>\n",
       "      <td>Jeremias</td>\n",
       "    </tr>\n",
       "    <tr>\n",
       "      <th>12</th>\n",
       "      <td>1 Crônicas</td>\n",
       "      <td>Esdras</td>\n",
       "    </tr>\n",
       "    <tr>\n",
       "      <th>13</th>\n",
       "      <td>2 Crônicas</td>\n",
       "      <td>Esdras</td>\n",
       "    </tr>\n",
       "    <tr>\n",
       "      <th>14</th>\n",
       "      <td>Esdras</td>\n",
       "      <td>Esdras</td>\n",
       "    </tr>\n",
       "    <tr>\n",
       "      <th>15</th>\n",
       "      <td>Neemias</td>\n",
       "      <td>Neemias</td>\n",
       "    </tr>\n",
       "    <tr>\n",
       "      <th>16</th>\n",
       "      <td>Ester</td>\n",
       "      <td>Mordecai</td>\n",
       "    </tr>\n",
       "  </tbody>\n",
       "</table>\n",
       "</div>"
      ],
      "text/plain": [
       "           Livro          Escritor\n",
       "0        Genesis            Moises\n",
       "1          Êxodo            Moisés\n",
       "2       Levítico            Moisés\n",
       "3        Números            Moisés\n",
       "4   Deuteronômio            Moisés\n",
       "5          Josué             Josué\n",
       "6         Juízes            Samuel\n",
       "7           Rute            Samuel\n",
       "8       1 Samuel  Samuel;Gade;Natã\n",
       "9       2 Samuel         Gade;Natã\n",
       "10        1 Reis          Jeremias\n",
       "11        2 Reis          Jeremias\n",
       "12    1 Crônicas            Esdras\n",
       "13    2 Crônicas            Esdras\n",
       "14        Esdras            Esdras\n",
       "15       Neemias           Neemias\n",
       "16         Ester          Mordecai"
      ]
     },
     "metadata": {},
     "output_type": "display_data"
    }
   ],
   "source": [
    "display(biblia_escritores)"
   ]
  },
  {
   "cell_type": "code",
   "execution_count": 63,
   "id": "6738377b",
   "metadata": {},
   "outputs": [
    {
     "name": "stdout",
     "output_type": "stream",
     "text": [
      "                 Livro             Escritor\n",
      "0                   Jó               Moisés\n",
      "1               Salmos          Davi;outros\n",
      "2           Provérbios  Salomão;Agur;Lemuel\n",
      "3          Eclesiastes              Salomão\n",
      "4   Cântico_de_Salomão              Salomão\n",
      "5               Isaías               Isaías\n",
      "6             Jeremias             Jeremias\n",
      "7          Lamentações             Jeremias\n",
      "8             Ezequiel             Ezequiel\n",
      "9               Daniel               Daniel\n",
      "10              Oseias               Oseias\n",
      "11                Joel                 Joel\n",
      "12                Amós                 Amós\n",
      "13               Jonas                Jonas\n",
      "14            Miqueias             Miqueias\n",
      "15                Naum                 Naum\n",
      "16           Habacuque            Habacuque\n",
      "17            Sofonias             Sofonias\n",
      "18                Ageu                 Ageu\n",
      "19            Zacarias             Zacarias\n",
      "20           Malaquias            Malaquias\n"
     ]
    }
   ],
   "source": [
    "novos_livros2 = pd.DataFrame({'Livro': ['Jó', 'Salmos', 'Provérbios', 'Eclesiastes', 'Cântico_de_Salomão', 'Isaías', 'Jeremias', 'Lamentações', 'Ezequiel', 'Daniel', 'Oseias', 'Joel', 'Amós', 'Jonas', 'Miqueias', 'Naum', 'Habacuque','Sofonias', 'Ageu', 'Zacarias', 'Malaquias'],\n",
    "                            'Escritor': ['Moisés', 'Davi;outros', 'Salomão;Agur;Lemuel', 'Salomão', 'Salomão', 'Isaías', 'Jeremias', 'Jeremias', 'Ezequiel', 'Daniel', 'Oseias', 'Joel','Amós', 'Jonas', 'Miqueias', 'Naum', 'Habacuque','Sofonias', 'Ageu','Zacarias', 'Malaquias']})\n",
    "\n",
    "print(novos_livros2)"
   ]
  },
  {
   "cell_type": "code",
   "execution_count": 65,
   "id": "7ebc9578",
   "metadata": {},
   "outputs": [
    {
     "name": "stdout",
     "output_type": "stream",
     "text": [
      "                 Livro             Escritor\n",
      "0              Genesis               Moises\n",
      "1                Êxodo               Moisés\n",
      "2             Levítico               Moisés\n",
      "3              Números               Moisés\n",
      "4         Deuteronômio               Moisés\n",
      "5                Josué                Josué\n",
      "6               Juízes               Samuel\n",
      "7                 Rute               Samuel\n",
      "8             1 Samuel     Samuel;Gade;Natã\n",
      "9             2 Samuel            Gade;Natã\n",
      "10              1 Reis             Jeremias\n",
      "11              2 Reis             Jeremias\n",
      "12          1 Crônicas               Esdras\n",
      "13          2 Crônicas               Esdras\n",
      "14              Esdras               Esdras\n",
      "15             Neemias              Neemias\n",
      "16               Ester             Mordecai\n",
      "17                  Jó               Moisés\n",
      "18              Salmos          Davi;outros\n",
      "19          Provérbios  Salomão;Agur;Lemuel\n",
      "20         Eclesiastes              Salomão\n",
      "21  Cântico_de_Salomão              Salomão\n",
      "22              Isaías               Isaías\n",
      "23            Jeremias             Jeremias\n",
      "24         Lamentações             Jeremias\n",
      "25            Ezequiel             Ezequiel\n",
      "26              Daniel               Daniel\n",
      "27              Oseias               Oseias\n",
      "28                Joel                 Joel\n",
      "29                Amós                 Amós\n",
      "30               Jonas                Jonas\n",
      "31            Miqueias             Miqueias\n",
      "32                Naum                 Naum\n",
      "33           Habacuque            Habacuque\n",
      "34            Sofonias             Sofonias\n",
      "35                Ageu                 Ageu\n",
      "36            Zacarias             Zacarias\n",
      "37           Malaquias            Malaquias\n"
     ]
    }
   ],
   "source": [
    "# Concatenar DataFrames\n",
    "biblia_escritores = pd.concat([livro_escritores, novos_livros, novos_livros2], ignore_index=True)\n",
    "\n",
    "print(biblia_escritores)"
   ]
  },
  {
   "cell_type": "code",
   "execution_count": 66,
   "id": "b2f2dc54",
   "metadata": {},
   "outputs": [],
   "source": [
    "novas_linhas = pd.DataFrame({'Livro': ['Obadias'], 'Escritor': ['Obadias']})"
   ]
  },
  {
   "cell_type": "code",
   "execution_count": 67,
   "id": "45ce13ea",
   "metadata": {},
   "outputs": [
    {
     "data": {
      "text/html": [
       "<div>\n",
       "<style scoped>\n",
       "    .dataframe tbody tr th:only-of-type {\n",
       "        vertical-align: middle;\n",
       "    }\n",
       "\n",
       "    .dataframe tbody tr th {\n",
       "        vertical-align: top;\n",
       "    }\n",
       "\n",
       "    .dataframe thead th {\n",
       "        text-align: right;\n",
       "    }\n",
       "</style>\n",
       "<table border=\"1\" class=\"dataframe\">\n",
       "  <thead>\n",
       "    <tr style=\"text-align: right;\">\n",
       "      <th></th>\n",
       "      <th>Livro</th>\n",
       "      <th>Escritor</th>\n",
       "    </tr>\n",
       "  </thead>\n",
       "  <tbody>\n",
       "    <tr>\n",
       "      <th>0</th>\n",
       "      <td>Obadias</td>\n",
       "      <td>Obadias</td>\n",
       "    </tr>\n",
       "  </tbody>\n",
       "</table>\n",
       "</div>"
      ],
      "text/plain": [
       "     Livro Escritor\n",
       "0  Obadias  Obadias"
      ]
     },
     "execution_count": 67,
     "metadata": {},
     "output_type": "execute_result"
    }
   ],
   "source": [
    "novas_linhas"
   ]
  },
  {
   "cell_type": "code",
   "execution_count": 68,
   "id": "67444e6d",
   "metadata": {},
   "outputs": [
    {
     "name": "stdout",
     "output_type": "stream",
     "text": [
      "                 Livro             Escritor\n",
      "0              Genesis               Moises\n",
      "1                Êxodo               Moisés\n",
      "2             Levítico               Moisés\n",
      "3              Números               Moisés\n",
      "4         Deuteronômio               Moisés\n",
      "5                Josué                Josué\n",
      "6               Juízes               Samuel\n",
      "7                 Rute               Samuel\n",
      "8             1 Samuel     Samuel;Gade;Natã\n",
      "9             2 Samuel            Gade;Natã\n",
      "10              1 Reis             Jeremias\n",
      "11              2 Reis             Jeremias\n",
      "12          1 Crônicas               Esdras\n",
      "13          2 Crônicas               Esdras\n",
      "14              Esdras               Esdras\n",
      "15             Neemias              Neemias\n",
      "16               Ester             Mordecai\n",
      "17                  Jó               Moisés\n",
      "18              Salmos          Davi;outros\n",
      "19          Provérbios  Salomão;Agur;Lemuel\n",
      "20         Eclesiastes              Salomão\n",
      "21  Cântico_de_Salomão              Salomão\n",
      "22              Isaías               Isaías\n",
      "23            Jeremias             Jeremias\n",
      "24         Lamentações             Jeremias\n",
      "25            Ezequiel             Ezequiel\n",
      "26              Daniel               Daniel\n",
      "27              Oseias               Oseias\n",
      "28                Joel                 Joel\n",
      "29                Amós                 Amós\n",
      "30             Obadias              Obadias\n",
      "31               Jonas                Jonas\n",
      "32            Miqueias             Miqueias\n",
      "33                Naum                 Naum\n",
      "34           Habacuque            Habacuque\n",
      "35            Sofonias             Sofonias\n",
      "36                Ageu                 Ageu\n",
      "37            Zacarias             Zacarias\n",
      "38           Malaquias            Malaquias\n"
     ]
    }
   ],
   "source": [
    "# Inserir as linhas no índice 30\n",
    "biblia_escritores = pd.concat([biblia_escritores.iloc[:30], novas_linhas, biblia_escritores.iloc[30:]], ignore_index=True);print(biblia_escritores)"
   ]
  },
  {
   "cell_type": "code",
   "execution_count": 70,
   "id": "f8ae1ba9",
   "metadata": {},
   "outputs": [
    {
     "data": {
      "text/html": [
       "<div>\n",
       "<style scoped>\n",
       "    .dataframe tbody tr th:only-of-type {\n",
       "        vertical-align: middle;\n",
       "    }\n",
       "\n",
       "    .dataframe tbody tr th {\n",
       "        vertical-align: top;\n",
       "    }\n",
       "\n",
       "    .dataframe thead th {\n",
       "        text-align: right;\n",
       "    }\n",
       "</style>\n",
       "<table border=\"1\" class=\"dataframe\">\n",
       "  <thead>\n",
       "    <tr style=\"text-align: right;\">\n",
       "      <th></th>\n",
       "      <th>Livro</th>\n",
       "      <th>Escritor</th>\n",
       "    </tr>\n",
       "  </thead>\n",
       "  <tbody>\n",
       "    <tr>\n",
       "      <th>0</th>\n",
       "      <td>Genesis</td>\n",
       "      <td>Moises</td>\n",
       "    </tr>\n",
       "    <tr>\n",
       "      <th>1</th>\n",
       "      <td>Êxodo</td>\n",
       "      <td>Moisés</td>\n",
       "    </tr>\n",
       "    <tr>\n",
       "      <th>2</th>\n",
       "      <td>Levítico</td>\n",
       "      <td>Moisés</td>\n",
       "    </tr>\n",
       "    <tr>\n",
       "      <th>3</th>\n",
       "      <td>Números</td>\n",
       "      <td>Moisés</td>\n",
       "    </tr>\n",
       "    <tr>\n",
       "      <th>4</th>\n",
       "      <td>Deuteronômio</td>\n",
       "      <td>Moisés</td>\n",
       "    </tr>\n",
       "    <tr>\n",
       "      <th>5</th>\n",
       "      <td>Josué</td>\n",
       "      <td>Josué</td>\n",
       "    </tr>\n",
       "    <tr>\n",
       "      <th>6</th>\n",
       "      <td>Juízes</td>\n",
       "      <td>Samuel</td>\n",
       "    </tr>\n",
       "    <tr>\n",
       "      <th>7</th>\n",
       "      <td>Rute</td>\n",
       "      <td>Samuel</td>\n",
       "    </tr>\n",
       "    <tr>\n",
       "      <th>8</th>\n",
       "      <td>1 Samuel</td>\n",
       "      <td>Samuel;Gade;Natã</td>\n",
       "    </tr>\n",
       "    <tr>\n",
       "      <th>9</th>\n",
       "      <td>2 Samuel</td>\n",
       "      <td>Gade;Natã</td>\n",
       "    </tr>\n",
       "    <tr>\n",
       "      <th>10</th>\n",
       "      <td>1 Reis</td>\n",
       "      <td>Jeremias</td>\n",
       "    </tr>\n",
       "    <tr>\n",
       "      <th>11</th>\n",
       "      <td>2 Reis</td>\n",
       "      <td>Jeremias</td>\n",
       "    </tr>\n",
       "    <tr>\n",
       "      <th>12</th>\n",
       "      <td>1 Crônicas</td>\n",
       "      <td>Esdras</td>\n",
       "    </tr>\n",
       "    <tr>\n",
       "      <th>13</th>\n",
       "      <td>2 Crônicas</td>\n",
       "      <td>Esdras</td>\n",
       "    </tr>\n",
       "    <tr>\n",
       "      <th>14</th>\n",
       "      <td>Esdras</td>\n",
       "      <td>Esdras</td>\n",
       "    </tr>\n",
       "    <tr>\n",
       "      <th>15</th>\n",
       "      <td>Neemias</td>\n",
       "      <td>Neemias</td>\n",
       "    </tr>\n",
       "    <tr>\n",
       "      <th>16</th>\n",
       "      <td>Ester</td>\n",
       "      <td>Mordecai</td>\n",
       "    </tr>\n",
       "    <tr>\n",
       "      <th>17</th>\n",
       "      <td>Jó</td>\n",
       "      <td>Moisés</td>\n",
       "    </tr>\n",
       "    <tr>\n",
       "      <th>18</th>\n",
       "      <td>Salmos</td>\n",
       "      <td>Davi;outros</td>\n",
       "    </tr>\n",
       "    <tr>\n",
       "      <th>19</th>\n",
       "      <td>Provérbios</td>\n",
       "      <td>Salomão;Agur;Lemuel</td>\n",
       "    </tr>\n",
       "    <tr>\n",
       "      <th>20</th>\n",
       "      <td>Eclesiastes</td>\n",
       "      <td>Salomão</td>\n",
       "    </tr>\n",
       "    <tr>\n",
       "      <th>21</th>\n",
       "      <td>Cântico_de_Salomão</td>\n",
       "      <td>Salomão</td>\n",
       "    </tr>\n",
       "    <tr>\n",
       "      <th>22</th>\n",
       "      <td>Isaías</td>\n",
       "      <td>Isaías</td>\n",
       "    </tr>\n",
       "    <tr>\n",
       "      <th>23</th>\n",
       "      <td>Jeremias</td>\n",
       "      <td>Jeremias</td>\n",
       "    </tr>\n",
       "    <tr>\n",
       "      <th>24</th>\n",
       "      <td>Lamentações</td>\n",
       "      <td>Jeremias</td>\n",
       "    </tr>\n",
       "    <tr>\n",
       "      <th>25</th>\n",
       "      <td>Ezequiel</td>\n",
       "      <td>Ezequiel</td>\n",
       "    </tr>\n",
       "    <tr>\n",
       "      <th>26</th>\n",
       "      <td>Daniel</td>\n",
       "      <td>Daniel</td>\n",
       "    </tr>\n",
       "    <tr>\n",
       "      <th>27</th>\n",
       "      <td>Oseias</td>\n",
       "      <td>Oseias</td>\n",
       "    </tr>\n",
       "    <tr>\n",
       "      <th>28</th>\n",
       "      <td>Joel</td>\n",
       "      <td>Joel</td>\n",
       "    </tr>\n",
       "    <tr>\n",
       "      <th>29</th>\n",
       "      <td>Amós</td>\n",
       "      <td>Amós</td>\n",
       "    </tr>\n",
       "    <tr>\n",
       "      <th>30</th>\n",
       "      <td>Obadias</td>\n",
       "      <td>Obadias</td>\n",
       "    </tr>\n",
       "    <tr>\n",
       "      <th>31</th>\n",
       "      <td>Jonas</td>\n",
       "      <td>Jonas</td>\n",
       "    </tr>\n",
       "    <tr>\n",
       "      <th>32</th>\n",
       "      <td>Miqueias</td>\n",
       "      <td>Miqueias</td>\n",
       "    </tr>\n",
       "    <tr>\n",
       "      <th>33</th>\n",
       "      <td>Naum</td>\n",
       "      <td>Naum</td>\n",
       "    </tr>\n",
       "    <tr>\n",
       "      <th>34</th>\n",
       "      <td>Habacuque</td>\n",
       "      <td>Habacuque</td>\n",
       "    </tr>\n",
       "    <tr>\n",
       "      <th>35</th>\n",
       "      <td>Sofonias</td>\n",
       "      <td>Sofonias</td>\n",
       "    </tr>\n",
       "    <tr>\n",
       "      <th>36</th>\n",
       "      <td>Ageu</td>\n",
       "      <td>Ageu</td>\n",
       "    </tr>\n",
       "    <tr>\n",
       "      <th>37</th>\n",
       "      <td>Zacarias</td>\n",
       "      <td>Zacarias</td>\n",
       "    </tr>\n",
       "    <tr>\n",
       "      <th>38</th>\n",
       "      <td>Malaquias</td>\n",
       "      <td>Malaquias</td>\n",
       "    </tr>\n",
       "  </tbody>\n",
       "</table>\n",
       "</div>"
      ],
      "text/plain": [
       "                 Livro             Escritor\n",
       "0              Genesis               Moises\n",
       "1                Êxodo               Moisés\n",
       "2             Levítico               Moisés\n",
       "3              Números               Moisés\n",
       "4         Deuteronômio               Moisés\n",
       "5                Josué                Josué\n",
       "6               Juízes               Samuel\n",
       "7                 Rute               Samuel\n",
       "8             1 Samuel     Samuel;Gade;Natã\n",
       "9             2 Samuel            Gade;Natã\n",
       "10              1 Reis             Jeremias\n",
       "11              2 Reis             Jeremias\n",
       "12          1 Crônicas               Esdras\n",
       "13          2 Crônicas               Esdras\n",
       "14              Esdras               Esdras\n",
       "15             Neemias              Neemias\n",
       "16               Ester             Mordecai\n",
       "17                  Jó               Moisés\n",
       "18              Salmos          Davi;outros\n",
       "19          Provérbios  Salomão;Agur;Lemuel\n",
       "20         Eclesiastes              Salomão\n",
       "21  Cântico_de_Salomão              Salomão\n",
       "22              Isaías               Isaías\n",
       "23            Jeremias             Jeremias\n",
       "24         Lamentações             Jeremias\n",
       "25            Ezequiel             Ezequiel\n",
       "26              Daniel               Daniel\n",
       "27              Oseias               Oseias\n",
       "28                Joel                 Joel\n",
       "29                Amós                 Amós\n",
       "30             Obadias              Obadias\n",
       "31               Jonas                Jonas\n",
       "32            Miqueias             Miqueias\n",
       "33                Naum                 Naum\n",
       "34           Habacuque            Habacuque\n",
       "35            Sofonias             Sofonias\n",
       "36                Ageu                 Ageu\n",
       "37            Zacarias             Zacarias\n",
       "38           Malaquias            Malaquias"
      ]
     },
     "metadata": {},
     "output_type": "display_data"
    }
   ],
   "source": [
    "display(biblia_escritores)"
   ]
  },
  {
   "cell_type": "code",
   "execution_count": 71,
   "id": "63bbc328",
   "metadata": {},
   "outputs": [
    {
     "name": "stdout",
     "output_type": "stream",
     "text": [
      "0    1\n",
      "1    2\n",
      "2    3\n",
      "3    4\n",
      "4    5\n",
      "dtype: int64\n"
     ]
    }
   ],
   "source": [
    "\n",
    "print(serie_pandas)"
   ]
  },
  {
   "cell_type": "code",
   "execution_count": 72,
   "id": "0d2aca2e",
   "metadata": {},
   "outputs": [],
   "source": [
    "serie_pandas = pd.Series([1, 2, 3, 4, 5], dtype = 'float')"
   ]
  },
  {
   "cell_type": "code",
   "execution_count": 73,
   "id": "59f68b18",
   "metadata": {},
   "outputs": [
    {
     "name": "stdout",
     "output_type": "stream",
     "text": [
      "0    1.0\n",
      "1    2.0\n",
      "2    3.0\n",
      "3    4.0\n",
      "4    5.0\n",
      "dtype: float64\n"
     ]
    }
   ],
   "source": [
    "print(serie_pandas)"
   ]
  },
  {
   "cell_type": "code",
   "execution_count": 75,
   "id": "f0f31758",
   "metadata": {},
   "outputs": [],
   "source": [
    "serie_pandas = pd.Series(['Azul', 'Amarelo', 'Azul', 'Branco', 'Branco', 'Verde', 'Azul'])"
   ]
  },
  {
   "cell_type": "code",
   "execution_count": 76,
   "id": "986c7f20",
   "metadata": {},
   "outputs": [
    {
     "name": "stdout",
     "output_type": "stream",
     "text": [
      "['Azul' 'Amarelo' 'Branco' 'Verde']\n"
     ]
    }
   ],
   "source": [
    "print(serie_pandas.unique())"
   ]
  },
  {
   "cell_type": "code",
   "execution_count": 80,
   "id": "8f699df6",
   "metadata": {},
   "outputs": [
    {
     "name": "stdout",
     "output_type": "stream",
     "text": [
      "4\n"
     ]
    }
   ],
   "source": [
    "print(serie_pandas.nunique())"
   ]
  },
  {
   "cell_type": "code",
   "execution_count": 81,
   "id": "7a0b5030",
   "metadata": {},
   "outputs": [],
   "source": [
    "serie_pandas = pd.Series([201, 323, 17, 97, 43, 9, 26, 4])"
   ]
  },
  {
   "cell_type": "code",
   "execution_count": 82,
   "id": "8840d7ea",
   "metadata": {},
   "outputs": [
    {
     "name": "stdout",
     "output_type": "stream",
     "text": [
      "1    323\n",
      "0    201\n",
      "3     97\n",
      "dtype: int64\n"
     ]
    }
   ],
   "source": [
    "# Retornar os maiores valores metodo nlargest\n",
    "print(serie_pandas.nlargest(n = 3))"
   ]
  },
  {
   "cell_type": "code",
   "execution_count": 83,
   "id": "7cb4181d",
   "metadata": {},
   "outputs": [
    {
     "name": "stdout",
     "output_type": "stream",
     "text": [
      "7    4\n",
      "5    9\n",
      "dtype: int64\n"
     ]
    }
   ],
   "source": [
    "# Retornar os menores valores metodo nsmallest\n",
    "print(serie_pandas.nsmallest(n = 2))"
   ]
  },
  {
   "cell_type": "code",
   "execution_count": 84,
   "id": "0937195e",
   "metadata": {},
   "outputs": [],
   "source": [
    "serie_pandas = pd.Series(['Azul', 'Amarelo', 'Azul', 'Branco', 'Branco', 'Verde', 'Azul'])"
   ]
  },
  {
   "cell_type": "code",
   "execution_count": 85,
   "id": "8284b3e7",
   "metadata": {},
   "outputs": [
    {
     "name": "stdout",
     "output_type": "stream",
     "text": [
      "Azul       3\n",
      "Branco     2\n",
      "Amarelo    1\n",
      "Verde      1\n",
      "dtype: int64\n"
     ]
    }
   ],
   "source": [
    "print(serie_pandas.value_counts())"
   ]
  },
  {
   "cell_type": "code",
   "execution_count": 86,
   "id": "587fe1e2",
   "metadata": {},
   "outputs": [],
   "source": [
    "serie_pandas = pd.Series([1, 2, 3, np.nan, np.nan])"
   ]
  },
  {
   "cell_type": "code",
   "execution_count": 87,
   "id": "10e7031f",
   "metadata": {},
   "outputs": [
    {
     "name": "stdout",
     "output_type": "stream",
     "text": [
      "2\n"
     ]
    }
   ],
   "source": [
    "# Contagem dos valores NA\n",
    "print(serie_pandas.isna().sum())"
   ]
  },
  {
   "cell_type": "code",
   "execution_count": 88,
   "id": "1c158edd",
   "metadata": {},
   "outputs": [
    {
     "name": "stdout",
     "output_type": "stream",
     "text": [
      "3\n"
     ]
    }
   ],
   "source": [
    "# Fazendo a contagem dos elementos desconsiderando o NA\n",
    "print(serie_pandas.count())"
   ]
  },
  {
   "cell_type": "code",
   "execution_count": 89,
   "id": "cb310670",
   "metadata": {},
   "outputs": [],
   "source": [
    "serie_pandas = pd.Series([1, 2, 3, 4])"
   ]
  },
  {
   "cell_type": "code",
   "execution_count": 90,
   "id": "c452a233",
   "metadata": {},
   "outputs": [
    {
     "name": "stdout",
     "output_type": "stream",
     "text": [
      "0    False\n",
      "1    False\n",
      "2     True\n",
      "3    False\n",
      "dtype: bool\n"
     ]
    }
   ],
   "source": [
    "# Tem algum valor igual a 3?\n",
    "print(serie_pandas.eq(3))"
   ]
  },
  {
   "cell_type": "code",
   "execution_count": 91,
   "id": "4506c9aa",
   "metadata": {},
   "outputs": [
    {
     "name": "stdout",
     "output_type": "stream",
     "text": [
      "0    False\n",
      "1    False\n",
      "2     True\n",
      "3     True\n",
      "dtype: bool\n"
     ]
    }
   ],
   "source": [
    "# Tem valor maior que 2? gt == >\n",
    "print(serie_pandas.gt(2))"
   ]
  },
  {
   "cell_type": "code",
   "execution_count": 92,
   "id": "eacd1da5",
   "metadata": {},
   "outputs": [],
   "source": [
    "serie_pandas = pd.Series([56, 34, 68, 21, 49])"
   ]
  },
  {
   "cell_type": "code",
   "execution_count": 93,
   "id": "9361a714",
   "metadata": {},
   "outputs": [
    {
     "name": "stdout",
     "output_type": "stream",
     "text": [
      "45.6\n"
     ]
    }
   ],
   "source": [
    "print(serie_pandas.mean())"
   ]
  },
  {
   "cell_type": "code",
   "execution_count": 94,
   "id": "8fd401de",
   "metadata": {},
   "outputs": [
    {
     "name": "stdout",
     "output_type": "stream",
     "text": [
      "mean       45.6\n",
      "median     49.0\n",
      "sum       228.0\n",
      "count       5.0\n",
      "dtype: float64\n"
     ]
    }
   ],
   "source": [
    "# Agregando com metodo agg de agregação\n",
    "print(serie_pandas.agg(['mean', 'median', 'sum', 'count']))"
   ]
  }
 ],
 "metadata": {
  "kernelspec": {
   "display_name": "Python 3 (ipykernel)",
   "language": "python",
   "name": "python3"
  },
  "language_info": {
   "codemirror_mode": {
    "name": "ipython",
    "version": 3
   },
   "file_extension": ".py",
   "mimetype": "text/x-python",
   "name": "python",
   "nbconvert_exporter": "python",
   "pygments_lexer": "ipython3",
   "version": "3.9.13"
  }
 },
 "nbformat": 4,
 "nbformat_minor": 5
}
